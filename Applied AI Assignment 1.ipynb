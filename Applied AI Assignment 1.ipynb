{
 "cells": [
  {
   "cell_type": "markdown",
   "id": "d96afdeb",
   "metadata": {},
   "source": [
    "# COMP534 Applied AI Assignment 1 "
   ]
  },
  {
   "cell_type": "markdown",
   "id": "c9f03453",
   "metadata": {},
   "source": [
    "## Name: Balamurugan Purushothaman\n",
    "## Student ID: 201767142"
   ]
  },
  {
   "cell_type": "markdown",
   "id": "844fd9e4",
   "metadata": {},
   "source": [
    "### TASK 1: Run various Machine Learning Algorithms for Classification and tell 3 algorithms which is fine"
   ]
  },
  {
   "cell_type": "markdown",
   "id": "02dcc19e",
   "metadata": {},
   "source": [
    "### The Algorithms are:\n",
    " ###  Logistic Regression\n",
    "### Naïve Bayes\n",
    "### SVM/kernel SVM"
   ]
  },
  {
   "cell_type": "markdown",
   "id": "1413c7de",
   "metadata": {},
   "source": [
    "# For this purpose, we would be running the important libraries and we would be importing the dataset from the local folder \n",
    "This contents would be there in the following cells"
   ]
  },
  {
   "cell_type": "code",
   "execution_count": 1,
   "id": "ebeffd09",
   "metadata": {},
   "outputs": [],
   "source": [
    "# for dataset reading purposes, we would be importing pandas library\n",
    "import pandas as pd\n",
    "# for data manipulation and data preprocessing techniques, numpy is the best as compared to any other library\n",
    "import numpy as np\n",
    "# for plotting the dataset, we would be importing matplotlib and seaborn libraries\n",
    "import seaborn as sns\n",
    "%matplotlib inline\n",
    "import matplotlib.pyplot as plt\n",
    "# for model implementation, we would be discussing about it at later part of the assignment as we would be importing each libraries later"
   ]
  },
  {
   "cell_type": "code",
   "execution_count": 2,
   "id": "617bc7db",
   "metadata": {},
   "outputs": [
    {
     "data": {
      "text/html": [
       "<div>\n",
       "<style scoped>\n",
       "    .dataframe tbody tr th:only-of-type {\n",
       "        vertical-align: middle;\n",
       "    }\n",
       "\n",
       "    .dataframe tbody tr th {\n",
       "        vertical-align: top;\n",
       "    }\n",
       "\n",
       "    .dataframe thead th {\n",
       "        text-align: right;\n",
       "    }\n",
       "</style>\n",
       "<table border=\"1\" class=\"dataframe\">\n",
       "  <thead>\n",
       "    <tr style=\"text-align: right;\">\n",
       "      <th></th>\n",
       "      <th>feature1</th>\n",
       "      <th>feature2</th>\n",
       "      <th>feature3</th>\n",
       "      <th>feature4</th>\n",
       "      <th>feature5</th>\n",
       "      <th>feature6</th>\n",
       "      <th>feature7</th>\n",
       "      <th>feature8</th>\n",
       "      <th>feature9</th>\n",
       "      <th>class</th>\n",
       "    </tr>\n",
       "  </thead>\n",
       "  <tbody>\n",
       "    <tr>\n",
       "      <th>0</th>\n",
       "      <td>5</td>\n",
       "      <td>1</td>\n",
       "      <td>1</td>\n",
       "      <td>1</td>\n",
       "      <td>2</td>\n",
       "      <td>1</td>\n",
       "      <td>3</td>\n",
       "      <td>1</td>\n",
       "      <td>1</td>\n",
       "      <td>0</td>\n",
       "    </tr>\n",
       "    <tr>\n",
       "      <th>1</th>\n",
       "      <td>5</td>\n",
       "      <td>4</td>\n",
       "      <td>4</td>\n",
       "      <td>5</td>\n",
       "      <td>7</td>\n",
       "      <td>10</td>\n",
       "      <td>3</td>\n",
       "      <td>2</td>\n",
       "      <td>1</td>\n",
       "      <td>0</td>\n",
       "    </tr>\n",
       "    <tr>\n",
       "      <th>2</th>\n",
       "      <td>3</td>\n",
       "      <td>1</td>\n",
       "      <td>1</td>\n",
       "      <td>1</td>\n",
       "      <td>2</td>\n",
       "      <td>2</td>\n",
       "      <td>3</td>\n",
       "      <td>1</td>\n",
       "      <td>1</td>\n",
       "      <td>0</td>\n",
       "    </tr>\n",
       "    <tr>\n",
       "      <th>3</th>\n",
       "      <td>6</td>\n",
       "      <td>8</td>\n",
       "      <td>8</td>\n",
       "      <td>1</td>\n",
       "      <td>3</td>\n",
       "      <td>4</td>\n",
       "      <td>3</td>\n",
       "      <td>7</td>\n",
       "      <td>1</td>\n",
       "      <td>0</td>\n",
       "    </tr>\n",
       "    <tr>\n",
       "      <th>4</th>\n",
       "      <td>4</td>\n",
       "      <td>1</td>\n",
       "      <td>1</td>\n",
       "      <td>3</td>\n",
       "      <td>2</td>\n",
       "      <td>1</td>\n",
       "      <td>3</td>\n",
       "      <td>1</td>\n",
       "      <td>1</td>\n",
       "      <td>0</td>\n",
       "    </tr>\n",
       "    <tr>\n",
       "      <th>...</th>\n",
       "      <td>...</td>\n",
       "      <td>...</td>\n",
       "      <td>...</td>\n",
       "      <td>...</td>\n",
       "      <td>...</td>\n",
       "      <td>...</td>\n",
       "      <td>...</td>\n",
       "      <td>...</td>\n",
       "      <td>...</td>\n",
       "      <td>...</td>\n",
       "    </tr>\n",
       "    <tr>\n",
       "      <th>695</th>\n",
       "      <td>2</td>\n",
       "      <td>1</td>\n",
       "      <td>1</td>\n",
       "      <td>1</td>\n",
       "      <td>2</td>\n",
       "      <td>1</td>\n",
       "      <td>1</td>\n",
       "      <td>1</td>\n",
       "      <td>1</td>\n",
       "      <td>0</td>\n",
       "    </tr>\n",
       "    <tr>\n",
       "      <th>696</th>\n",
       "      <td>5</td>\n",
       "      <td>10</td>\n",
       "      <td>10</td>\n",
       "      <td>3</td>\n",
       "      <td>7</td>\n",
       "      <td>3</td>\n",
       "      <td>8</td>\n",
       "      <td>10</td>\n",
       "      <td>2</td>\n",
       "      <td>1</td>\n",
       "    </tr>\n",
       "    <tr>\n",
       "      <th>697</th>\n",
       "      <td>4</td>\n",
       "      <td>8</td>\n",
       "      <td>6</td>\n",
       "      <td>4</td>\n",
       "      <td>3</td>\n",
       "      <td>4</td>\n",
       "      <td>10</td>\n",
       "      <td>6</td>\n",
       "      <td>1</td>\n",
       "      <td>1</td>\n",
       "    </tr>\n",
       "    <tr>\n",
       "      <th>698</th>\n",
       "      <td>4</td>\n",
       "      <td>8</td>\n",
       "      <td>8</td>\n",
       "      <td>5</td>\n",
       "      <td>4</td>\n",
       "      <td>5</td>\n",
       "      <td>10</td>\n",
       "      <td>4</td>\n",
       "      <td>1</td>\n",
       "      <td>1</td>\n",
       "    </tr>\n",
       "    <tr>\n",
       "      <th>699</th>\n",
       "      <td>3</td>\n",
       "      <td>1</td>\n",
       "      <td>1</td>\n",
       "      <td>1</td>\n",
       "      <td>2</td>\n",
       "      <td>1</td>\n",
       "      <td>3</td>\n",
       "      <td>1</td>\n",
       "      <td>1</td>\n",
       "      <td>0</td>\n",
       "    </tr>\n",
       "  </tbody>\n",
       "</table>\n",
       "<p>700 rows × 10 columns</p>\n",
       "</div>"
      ],
      "text/plain": [
       "     feature1  feature2  feature3  feature4  feature5  feature6  feature7  \\\n",
       "0           5         1         1         1         2         1         3   \n",
       "1           5         4         4         5         7        10         3   \n",
       "2           3         1         1         1         2         2         3   \n",
       "3           6         8         8         1         3         4         3   \n",
       "4           4         1         1         3         2         1         3   \n",
       "..        ...       ...       ...       ...       ...       ...       ...   \n",
       "695         2         1         1         1         2         1         1   \n",
       "696         5        10        10         3         7         3         8   \n",
       "697         4         8         6         4         3         4        10   \n",
       "698         4         8         8         5         4         5        10   \n",
       "699         3         1         1         1         2         1         3   \n",
       "\n",
       "     feature8  feature9  class  \n",
       "0           1         1      0  \n",
       "1           2         1      0  \n",
       "2           1         1      0  \n",
       "3           7         1      0  \n",
       "4           1         1      0  \n",
       "..        ...       ...    ...  \n",
       "695         1         1      0  \n",
       "696        10         2      1  \n",
       "697         6         1      1  \n",
       "698         4         1      1  \n",
       "699         1         1      0  \n",
       "\n",
       "[700 rows x 10 columns]"
      ]
     },
     "execution_count": 2,
     "metadata": {},
     "output_type": "execute_result"
    }
   ],
   "source": [
    "# now we are going to read the csv file with the help of pandas library. Pandas library has read_csv function to read the comma separated values file\n",
    "# let name our dataset as 'assignment_1' \n",
    "assignment_1 = pd.read_csv(\"C:/Users/balam/OneDrive/Documents/dataset_assignment1.csv\")\n",
    "assignment_1"
   ]
  },
  {
   "cell_type": "markdown",
   "id": "165819d9",
   "metadata": {},
   "source": [
    "# Now we got the dataset and we re going to do some study regarding the dataset with the help of numpy library.\n",
    "## First of all we get to know the shape and size of the dataset"
   ]
  },
  {
   "cell_type": "code",
   "execution_count": 3,
   "id": "989456dd",
   "metadata": {},
   "outputs": [
    {
     "data": {
      "text/plain": [
       "(700, 10)"
      ]
     },
     "execution_count": 3,
     "metadata": {},
     "output_type": "execute_result"
    }
   ],
   "source": [
    "# as our dataset is \n",
    "assignment_1.shape"
   ]
  },
  {
   "cell_type": "code",
   "execution_count": 4,
   "id": "04fd110e",
   "metadata": {},
   "outputs": [
    {
     "name": "stdout",
     "output_type": "stream",
     "text": [
      "<class 'pandas.core.frame.DataFrame'>\n",
      "RangeIndex: 700 entries, 0 to 699\n",
      "Data columns (total 10 columns):\n",
      " #   Column    Non-Null Count  Dtype\n",
      "---  ------    --------------  -----\n",
      " 0   feature1  700 non-null    int64\n",
      " 1   feature2  700 non-null    int64\n",
      " 2   feature3  700 non-null    int64\n",
      " 3   feature4  700 non-null    int64\n",
      " 4   feature5  700 non-null    int64\n",
      " 5   feature6  700 non-null    int64\n",
      " 6   feature7  700 non-null    int64\n",
      " 7   feature8  700 non-null    int64\n",
      " 8   feature9  700 non-null    int64\n",
      " 9   class     700 non-null    int64\n",
      "dtypes: int64(10)\n",
      "memory usage: 54.8 KB\n"
     ]
    }
   ],
   "source": [
    "# now we are going to info of our dataset using info() function\n",
    "# this function will give me the information of how much missing information each column in the dataset would be having and it would mention what datatype each column is presented...\n",
    "assignment_1.info()"
   ]
  },
  {
   "cell_type": "markdown",
   "id": "bed68d2d",
   "metadata": {},
   "source": [
    "# let me explain what the above output...\n",
    "##  this function shows what kind of datatype each attribute is and how many non-null elements are present in the dataset..\n",
    "# This dataset has 10 columns where last one 'class' is the dependent feature\n",
    "# The features 1-9 are independent features which don't have any null values.\n",
    "# All the 10 features are integer type\n"
   ]
  },
  {
   "cell_type": "markdown",
   "id": "55ee0801",
   "metadata": {},
   "source": [
    "# Now we are going to get maximum, minimum and count of each attributes with the help of describe() function"
   ]
  },
  {
   "cell_type": "code",
   "execution_count": 5,
   "id": "0170ec30",
   "metadata": {},
   "outputs": [
    {
     "data": {
      "text/html": [
       "<div>\n",
       "<style scoped>\n",
       "    .dataframe tbody tr th:only-of-type {\n",
       "        vertical-align: middle;\n",
       "    }\n",
       "\n",
       "    .dataframe tbody tr th {\n",
       "        vertical-align: top;\n",
       "    }\n",
       "\n",
       "    .dataframe thead th {\n",
       "        text-align: right;\n",
       "    }\n",
       "</style>\n",
       "<table border=\"1\" class=\"dataframe\">\n",
       "  <thead>\n",
       "    <tr style=\"text-align: right;\">\n",
       "      <th></th>\n",
       "      <th>feature1</th>\n",
       "      <th>feature2</th>\n",
       "      <th>feature3</th>\n",
       "      <th>feature4</th>\n",
       "      <th>feature5</th>\n",
       "      <th>feature6</th>\n",
       "      <th>feature7</th>\n",
       "      <th>feature8</th>\n",
       "      <th>feature9</th>\n",
       "      <th>class</th>\n",
       "    </tr>\n",
       "  </thead>\n",
       "  <tbody>\n",
       "    <tr>\n",
       "      <th>count</th>\n",
       "      <td>700.000000</td>\n",
       "      <td>700.000000</td>\n",
       "      <td>700.000000</td>\n",
       "      <td>700.000000</td>\n",
       "      <td>700.000000</td>\n",
       "      <td>700.000000</td>\n",
       "      <td>700.000000</td>\n",
       "      <td>700.000000</td>\n",
       "      <td>700.000000</td>\n",
       "      <td>700.000000</td>\n",
       "    </tr>\n",
       "    <tr>\n",
       "      <th>mean</th>\n",
       "      <td>4.415714</td>\n",
       "      <td>3.131429</td>\n",
       "      <td>3.204286</td>\n",
       "      <td>2.804286</td>\n",
       "      <td>3.214286</td>\n",
       "      <td>3.557143</td>\n",
       "      <td>3.437143</td>\n",
       "      <td>2.864286</td>\n",
       "      <td>1.588571</td>\n",
       "      <td>0.344286</td>\n",
       "    </tr>\n",
       "    <tr>\n",
       "      <th>std</th>\n",
       "      <td>2.814236</td>\n",
       "      <td>3.050343</td>\n",
       "      <td>2.970958</td>\n",
       "      <td>2.854153</td>\n",
       "      <td>2.213193</td>\n",
       "      <td>3.613026</td>\n",
       "      <td>2.436676</td>\n",
       "      <td>3.052265</td>\n",
       "      <td>1.713995</td>\n",
       "      <td>0.475475</td>\n",
       "    </tr>\n",
       "    <tr>\n",
       "      <th>min</th>\n",
       "      <td>1.000000</td>\n",
       "      <td>1.000000</td>\n",
       "      <td>1.000000</td>\n",
       "      <td>1.000000</td>\n",
       "      <td>1.000000</td>\n",
       "      <td>1.000000</td>\n",
       "      <td>1.000000</td>\n",
       "      <td>1.000000</td>\n",
       "      <td>1.000000</td>\n",
       "      <td>0.000000</td>\n",
       "    </tr>\n",
       "    <tr>\n",
       "      <th>25%</th>\n",
       "      <td>2.000000</td>\n",
       "      <td>1.000000</td>\n",
       "      <td>1.000000</td>\n",
       "      <td>1.000000</td>\n",
       "      <td>2.000000</td>\n",
       "      <td>1.000000</td>\n",
       "      <td>2.000000</td>\n",
       "      <td>1.000000</td>\n",
       "      <td>1.000000</td>\n",
       "      <td>0.000000</td>\n",
       "    </tr>\n",
       "    <tr>\n",
       "      <th>50%</th>\n",
       "      <td>4.000000</td>\n",
       "      <td>1.000000</td>\n",
       "      <td>1.000000</td>\n",
       "      <td>1.000000</td>\n",
       "      <td>2.000000</td>\n",
       "      <td>1.000000</td>\n",
       "      <td>3.000000</td>\n",
       "      <td>1.000000</td>\n",
       "      <td>1.000000</td>\n",
       "      <td>0.000000</td>\n",
       "    </tr>\n",
       "    <tr>\n",
       "      <th>75%</th>\n",
       "      <td>6.000000</td>\n",
       "      <td>5.000000</td>\n",
       "      <td>5.000000</td>\n",
       "      <td>4.000000</td>\n",
       "      <td>4.000000</td>\n",
       "      <td>6.000000</td>\n",
       "      <td>5.000000</td>\n",
       "      <td>4.000000</td>\n",
       "      <td>1.000000</td>\n",
       "      <td>1.000000</td>\n",
       "    </tr>\n",
       "    <tr>\n",
       "      <th>max</th>\n",
       "      <td>10.000000</td>\n",
       "      <td>10.000000</td>\n",
       "      <td>10.000000</td>\n",
       "      <td>10.000000</td>\n",
       "      <td>10.000000</td>\n",
       "      <td>10.000000</td>\n",
       "      <td>10.000000</td>\n",
       "      <td>10.000000</td>\n",
       "      <td>10.000000</td>\n",
       "      <td>1.000000</td>\n",
       "    </tr>\n",
       "  </tbody>\n",
       "</table>\n",
       "</div>"
      ],
      "text/plain": [
       "         feature1    feature2    feature3    feature4    feature5    feature6  \\\n",
       "count  700.000000  700.000000  700.000000  700.000000  700.000000  700.000000   \n",
       "mean     4.415714    3.131429    3.204286    2.804286    3.214286    3.557143   \n",
       "std      2.814236    3.050343    2.970958    2.854153    2.213193    3.613026   \n",
       "min      1.000000    1.000000    1.000000    1.000000    1.000000    1.000000   \n",
       "25%      2.000000    1.000000    1.000000    1.000000    2.000000    1.000000   \n",
       "50%      4.000000    1.000000    1.000000    1.000000    2.000000    1.000000   \n",
       "75%      6.000000    5.000000    5.000000    4.000000    4.000000    6.000000   \n",
       "max     10.000000   10.000000   10.000000   10.000000   10.000000   10.000000   \n",
       "\n",
       "         feature7    feature8    feature9       class  \n",
       "count  700.000000  700.000000  700.000000  700.000000  \n",
       "mean     3.437143    2.864286    1.588571    0.344286  \n",
       "std      2.436676    3.052265    1.713995    0.475475  \n",
       "min      1.000000    1.000000    1.000000    0.000000  \n",
       "25%      2.000000    1.000000    1.000000    0.000000  \n",
       "50%      3.000000    1.000000    1.000000    0.000000  \n",
       "75%      5.000000    4.000000    1.000000    1.000000  \n",
       "max     10.000000   10.000000   10.000000    1.000000  "
      ]
     },
     "execution_count": 5,
     "metadata": {},
     "output_type": "execute_result"
    }
   ],
   "source": [
    "assignment_1.describe()"
   ]
  },
  {
   "cell_type": "code",
   "execution_count": 6,
   "id": "de4cc215",
   "metadata": {},
   "outputs": [
    {
     "data": {
      "text/plain": [
       "array([0, 1], dtype=int64)"
      ]
     },
     "execution_count": 6,
     "metadata": {},
     "output_type": "execute_result"
    }
   ],
   "source": [
    "# for the purpose of checking how many classes are there in the output variable, we are using unique() function to get the output\n",
    "assignment_1['class'].unique()"
   ]
  },
  {
   "cell_type": "code",
   "execution_count": 7,
   "id": "726aa446",
   "metadata": {},
   "outputs": [],
   "source": [
    "# now I am going to split the dataset with the help of sklearn \n",
    "from sklearn.model_selection import train_test_split"
   ]
  },
  {
   "cell_type": "markdown",
   "id": "05594283",
   "metadata": {},
   "source": [
    "#  for our coding purpose, we would be converting our dataset into DataFrame with the help of Pandas"
   ]
  },
  {
   "cell_type": "code",
   "execution_count": 8,
   "id": "4e63e26c",
   "metadata": {},
   "outputs": [],
   "source": [
    "assignment = pd.DataFrame(assignment_1)"
   ]
  },
  {
   "cell_type": "code",
   "execution_count": 9,
   "id": "c1ca655f",
   "metadata": {},
   "outputs": [
    {
     "data": {
      "text/html": [
       "<div>\n",
       "<style scoped>\n",
       "    .dataframe tbody tr th:only-of-type {\n",
       "        vertical-align: middle;\n",
       "    }\n",
       "\n",
       "    .dataframe tbody tr th {\n",
       "        vertical-align: top;\n",
       "    }\n",
       "\n",
       "    .dataframe thead th {\n",
       "        text-align: right;\n",
       "    }\n",
       "</style>\n",
       "<table border=\"1\" class=\"dataframe\">\n",
       "  <thead>\n",
       "    <tr style=\"text-align: right;\">\n",
       "      <th></th>\n",
       "      <th>feature1</th>\n",
       "      <th>feature2</th>\n",
       "      <th>feature3</th>\n",
       "      <th>feature4</th>\n",
       "      <th>feature5</th>\n",
       "      <th>feature6</th>\n",
       "      <th>feature7</th>\n",
       "      <th>feature8</th>\n",
       "      <th>feature9</th>\n",
       "      <th>class</th>\n",
       "    </tr>\n",
       "  </thead>\n",
       "  <tbody>\n",
       "    <tr>\n",
       "      <th>0</th>\n",
       "      <td>5</td>\n",
       "      <td>1</td>\n",
       "      <td>1</td>\n",
       "      <td>1</td>\n",
       "      <td>2</td>\n",
       "      <td>1</td>\n",
       "      <td>3</td>\n",
       "      <td>1</td>\n",
       "      <td>1</td>\n",
       "      <td>0</td>\n",
       "    </tr>\n",
       "    <tr>\n",
       "      <th>1</th>\n",
       "      <td>5</td>\n",
       "      <td>4</td>\n",
       "      <td>4</td>\n",
       "      <td>5</td>\n",
       "      <td>7</td>\n",
       "      <td>10</td>\n",
       "      <td>3</td>\n",
       "      <td>2</td>\n",
       "      <td>1</td>\n",
       "      <td>0</td>\n",
       "    </tr>\n",
       "    <tr>\n",
       "      <th>2</th>\n",
       "      <td>3</td>\n",
       "      <td>1</td>\n",
       "      <td>1</td>\n",
       "      <td>1</td>\n",
       "      <td>2</td>\n",
       "      <td>2</td>\n",
       "      <td>3</td>\n",
       "      <td>1</td>\n",
       "      <td>1</td>\n",
       "      <td>0</td>\n",
       "    </tr>\n",
       "    <tr>\n",
       "      <th>3</th>\n",
       "      <td>6</td>\n",
       "      <td>8</td>\n",
       "      <td>8</td>\n",
       "      <td>1</td>\n",
       "      <td>3</td>\n",
       "      <td>4</td>\n",
       "      <td>3</td>\n",
       "      <td>7</td>\n",
       "      <td>1</td>\n",
       "      <td>0</td>\n",
       "    </tr>\n",
       "    <tr>\n",
       "      <th>4</th>\n",
       "      <td>4</td>\n",
       "      <td>1</td>\n",
       "      <td>1</td>\n",
       "      <td>3</td>\n",
       "      <td>2</td>\n",
       "      <td>1</td>\n",
       "      <td>3</td>\n",
       "      <td>1</td>\n",
       "      <td>1</td>\n",
       "      <td>0</td>\n",
       "    </tr>\n",
       "    <tr>\n",
       "      <th>...</th>\n",
       "      <td>...</td>\n",
       "      <td>...</td>\n",
       "      <td>...</td>\n",
       "      <td>...</td>\n",
       "      <td>...</td>\n",
       "      <td>...</td>\n",
       "      <td>...</td>\n",
       "      <td>...</td>\n",
       "      <td>...</td>\n",
       "      <td>...</td>\n",
       "    </tr>\n",
       "    <tr>\n",
       "      <th>695</th>\n",
       "      <td>2</td>\n",
       "      <td>1</td>\n",
       "      <td>1</td>\n",
       "      <td>1</td>\n",
       "      <td>2</td>\n",
       "      <td>1</td>\n",
       "      <td>1</td>\n",
       "      <td>1</td>\n",
       "      <td>1</td>\n",
       "      <td>0</td>\n",
       "    </tr>\n",
       "    <tr>\n",
       "      <th>696</th>\n",
       "      <td>5</td>\n",
       "      <td>10</td>\n",
       "      <td>10</td>\n",
       "      <td>3</td>\n",
       "      <td>7</td>\n",
       "      <td>3</td>\n",
       "      <td>8</td>\n",
       "      <td>10</td>\n",
       "      <td>2</td>\n",
       "      <td>1</td>\n",
       "    </tr>\n",
       "    <tr>\n",
       "      <th>697</th>\n",
       "      <td>4</td>\n",
       "      <td>8</td>\n",
       "      <td>6</td>\n",
       "      <td>4</td>\n",
       "      <td>3</td>\n",
       "      <td>4</td>\n",
       "      <td>10</td>\n",
       "      <td>6</td>\n",
       "      <td>1</td>\n",
       "      <td>1</td>\n",
       "    </tr>\n",
       "    <tr>\n",
       "      <th>698</th>\n",
       "      <td>4</td>\n",
       "      <td>8</td>\n",
       "      <td>8</td>\n",
       "      <td>5</td>\n",
       "      <td>4</td>\n",
       "      <td>5</td>\n",
       "      <td>10</td>\n",
       "      <td>4</td>\n",
       "      <td>1</td>\n",
       "      <td>1</td>\n",
       "    </tr>\n",
       "    <tr>\n",
       "      <th>699</th>\n",
       "      <td>3</td>\n",
       "      <td>1</td>\n",
       "      <td>1</td>\n",
       "      <td>1</td>\n",
       "      <td>2</td>\n",
       "      <td>1</td>\n",
       "      <td>3</td>\n",
       "      <td>1</td>\n",
       "      <td>1</td>\n",
       "      <td>0</td>\n",
       "    </tr>\n",
       "  </tbody>\n",
       "</table>\n",
       "<p>700 rows × 10 columns</p>\n",
       "</div>"
      ],
      "text/plain": [
       "     feature1  feature2  feature3  feature4  feature5  feature6  feature7  \\\n",
       "0           5         1         1         1         2         1         3   \n",
       "1           5         4         4         5         7        10         3   \n",
       "2           3         1         1         1         2         2         3   \n",
       "3           6         8         8         1         3         4         3   \n",
       "4           4         1         1         3         2         1         3   \n",
       "..        ...       ...       ...       ...       ...       ...       ...   \n",
       "695         2         1         1         1         2         1         1   \n",
       "696         5        10        10         3         7         3         8   \n",
       "697         4         8         6         4         3         4        10   \n",
       "698         4         8         8         5         4         5        10   \n",
       "699         3         1         1         1         2         1         3   \n",
       "\n",
       "     feature8  feature9  class  \n",
       "0           1         1      0  \n",
       "1           2         1      0  \n",
       "2           1         1      0  \n",
       "3           7         1      0  \n",
       "4           1         1      0  \n",
       "..        ...       ...    ...  \n",
       "695         1         1      0  \n",
       "696        10         2      1  \n",
       "697         6         1      1  \n",
       "698         4         1      1  \n",
       "699         1         1      0  \n",
       "\n",
       "[700 rows x 10 columns]"
      ]
     },
     "execution_count": 9,
     "metadata": {},
     "output_type": "execute_result"
    }
   ],
   "source": [
    "assignment"
   ]
  },
  {
   "cell_type": "code",
   "execution_count": 10,
   "id": "e0c623aa",
   "metadata": {},
   "outputs": [
    {
     "data": {
      "text/plain": [
       "array([0, 0, 0, 0, 0, 1, 0, 0, 0, 0, 0, 0, 1, 0, 1, 1, 0, 0, 1, 0, 1, 1,\n",
       "       0, 1, 0, 1, 0, 0, 0, 0, 0, 0, 1, 0, 0, 0, 1, 0, 1, 1, 0, 1, 1, 1,\n",
       "       1, 0, 1, 0, 0, 1, 1, 1, 1, 1, 1, 1, 1, 1, 1, 1, 1, 0, 1, 1, 0, 1,\n",
       "       0, 1, 1, 0, 0, 1, 0, 1, 1, 0, 0, 0, 0, 0, 0, 0, 0, 0, 1, 1, 1, 1,\n",
       "       0, 0, 0, 0, 0, 0, 0, 0, 0, 0, 1, 1, 1, 1, 0, 1, 1, 1, 1, 1, 0, 1,\n",
       "       0, 1, 1, 1, 0, 0, 0, 1, 0, 0, 0, 0, 1, 1, 1, 0, 1, 0, 1, 0, 0, 0,\n",
       "       1, 0, 0, 0, 0, 0, 0, 0, 0, 0, 1, 0, 0, 0, 1, 0, 0, 1, 0, 1, 1, 0,\n",
       "       0, 1, 0, 0, 0, 1, 1, 0, 0, 0, 0, 0, 1, 1, 0, 0, 0, 0, 0, 1, 1, 1,\n",
       "       0, 1, 0, 1, 0, 0, 0, 1, 1, 0, 1, 1, 1, 0, 1, 1, 0, 0, 0, 0, 0, 0,\n",
       "       0, 0, 1, 1, 0, 0, 0, 1, 1, 0, 0, 0, 1, 1, 0, 1, 1, 1, 0, 0, 1, 0,\n",
       "       0, 1, 1, 1, 1, 0, 1, 1, 0, 1, 1, 1, 0, 1, 0, 0, 1, 1, 1, 1, 0, 0,\n",
       "       0, 0, 0, 0, 1, 1, 0, 0, 0, 1, 0, 1, 1, 1, 0, 0, 0, 0, 1, 1, 1, 1,\n",
       "       1, 0, 1, 1, 1, 0, 1, 0, 1, 1, 0, 0, 0, 0, 0, 1, 0, 0, 1, 1, 1, 1,\n",
       "       1, 0, 1, 1, 0, 0, 1, 1, 0, 1, 0, 0, 0, 1, 1, 0, 1, 0, 1, 1, 0, 0,\n",
       "       1, 0, 0, 0, 1, 0, 0, 0, 1, 1, 0, 0, 1, 0, 0, 1, 0, 0, 1, 0, 1, 1,\n",
       "       1, 0, 0, 1, 1, 0, 1, 0, 0, 1, 1, 0, 0, 0, 1, 0, 0, 0, 1, 1, 0, 0,\n",
       "       0, 1, 0, 0, 1, 1, 1, 1, 1, 1, 0, 0, 0, 0, 1, 1, 0, 0, 0, 0, 0, 0,\n",
       "       0, 0, 0, 0, 0, 0, 0, 1, 0, 0, 0, 0, 1, 0, 0, 0, 0, 1, 0, 0, 0, 0,\n",
       "       0, 0, 0, 0, 1, 0, 0, 0, 0, 0, 0, 0, 0, 0, 0, 0, 1, 0, 1, 0, 1, 0,\n",
       "       0, 0, 0, 1, 0, 0, 0, 1, 0, 1, 0, 0, 0, 0, 0, 0, 0, 1, 1, 0, 0, 0,\n",
       "       1, 0, 0, 0, 0, 0, 0, 0, 0, 1, 0, 0, 0, 1, 0, 1, 1, 1, 0, 0, 0, 0,\n",
       "       0, 0, 0, 1, 1, 1, 0, 0, 0, 0, 0, 0, 0, 0, 0, 0, 0, 1, 0, 0, 1, 1,\n",
       "       0, 0, 0, 1, 1, 1, 0, 1, 0, 1, 0, 0, 0, 0, 0, 0, 0, 0, 0, 0, 0, 0,\n",
       "       1, 0, 0, 0, 0, 0, 0, 0, 1, 1, 0, 0, 0, 1, 0, 0, 1, 1, 0, 0, 0, 0,\n",
       "       0, 0, 1, 0, 0, 0, 0, 0, 0, 0, 0, 0, 0, 0, 0, 0, 0, 0, 1, 0, 0, 1,\n",
       "       0, 0, 0, 0, 0, 0, 0, 0, 0, 0, 0, 0, 0, 0, 0, 1, 0, 0, 1, 1, 1, 1,\n",
       "       0, 0, 1, 0, 0, 0, 0, 0, 0, 1, 1, 0, 0, 0, 1, 0, 1, 0, 1, 1, 1, 0,\n",
       "       1, 0, 0, 0, 0, 0, 0, 0, 0, 1, 1, 1, 0, 0, 1, 0, 1, 1, 1, 0, 0, 0,\n",
       "       0, 0, 0, 0, 0, 0, 0, 0, 0, 0, 1, 0, 0, 0, 0, 0, 0, 1, 0, 0, 1, 0,\n",
       "       0, 0, 0, 0, 0, 0, 0, 0, 0, 0, 1, 0, 0, 0, 0, 0, 0, 0, 0, 0, 1, 0,\n",
       "       0, 0, 0, 0, 0, 0, 0, 0, 1, 1, 1, 0, 0, 0, 0, 0, 0, 0, 0, 0, 1, 1,\n",
       "       0, 0, 0, 0, 0, 0, 0, 0, 0, 1, 0, 0, 0, 0, 1, 1, 1, 0], dtype=int64)"
      ]
     },
     "execution_count": 10,
     "metadata": {},
     "output_type": "execute_result"
    }
   ],
   "source": [
    "Y = assignment['class'].values\n",
    "Y"
   ]
  },
  {
   "cell_type": "code",
   "execution_count": 11,
   "id": "2ddf1efd",
   "metadata": {},
   "outputs": [],
   "source": [
    "# now we are going to take the values for X, For that we are going to take the first 9 features and not the last output column.."
   ]
  },
  {
   "cell_type": "code",
   "execution_count": 12,
   "id": "93668195",
   "metadata": {},
   "outputs": [
    {
     "data": {
      "text/plain": [
       "array([[ 5,  1,  1, ...,  3,  1,  1],\n",
       "       [ 5,  4,  4, ...,  3,  2,  1],\n",
       "       [ 3,  1,  1, ...,  3,  1,  1],\n",
       "       ...,\n",
       "       [ 4,  8,  6, ..., 10,  6,  1],\n",
       "       [ 4,  8,  8, ..., 10,  4,  1],\n",
       "       [ 3,  1,  1, ...,  3,  1,  1]], dtype=int64)"
      ]
     },
     "execution_count": 12,
     "metadata": {},
     "output_type": "execute_result"
    }
   ],
   "source": [
    "X = assignment.iloc[:,:-1].values\n",
    "X"
   ]
  },
  {
   "cell_type": "code",
   "execution_count": 13,
   "id": "d98899ed",
   "metadata": {},
   "outputs": [],
   "source": [
    "# iloc function will take the column indexes and -1 mentions that the columns of all features excluding class column..."
   ]
  },
  {
   "cell_type": "code",
   "execution_count": 14,
   "id": "2d004fe4",
   "metadata": {},
   "outputs": [
    {
     "name": "stdout",
     "output_type": "stream",
     "text": [
      "[[ 5  1  1 ...  3  1  1]\n",
      " [ 5  4  4 ...  3  2  1]\n",
      " [ 3  1  1 ...  3  1  1]\n",
      " ...\n",
      " [ 4  8  6 ... 10  6  1]\n",
      " [ 4  8  8 ... 10  4  1]\n",
      " [ 3  1  1 ...  3  1  1]]\n"
     ]
    }
   ],
   "source": [
    "print(X)"
   ]
  },
  {
   "cell_type": "code",
   "execution_count": 15,
   "id": "e7b85f99",
   "metadata": {},
   "outputs": [
    {
     "name": "stdout",
     "output_type": "stream",
     "text": [
      "(560, 9)\n",
      "(140, 9)\n",
      "(560,)\n",
      "(140,)\n"
     ]
    }
   ],
   "source": [
    "# the following line would help us to split the dataset into training and testing\n",
    "X_train,X_test,Y_train,Y_test = train_test_split(X,Y,test_size=0.2,random_state=0)\n",
    "# let's explain the parameters \n",
    "## X- Training Dataset\n",
    "## Y- Testing Dataset\n",
    "## test_size = tells how much the dataset is splitted into training and testing..\n",
    "## test_size = 0.2 ensures that the 20% of dataset is divided for testing and remaining 80% of the dataset is divided for training\n",
    "## random_state(optional) = this variable ensures that no matter how much time you split the dataset, it will be taking the same value again and again \n",
    "# the following line prints the shape of the X_Training dataset\n",
    "print(X_train.shape)\n",
    "# the following line prints the shape of X_testing dataset\n",
    "print(X_test.shape)\n",
    "# the following line prints the shape of Y_Training dataset\n",
    "print(Y_train.shape)\n",
    "# the following line prints the shape of Y_testing dataset\n",
    "print(Y_test.shape)"
   ]
  },
  {
   "cell_type": "code",
   "execution_count": 16,
   "id": "123df03a",
   "metadata": {},
   "outputs": [],
   "source": [
    "# now I am going to implement the basic linear regression modeL \n",
    "# with the help of the library sklearn.linear_model, we can import linearregression\n",
    "from sklearn.linear_model import LogisticRegression"
   ]
  },
  {
   "cell_type": "code",
   "execution_count": 17,
   "id": "ed6683fe",
   "metadata": {},
   "outputs": [],
   "source": [
    "# now I am going to create a object for the LinearRegression model\n",
    "lr = LogisticRegression()"
   ]
  },
  {
   "cell_type": "code",
   "execution_count": 18,
   "id": "dd13f386",
   "metadata": {},
   "outputs": [
    {
     "data": {
      "text/html": [
       "<style>#sk-container-id-1 {color: black;}#sk-container-id-1 pre{padding: 0;}#sk-container-id-1 div.sk-toggleable {background-color: white;}#sk-container-id-1 label.sk-toggleable__label {cursor: pointer;display: block;width: 100%;margin-bottom: 0;padding: 0.3em;box-sizing: border-box;text-align: center;}#sk-container-id-1 label.sk-toggleable__label-arrow:before {content: \"▸\";float: left;margin-right: 0.25em;color: #696969;}#sk-container-id-1 label.sk-toggleable__label-arrow:hover:before {color: black;}#sk-container-id-1 div.sk-estimator:hover label.sk-toggleable__label-arrow:before {color: black;}#sk-container-id-1 div.sk-toggleable__content {max-height: 0;max-width: 0;overflow: hidden;text-align: left;background-color: #f0f8ff;}#sk-container-id-1 div.sk-toggleable__content pre {margin: 0.2em;color: black;border-radius: 0.25em;background-color: #f0f8ff;}#sk-container-id-1 input.sk-toggleable__control:checked~div.sk-toggleable__content {max-height: 200px;max-width: 100%;overflow: auto;}#sk-container-id-1 input.sk-toggleable__control:checked~label.sk-toggleable__label-arrow:before {content: \"▾\";}#sk-container-id-1 div.sk-estimator input.sk-toggleable__control:checked~label.sk-toggleable__label {background-color: #d4ebff;}#sk-container-id-1 div.sk-label input.sk-toggleable__control:checked~label.sk-toggleable__label {background-color: #d4ebff;}#sk-container-id-1 input.sk-hidden--visually {border: 0;clip: rect(1px 1px 1px 1px);clip: rect(1px, 1px, 1px, 1px);height: 1px;margin: -1px;overflow: hidden;padding: 0;position: absolute;width: 1px;}#sk-container-id-1 div.sk-estimator {font-family: monospace;background-color: #f0f8ff;border: 1px dotted black;border-radius: 0.25em;box-sizing: border-box;margin-bottom: 0.5em;}#sk-container-id-1 div.sk-estimator:hover {background-color: #d4ebff;}#sk-container-id-1 div.sk-parallel-item::after {content: \"\";width: 100%;border-bottom: 1px solid gray;flex-grow: 1;}#sk-container-id-1 div.sk-label:hover label.sk-toggleable__label {background-color: #d4ebff;}#sk-container-id-1 div.sk-serial::before {content: \"\";position: absolute;border-left: 1px solid gray;box-sizing: border-box;top: 0;bottom: 0;left: 50%;z-index: 0;}#sk-container-id-1 div.sk-serial {display: flex;flex-direction: column;align-items: center;background-color: white;padding-right: 0.2em;padding-left: 0.2em;position: relative;}#sk-container-id-1 div.sk-item {position: relative;z-index: 1;}#sk-container-id-1 div.sk-parallel {display: flex;align-items: stretch;justify-content: center;background-color: white;position: relative;}#sk-container-id-1 div.sk-item::before, #sk-container-id-1 div.sk-parallel-item::before {content: \"\";position: absolute;border-left: 1px solid gray;box-sizing: border-box;top: 0;bottom: 0;left: 50%;z-index: -1;}#sk-container-id-1 div.sk-parallel-item {display: flex;flex-direction: column;z-index: 1;position: relative;background-color: white;}#sk-container-id-1 div.sk-parallel-item:first-child::after {align-self: flex-end;width: 50%;}#sk-container-id-1 div.sk-parallel-item:last-child::after {align-self: flex-start;width: 50%;}#sk-container-id-1 div.sk-parallel-item:only-child::after {width: 0;}#sk-container-id-1 div.sk-dashed-wrapped {border: 1px dashed gray;margin: 0 0.4em 0.5em 0.4em;box-sizing: border-box;padding-bottom: 0.4em;background-color: white;}#sk-container-id-1 div.sk-label label {font-family: monospace;font-weight: bold;display: inline-block;line-height: 1.2em;}#sk-container-id-1 div.sk-label-container {text-align: center;}#sk-container-id-1 div.sk-container {/* jupyter's `normalize.less` sets `[hidden] { display: none; }` but bootstrap.min.css set `[hidden] { display: none !important; }` so we also need the `!important` here to be able to override the default hidden behavior on the sphinx rendered scikit-learn.org. See: https://github.com/scikit-learn/scikit-learn/issues/21755 */display: inline-block !important;position: relative;}#sk-container-id-1 div.sk-text-repr-fallback {display: none;}</style><div id=\"sk-container-id-1\" class=\"sk-top-container\"><div class=\"sk-text-repr-fallback\"><pre>LogisticRegression()</pre><b>In a Jupyter environment, please rerun this cell to show the HTML representation or trust the notebook. <br />On GitHub, the HTML representation is unable to render, please try loading this page with nbviewer.org.</b></div><div class=\"sk-container\" hidden><div class=\"sk-item\"><div class=\"sk-estimator sk-toggleable\"><input class=\"sk-toggleable__control sk-hidden--visually\" id=\"sk-estimator-id-1\" type=\"checkbox\" checked><label for=\"sk-estimator-id-1\" class=\"sk-toggleable__label sk-toggleable__label-arrow\">LogisticRegression</label><div class=\"sk-toggleable__content\"><pre>LogisticRegression()</pre></div></div></div></div></div>"
      ],
      "text/plain": [
       "LogisticRegression()"
      ]
     },
     "execution_count": 18,
     "metadata": {},
     "output_type": "execute_result"
    }
   ],
   "source": [
    "# now I am going to fit the Linear Regression model with X_train and Y_train\n",
    "lr.fit(X_train,Y_train)"
   ]
  },
  {
   "cell_type": "code",
   "execution_count": 19,
   "id": "d0f9fa18",
   "metadata": {},
   "outputs": [],
   "source": [
    "# now I am going to make my model to predict for the X_Test part and I am going to store it y_predicted\n",
    "y_predicted = lr.predict(X_test)"
   ]
  },
  {
   "cell_type": "code",
   "execution_count": 20,
   "id": "1b09ec36",
   "metadata": {},
   "outputs": [],
   "source": [
    "# now y_predicted part will give the values that linear regression has generated\n",
    "# we are going to generate classification report,scores of accuracy, precision, recall and F1 score using sklearn.metrics\n",
    "from sklearn.metrics import classification_report,accuracy_score,precision_score,recall_score,precision_recall_curve"
   ]
  },
  {
   "cell_type": "code",
   "execution_count": 21,
   "id": "e1948fa5",
   "metadata": {},
   "outputs": [],
   "source": [
    "# I am going to define a function that will be applicable for all the models  such that I won't be calling it again and again...\n",
    "def accuracy_recall_precision(X_T,y_T):\n",
    "    # printing accuracy score...\n",
    "    print(f\"Accuracy Score: \",accuracy_score(X_T,y_T))\n",
    "    # printing recall score...\n",
    "    print(f\"Recall Score: \",accuracy_score(X_T,y_T))\n",
    "    # printing precision score...\n",
    "    print(f\"Precision Score: \",accuracy_score(X_T,y_T))\n",
    "    # printing F1-Score....\n",
    "    print(f\"F1-score: \",accuracy_score(X_T,y_T))\n",
    "    # printing classification report (which shows accuracy, precision, recall and support parameters)\n",
    "    print(f\"Classification Report: \",classification_report(X_T,y_T))\n",
    "    # support = this parameter tells us how much each values are strong enough to be true..."
   ]
  },
  {
   "cell_type": "code",
   "execution_count": 22,
   "id": "4c271b94",
   "metadata": {},
   "outputs": [
    {
     "name": "stdout",
     "output_type": "stream",
     "text": [
      "Accuracy Score:  0.9642857142857143\n",
      "Recall Score:  0.9642857142857143\n",
      "Precision Score:  0.9642857142857143\n",
      "F1-score:  0.9642857142857143\n",
      "Classification Report:                precision    recall  f1-score   support\n",
      "\n",
      "           0       0.98      0.97      0.97        86\n",
      "           1       0.95      0.96      0.95        54\n",
      "\n",
      "    accuracy                           0.96       140\n",
      "   macro avg       0.96      0.96      0.96       140\n",
      "weighted avg       0.96      0.96      0.96       140\n",
      "\n"
     ]
    }
   ],
   "source": [
    "accuracy_recall_precision(Y_test,y_predicted)"
   ]
  },
  {
   "cell_type": "code",
   "execution_count": 23,
   "id": "8da945c2",
   "metadata": {},
   "outputs": [],
   "source": [
    "# for plotting confusion matrix, I am importing metrics package from sklearn library..\n",
    "from sklearn.metrics import confusion_matrix"
   ]
  },
  {
   "cell_type": "code",
   "execution_count": 24,
   "id": "6df2b3c6",
   "metadata": {},
   "outputs": [],
   "source": [
    "# I am going to create a function for confusion matrix such that I don't want to call the confusion matrix parameters again...\n",
    "def confusion_matrix_for_classification(Y_t,Y_Prediction,algorithm):\n",
    "    # creating a object for confusion matrix with Y_t as Y_test and Y_Prediction as Y_pred variable..\n",
    "    CM=confusion_matrix(Y_t,Y_Prediction)\n",
    "    # ax1 will be storing subplot for the following confusion matrix..\n",
    "    ax1 = plt.subplot()\n",
    "    # inorder to view the confusion matrix better, I am going to plot with the help of heatmap....\n",
    "    sns.heatmap(CM,annot=True,cmap=\"Blues\",fmt='g',ax=ax1)\n",
    "    # setting the title with the help set_title algorithm...\n",
    "    ax1.set_title(algorithm)\n",
    "    # setting x label with the help of set_xlabel...\n",
    "    ax1.set_xlabel('Predicted Labels')\n",
    "    # setting y label with the help of set_ylabel....\n",
    "    ax1.set_ylabel('True Labels')"
   ]
  },
  {
   "cell_type": "code",
   "execution_count": 25,
   "id": "578541f0",
   "metadata": {},
   "outputs": [
    {
     "data": {
      "image/png": "[encoded data removed]",
      "text/plain": [
       "<Figure size 640x480 with 2 Axes>"
      ]
     },
     "metadata": {},
     "output_type": "display_data"
    }
   ],
   "source": [
    "confusion_matrix_for_classification(Y_test,y_predicted,'Confusion Matrix for Logistic Regression')"
   ]
  },
  {
   "cell_type": "code",
   "execution_count": 26,
   "id": "0d59717e",
   "metadata": {},
   "outputs": [],
   "source": [
    "# now for choosing the hyperparameters, I am going to take GridSearchCV..\n",
    "# why I am taking GridSearchCV because this one will lend me best parameters...\n",
    "# there is another method called RandomizedSearchCV, but it will return random parameters but not best parameters.....\n",
    "from sklearn.model_selection import GridSearchCV"
   ]
  },
  {
   "cell_type": "code",
   "execution_count": 27,
   "id": "e7a121ed",
   "metadata": {},
   "outputs": [],
   "source": [
    "# here I am going to implement Cross Validation for Logistic Regression , Naive Bayes and SVM\n",
    "# for that purpose, i am going to create a function such that for those three algorithms, i can get the best parameters for each models separately..\n",
    "# this function will be returing the best parameters\n",
    "def gridsearchcv(df,X_T,Y_T):\n",
    "    param_grid = {'C':[0.1,1,10,100,1000,10000],\n",
    "                'fit_intercept':[0,1],\n",
    "                  # 'kernel':['rbf']\n",
    "                 }\n",
    "    # creating object for GridSearchCV with specified Parameters.....\n",
    "    # refit = mentioning whether we need to retrain the dataset again....\n",
    "    # return_train_score = it will return training score too..\n",
    "    # verbose = more the value, more details generated in the output...\n",
    "    Grid = GridSearchCV(df,param_grid,refit=True,verbose=3,return_train_score=True)\n",
    "    # fitting with X_train and Y_train....\n",
    "    Grid.fit(X_T,Y_T)\n",
    "    # returns the best parameters trained with the help of best_params_....\n",
    "    return Grid.best_params_"
   ]
  },
  {
   "cell_type": "code",
   "execution_count": 28,
   "id": "b396b95d",
   "metadata": {},
   "outputs": [
    {
     "name": "stdout",
     "output_type": "stream",
     "text": [
      "Fitting 5 folds for each of 12 candidates, totalling 60 fits\n",
      "[CV 1/5] END C=0.1, fit_intercept=0;, score=(train=0.846, test=0.839) total time=   0.0s\n",
      "[CV 2/5] END C=0.1, fit_intercept=0;, score=(train=0.848, test=0.821) total time=   0.0s\n",
      "[CV 3/5] END C=0.1, fit_intercept=0;, score=(train=0.846, test=0.839) total time=   0.0s\n",
      "[CV 4/5] END C=0.1, fit_intercept=0;, score=(train=0.837, test=0.884) total time=   0.0s\n",
      "[CV 5/5] END C=0.1, fit_intercept=0;, score=(train=0.864, test=0.795) total time=   0.0s\n",
      "[CV 1/5] END C=0.1, fit_intercept=1;, score=(train=0.980, test=0.946) total time=   0.0s\n",
      "[CV 2/5] END C=0.1, fit_intercept=1;, score=(train=0.975, test=0.964) total time=   0.0s\n",
      "[CV 3/5] END C=0.1, fit_intercept=1;, score=(train=0.969, test=0.973) total time=   0.0s\n",
      "[CV 4/5] END C=0.1, fit_intercept=1;, score=(train=0.967, test=0.964) total time=   0.0s\n",
      "[CV 5/5] END C=0.1, fit_intercept=1;, score=(train=0.967, test=0.982) total time=   0.0s\n",
      "[CV 1/5] END C=1, fit_intercept=0;, score=(train=0.846, test=0.839) total time=   0.0s\n",
      "[CV 2/5] END C=1, fit_intercept=0;, score=(train=0.850, test=0.821) total time=   0.0s\n",
      "[CV 3/5] END C=1, fit_intercept=0;, score=(train=0.846, test=0.848) total time=   0.0s\n",
      "[CV 4/5] END C=1, fit_intercept=0;, score=(train=0.839, test=0.884) total time=   0.0s\n"
     ]
    },
    {
     "name": "stderr",
     "output_type": "stream",
     "text": [
      "C:\\ProgramData\\anaconda3\\Lib\\site-packages\\sklearn\\utils\\_param_validation.py:591: FutureWarning: Passing an int for a boolean parameter is deprecated in version 1.2 and won't be supported anymore in version 1.4.\n",
      "  warnings.warn(\n",
      "C:\\ProgramData\\anaconda3\\Lib\\site-packages\\sklearn\\utils\\_param_validation.py:591: FutureWarning: Passing an int for a boolean parameter is deprecated in version 1.2 and won't be supported anymore in version 1.4.\n",
      "  warnings.warn(\n",
      "C:\\ProgramData\\anaconda3\\Lib\\site-packages\\sklearn\\utils\\_param_validation.py:591: FutureWarning: Passing an int for a boolean parameter is deprecated in version 1.2 and won't be supported anymore in version 1.4.\n",
      "  warnings.warn(\n",
      "C:\\ProgramData\\anaconda3\\Lib\\site-packages\\sklearn\\utils\\_param_validation.py:591: FutureWarning: Passing an int for a boolean parameter is deprecated in version 1.2 and won't be supported anymore in version 1.4.\n",
      "  warnings.warn(\n",
      "C:\\ProgramData\\anaconda3\\Lib\\site-packages\\sklearn\\utils\\_param_validation.py:591: FutureWarning: Passing an int for a boolean parameter is deprecated in version 1.2 and won't be supported anymore in version 1.4.\n",
      "  warnings.warn(\n",
      "C:\\ProgramData\\anaconda3\\Lib\\site-packages\\sklearn\\utils\\_param_validation.py:591: FutureWarning: Passing an int for a boolean parameter is deprecated in version 1.2 and won't be supported anymore in version 1.4.\n",
      "  warnings.warn(\n",
      "C:\\ProgramData\\anaconda3\\Lib\\site-packages\\sklearn\\utils\\_param_validation.py:591: FutureWarning: Passing an int for a boolean parameter is deprecated in version 1.2 and won't be supported anymore in version 1.4.\n",
      "  warnings.warn(\n",
      "C:\\ProgramData\\anaconda3\\Lib\\site-packages\\sklearn\\utils\\_param_validation.py:591: FutureWarning: Passing an int for a boolean parameter is deprecated in version 1.2 and won't be supported anymore in version 1.4.\n",
      "  warnings.warn(\n",
      "C:\\ProgramData\\anaconda3\\Lib\\site-packages\\sklearn\\utils\\_param_validation.py:591: FutureWarning: Passing an int for a boolean parameter is deprecated in version 1.2 and won't be supported anymore in version 1.4.\n",
      "  warnings.warn(\n",
      "C:\\ProgramData\\anaconda3\\Lib\\site-packages\\sklearn\\utils\\_param_validation.py:591: FutureWarning: Passing an int for a boolean parameter is deprecated in version 1.2 and won't be supported anymore in version 1.4.\n",
      "  warnings.warn(\n",
      "C:\\ProgramData\\anaconda3\\Lib\\site-packages\\sklearn\\utils\\_param_validation.py:591: FutureWarning: Passing an int for a boolean parameter is deprecated in version 1.2 and won't be supported anymore in version 1.4.\n",
      "  warnings.warn(\n",
      "C:\\ProgramData\\anaconda3\\Lib\\site-packages\\sklearn\\utils\\_param_validation.py:591: FutureWarning: Passing an int for a boolean parameter is deprecated in version 1.2 and won't be supported anymore in version 1.4.\n",
      "  warnings.warn(\n",
      "C:\\ProgramData\\anaconda3\\Lib\\site-packages\\sklearn\\utils\\_param_validation.py:591: FutureWarning: Passing an int for a boolean parameter is deprecated in version 1.2 and won't be supported anymore in version 1.4.\n",
      "  warnings.warn(\n",
      "C:\\ProgramData\\anaconda3\\Lib\\site-packages\\sklearn\\utils\\_param_validation.py:591: FutureWarning: Passing an int for a boolean parameter is deprecated in version 1.2 and won't be supported anymore in version 1.4.\n",
      "  warnings.warn(\n",
      "C:\\ProgramData\\anaconda3\\Lib\\site-packages\\sklearn\\utils\\_param_validation.py:591: FutureWarning: Passing an int for a boolean parameter is deprecated in version 1.2 and won't be supported anymore in version 1.4.\n",
      "  warnings.warn(\n"
     ]
    },
    {
     "name": "stdout",
     "output_type": "stream",
     "text": [
      "[CV 5/5] END C=1, fit_intercept=0;, score=(train=0.866, test=0.795) total time=   0.0s\n",
      "[CV 1/5] END C=1, fit_intercept=1;, score=(train=0.978, test=0.946) total time=   0.0s\n",
      "[CV 2/5] END C=1, fit_intercept=1;, score=(train=0.978, test=0.973) total time=   0.0s\n",
      "[CV 3/5] END C=1, fit_intercept=1;, score=(train=0.969, test=0.973) total time=   0.0s\n",
      "[CV 4/5] END C=1, fit_intercept=1;, score=(train=0.969, test=0.955) total time=   0.0s\n",
      "[CV 5/5] END C=1, fit_intercept=1;, score=(train=0.962, test=0.982) total time=   0.0s\n",
      "[CV 1/5] END C=10, fit_intercept=0;, score=(train=0.844, test=0.839) total time=   0.0s\n",
      "[CV 2/5] END C=10, fit_intercept=0;, score=(train=0.850, test=0.821) total time=   0.0s\n",
      "[CV 3/5] END C=10, fit_intercept=0;, score=(train=0.846, test=0.848) total time=   0.0s\n",
      "[CV 4/5] END C=10, fit_intercept=0;, score=(train=0.839, test=0.884) total time=   0.0s\n",
      "[CV 5/5] END C=10, fit_intercept=0;, score=(train=0.864, test=0.795) total time=   0.0s\n",
      "[CV 1/5] END C=10, fit_intercept=1;, score=(train=0.978, test=0.946) total time=   0.0s\n",
      "[CV 2/5] END C=10, fit_intercept=1;, score=(train=0.978, test=0.973) total time=   0.0s\n",
      "[CV 3/5] END C=10, fit_intercept=1;, score=(train=0.969, test=0.973) total time=   0.0s\n",
      "[CV 4/5] END C=10, fit_intercept=1;, score=(train=0.969, test=0.946) total time=   0.0s\n",
      "[CV 5/5] END C=10, fit_intercept=1;, score=(train=0.962, test=0.973) total time=   0.0s\n",
      "[CV 1/5] END C=100, fit_intercept=0;, score=(train=0.844, test=0.839) total time=   0.0s\n"
     ]
    },
    {
     "name": "stderr",
     "output_type": "stream",
     "text": [
      "C:\\ProgramData\\anaconda3\\Lib\\site-packages\\sklearn\\utils\\_param_validation.py:591: FutureWarning: Passing an int for a boolean parameter is deprecated in version 1.2 and won't be supported anymore in version 1.4.\n",
      "  warnings.warn(\n",
      "C:\\ProgramData\\anaconda3\\Lib\\site-packages\\sklearn\\utils\\_param_validation.py:591: FutureWarning: Passing an int for a boolean parameter is deprecated in version 1.2 and won't be supported anymore in version 1.4.\n",
      "  warnings.warn(\n",
      "C:\\ProgramData\\anaconda3\\Lib\\site-packages\\sklearn\\utils\\_param_validation.py:591: FutureWarning: Passing an int for a boolean parameter is deprecated in version 1.2 and won't be supported anymore in version 1.4.\n",
      "  warnings.warn(\n",
      "C:\\ProgramData\\anaconda3\\Lib\\site-packages\\sklearn\\utils\\_param_validation.py:591: FutureWarning: Passing an int for a boolean parameter is deprecated in version 1.2 and won't be supported anymore in version 1.4.\n",
      "  warnings.warn(\n",
      "C:\\ProgramData\\anaconda3\\Lib\\site-packages\\sklearn\\utils\\_param_validation.py:591: FutureWarning: Passing an int for a boolean parameter is deprecated in version 1.2 and won't be supported anymore in version 1.4.\n",
      "  warnings.warn(\n",
      "C:\\ProgramData\\anaconda3\\Lib\\site-packages\\sklearn\\utils\\_param_validation.py:591: FutureWarning: Passing an int for a boolean parameter is deprecated in version 1.2 and won't be supported anymore in version 1.4.\n",
      "  warnings.warn(\n",
      "C:\\ProgramData\\anaconda3\\Lib\\site-packages\\sklearn\\utils\\_param_validation.py:591: FutureWarning: Passing an int for a boolean parameter is deprecated in version 1.2 and won't be supported anymore in version 1.4.\n",
      "  warnings.warn(\n",
      "C:\\ProgramData\\anaconda3\\Lib\\site-packages\\sklearn\\utils\\_param_validation.py:591: FutureWarning: Passing an int for a boolean parameter is deprecated in version 1.2 and won't be supported anymore in version 1.4.\n",
      "  warnings.warn(\n",
      "C:\\ProgramData\\anaconda3\\Lib\\site-packages\\sklearn\\utils\\_param_validation.py:591: FutureWarning: Passing an int for a boolean parameter is deprecated in version 1.2 and won't be supported anymore in version 1.4.\n",
      "  warnings.warn(\n",
      "C:\\ProgramData\\anaconda3\\Lib\\site-packages\\sklearn\\utils\\_param_validation.py:591: FutureWarning: Passing an int for a boolean parameter is deprecated in version 1.2 and won't be supported anymore in version 1.4.\n",
      "  warnings.warn(\n",
      "C:\\ProgramData\\anaconda3\\Lib\\site-packages\\sklearn\\utils\\_param_validation.py:591: FutureWarning: Passing an int for a boolean parameter is deprecated in version 1.2 and won't be supported anymore in version 1.4.\n",
      "  warnings.warn(\n",
      "C:\\ProgramData\\anaconda3\\Lib\\site-packages\\sklearn\\utils\\_param_validation.py:591: FutureWarning: Passing an int for a boolean parameter is deprecated in version 1.2 and won't be supported anymore in version 1.4.\n",
      "  warnings.warn(\n",
      "C:\\ProgramData\\anaconda3\\Lib\\site-packages\\sklearn\\utils\\_param_validation.py:591: FutureWarning: Passing an int for a boolean parameter is deprecated in version 1.2 and won't be supported anymore in version 1.4.\n",
      "  warnings.warn(\n",
      "C:\\ProgramData\\anaconda3\\Lib\\site-packages\\sklearn\\utils\\_param_validation.py:591: FutureWarning: Passing an int for a boolean parameter is deprecated in version 1.2 and won't be supported anymore in version 1.4.\n",
      "  warnings.warn(\n",
      "C:\\ProgramData\\anaconda3\\Lib\\site-packages\\sklearn\\utils\\_param_validation.py:591: FutureWarning: Passing an int for a boolean parameter is deprecated in version 1.2 and won't be supported anymore in version 1.4.\n",
      "  warnings.warn(\n",
      "C:\\ProgramData\\anaconda3\\Lib\\site-packages\\sklearn\\utils\\_param_validation.py:591: FutureWarning: Passing an int for a boolean parameter is deprecated in version 1.2 and won't be supported anymore in version 1.4.\n",
      "  warnings.warn(\n",
      "C:\\ProgramData\\anaconda3\\Lib\\site-packages\\sklearn\\utils\\_param_validation.py:591: FutureWarning: Passing an int for a boolean parameter is deprecated in version 1.2 and won't be supported anymore in version 1.4.\n",
      "  warnings.warn(\n"
     ]
    },
    {
     "name": "stdout",
     "output_type": "stream",
     "text": [
      "[CV 2/5] END C=100, fit_intercept=0;, score=(train=0.850, test=0.821) total time=   0.0s\n",
      "[CV 3/5] END C=100, fit_intercept=0;, score=(train=0.846, test=0.848) total time=   0.0s\n",
      "[CV 4/5] END C=100, fit_intercept=0;, score=(train=0.839, test=0.884) total time=   0.0s\n",
      "[CV 5/5] END C=100, fit_intercept=0;, score=(train=0.864, test=0.795) total time=   0.0s\n",
      "[CV 1/5] END C=100, fit_intercept=1;, score=(train=0.978, test=0.946) total time=   0.0s\n",
      "[CV 2/5] END C=100, fit_intercept=1;, score=(train=0.978, test=0.973) total time=   0.0s\n",
      "[CV 3/5] END C=100, fit_intercept=1;, score=(train=0.969, test=0.973) total time=   0.0s\n",
      "[CV 4/5] END C=100, fit_intercept=1;, score=(train=0.969, test=0.946) total time=   0.0s\n",
      "[CV 5/5] END C=100, fit_intercept=1;, score=(train=0.962, test=0.973) total time=   0.0s\n",
      "[CV 1/5] END C=1000, fit_intercept=0;, score=(train=0.844, test=0.839) total time=   0.0s\n",
      "[CV 2/5] END C=1000, fit_intercept=0;, score=(train=0.850, test=0.821) total time=   0.0s\n",
      "[CV 3/5] END C=1000, fit_intercept=0;, score=(train=0.846, test=0.848) total time=   0.0s\n",
      "[CV 4/5] END C=1000, fit_intercept=0;, score=(train=0.839, test=0.884) total time=   0.0s\n",
      "[CV 5/5] END C=1000, fit_intercept=0;, score=(train=0.864, test=0.795) total time=   0.0s\n"
     ]
    },
    {
     "name": "stderr",
     "output_type": "stream",
     "text": [
      "C:\\ProgramData\\anaconda3\\Lib\\site-packages\\sklearn\\utils\\_param_validation.py:591: FutureWarning: Passing an int for a boolean parameter is deprecated in version 1.2 and won't be supported anymore in version 1.4.\n",
      "  warnings.warn(\n",
      "C:\\ProgramData\\anaconda3\\Lib\\site-packages\\sklearn\\utils\\_param_validation.py:591: FutureWarning: Passing an int for a boolean parameter is deprecated in version 1.2 and won't be supported anymore in version 1.4.\n",
      "  warnings.warn(\n",
      "C:\\ProgramData\\anaconda3\\Lib\\site-packages\\sklearn\\utils\\_param_validation.py:591: FutureWarning: Passing an int for a boolean parameter is deprecated in version 1.2 and won't be supported anymore in version 1.4.\n",
      "  warnings.warn(\n",
      "C:\\ProgramData\\anaconda3\\Lib\\site-packages\\sklearn\\utils\\_param_validation.py:591: FutureWarning: Passing an int for a boolean parameter is deprecated in version 1.2 and won't be supported anymore in version 1.4.\n",
      "  warnings.warn(\n",
      "C:\\ProgramData\\anaconda3\\Lib\\site-packages\\sklearn\\utils\\_param_validation.py:591: FutureWarning: Passing an int for a boolean parameter is deprecated in version 1.2 and won't be supported anymore in version 1.4.\n",
      "  warnings.warn(\n",
      "C:\\ProgramData\\anaconda3\\Lib\\site-packages\\sklearn\\utils\\_param_validation.py:591: FutureWarning: Passing an int for a boolean parameter is deprecated in version 1.2 and won't be supported anymore in version 1.4.\n",
      "  warnings.warn(\n",
      "C:\\ProgramData\\anaconda3\\Lib\\site-packages\\sklearn\\utils\\_param_validation.py:591: FutureWarning: Passing an int for a boolean parameter is deprecated in version 1.2 and won't be supported anymore in version 1.4.\n",
      "  warnings.warn(\n",
      "C:\\ProgramData\\anaconda3\\Lib\\site-packages\\sklearn\\utils\\_param_validation.py:591: FutureWarning: Passing an int for a boolean parameter is deprecated in version 1.2 and won't be supported anymore in version 1.4.\n",
      "  warnings.warn(\n",
      "C:\\ProgramData\\anaconda3\\Lib\\site-packages\\sklearn\\utils\\_param_validation.py:591: FutureWarning: Passing an int for a boolean parameter is deprecated in version 1.2 and won't be supported anymore in version 1.4.\n",
      "  warnings.warn(\n",
      "C:\\ProgramData\\anaconda3\\Lib\\site-packages\\sklearn\\utils\\_param_validation.py:591: FutureWarning: Passing an int for a boolean parameter is deprecated in version 1.2 and won't be supported anymore in version 1.4.\n",
      "  warnings.warn(\n",
      "C:\\ProgramData\\anaconda3\\Lib\\site-packages\\sklearn\\utils\\_param_validation.py:591: FutureWarning: Passing an int for a boolean parameter is deprecated in version 1.2 and won't be supported anymore in version 1.4.\n",
      "  warnings.warn(\n",
      "C:\\ProgramData\\anaconda3\\Lib\\site-packages\\sklearn\\utils\\_param_validation.py:591: FutureWarning: Passing an int for a boolean parameter is deprecated in version 1.2 and won't be supported anymore in version 1.4.\n",
      "  warnings.warn(\n",
      "C:\\ProgramData\\anaconda3\\Lib\\site-packages\\sklearn\\utils\\_param_validation.py:591: FutureWarning: Passing an int for a boolean parameter is deprecated in version 1.2 and won't be supported anymore in version 1.4.\n",
      "  warnings.warn(\n",
      "C:\\ProgramData\\anaconda3\\Lib\\site-packages\\sklearn\\utils\\_param_validation.py:591: FutureWarning: Passing an int for a boolean parameter is deprecated in version 1.2 and won't be supported anymore in version 1.4.\n",
      "  warnings.warn(\n"
     ]
    },
    {
     "name": "stdout",
     "output_type": "stream",
     "text": [
      "[CV 1/5] END C=1000, fit_intercept=1;, score=(train=0.978, test=0.946) total time=   0.0s\n",
      "[CV 2/5] END C=1000, fit_intercept=1;, score=(train=0.978, test=0.973) total time=   0.0s\n",
      "[CV 3/5] END C=1000, fit_intercept=1;, score=(train=0.969, test=0.973) total time=   0.0s\n",
      "[CV 4/5] END C=1000, fit_intercept=1;, score=(train=0.969, test=0.946) total time=   0.0s\n",
      "[CV 5/5] END C=1000, fit_intercept=1;, score=(train=0.962, test=0.973) total time=   0.0s\n",
      "[CV 1/5] END C=10000, fit_intercept=0;, score=(train=0.844, test=0.839) total time=   0.0s\n",
      "[CV 2/5] END C=10000, fit_intercept=0;, score=(train=0.850, test=0.821) total time=   0.0s\n",
      "[CV 3/5] END C=10000, fit_intercept=0;, score=(train=0.846, test=0.848) total time=   0.0s\n",
      "[CV 4/5] END C=10000, fit_intercept=0;, score=(train=0.839, test=0.884) total time=   0.0s\n",
      "[CV 5/5] END C=10000, fit_intercept=0;, score=(train=0.864, test=0.795) total time=   0.0s\n",
      "[CV 1/5] END C=10000, fit_intercept=1;, score=(train=0.978, test=0.946) total time=   0.0s\n",
      "[CV 2/5] END C=10000, fit_intercept=1;, score=(train=0.978, test=0.973) total time=   0.0s\n",
      "[CV 3/5] END C=10000, fit_intercept=1;, score=(train=0.969, test=0.973) total time=   0.0s\n"
     ]
    },
    {
     "name": "stderr",
     "output_type": "stream",
     "text": [
      "C:\\ProgramData\\anaconda3\\Lib\\site-packages\\sklearn\\utils\\_param_validation.py:591: FutureWarning: Passing an int for a boolean parameter is deprecated in version 1.2 and won't be supported anymore in version 1.4.\n",
      "  warnings.warn(\n",
      "C:\\ProgramData\\anaconda3\\Lib\\site-packages\\sklearn\\utils\\_param_validation.py:591: FutureWarning: Passing an int for a boolean parameter is deprecated in version 1.2 and won't be supported anymore in version 1.4.\n",
      "  warnings.warn(\n",
      "C:\\ProgramData\\anaconda3\\Lib\\site-packages\\sklearn\\utils\\_param_validation.py:591: FutureWarning: Passing an int for a boolean parameter is deprecated in version 1.2 and won't be supported anymore in version 1.4.\n",
      "  warnings.warn(\n",
      "C:\\ProgramData\\anaconda3\\Lib\\site-packages\\sklearn\\utils\\_param_validation.py:591: FutureWarning: Passing an int for a boolean parameter is deprecated in version 1.2 and won't be supported anymore in version 1.4.\n",
      "  warnings.warn(\n",
      "C:\\ProgramData\\anaconda3\\Lib\\site-packages\\sklearn\\utils\\_param_validation.py:591: FutureWarning: Passing an int for a boolean parameter is deprecated in version 1.2 and won't be supported anymore in version 1.4.\n",
      "  warnings.warn(\n",
      "C:\\ProgramData\\anaconda3\\Lib\\site-packages\\sklearn\\utils\\_param_validation.py:591: FutureWarning: Passing an int for a boolean parameter is deprecated in version 1.2 and won't be supported anymore in version 1.4.\n",
      "  warnings.warn(\n",
      "C:\\ProgramData\\anaconda3\\Lib\\site-packages\\sklearn\\utils\\_param_validation.py:591: FutureWarning: Passing an int for a boolean parameter is deprecated in version 1.2 and won't be supported anymore in version 1.4.\n",
      "  warnings.warn(\n",
      "C:\\ProgramData\\anaconda3\\Lib\\site-packages\\sklearn\\utils\\_param_validation.py:591: FutureWarning: Passing an int for a boolean parameter is deprecated in version 1.2 and won't be supported anymore in version 1.4.\n",
      "  warnings.warn(\n",
      "C:\\ProgramData\\anaconda3\\Lib\\site-packages\\sklearn\\utils\\_param_validation.py:591: FutureWarning: Passing an int for a boolean parameter is deprecated in version 1.2 and won't be supported anymore in version 1.4.\n",
      "  warnings.warn(\n",
      "C:\\ProgramData\\anaconda3\\Lib\\site-packages\\sklearn\\utils\\_param_validation.py:591: FutureWarning: Passing an int for a boolean parameter is deprecated in version 1.2 and won't be supported anymore in version 1.4.\n",
      "  warnings.warn(\n",
      "C:\\ProgramData\\anaconda3\\Lib\\site-packages\\sklearn\\utils\\_param_validation.py:591: FutureWarning: Passing an int for a boolean parameter is deprecated in version 1.2 and won't be supported anymore in version 1.4.\n",
      "  warnings.warn(\n",
      "C:\\ProgramData\\anaconda3\\Lib\\site-packages\\sklearn\\utils\\_param_validation.py:591: FutureWarning: Passing an int for a boolean parameter is deprecated in version 1.2 and won't be supported anymore in version 1.4.\n",
      "  warnings.warn(\n",
      "C:\\ProgramData\\anaconda3\\Lib\\site-packages\\sklearn\\utils\\_param_validation.py:591: FutureWarning: Passing an int for a boolean parameter is deprecated in version 1.2 and won't be supported anymore in version 1.4.\n",
      "  warnings.warn(\n"
     ]
    },
    {
     "name": "stdout",
     "output_type": "stream",
     "text": [
      "[CV 4/5] END C=10000, fit_intercept=1;, score=(train=0.969, test=0.946) total time=   0.0s\n",
      "[CV 5/5] END C=10000, fit_intercept=1;, score=(train=0.962, test=0.973) total time=   0.0s\n"
     ]
    },
    {
     "name": "stderr",
     "output_type": "stream",
     "text": [
      "C:\\ProgramData\\anaconda3\\Lib\\site-packages\\sklearn\\utils\\_param_validation.py:591: FutureWarning: Passing an int for a boolean parameter is deprecated in version 1.2 and won't be supported anymore in version 1.4.\n",
      "  warnings.warn(\n",
      "C:\\ProgramData\\anaconda3\\Lib\\site-packages\\sklearn\\utils\\_param_validation.py:591: FutureWarning: Passing an int for a boolean parameter is deprecated in version 1.2 and won't be supported anymore in version 1.4.\n",
      "  warnings.warn(\n"
     ]
    },
    {
     "data": {
      "text/plain": [
       "{'C': 0.1, 'fit_intercept': 1}"
      ]
     },
     "execution_count": 28,
     "metadata": {},
     "output_type": "execute_result"
    }
   ],
   "source": [
    "# calling gridsearchcv....\n",
    "gridsearchcv(lr,X_train,Y_train)"
   ]
  },
  {
   "cell_type": "code",
   "execution_count": 29,
   "id": "f7f0a79b",
   "metadata": {},
   "outputs": [],
   "source": [
    "# still we are getting the same accuracy...\n",
    "# now try K-fold cross validation for different algorithms like Logistic Regression... \n",
    "from sklearn.model_selection import KFold"
   ]
  },
  {
   "cell_type": "code",
   "execution_count": 30,
   "id": "a85431c9",
   "metadata": {},
   "outputs": [],
   "source": [
    "# I have tried with various values of n_splits...\n",
    "# after certain trial methods, I get to know that n_splits=5 would be better as it uniform and even splitting the dataset 20% ....\n",
    "kf = KFold(n_splits=5,shuffle=True)"
   ]
  },
  {
   "cell_type": "code",
   "execution_count": 31,
   "id": "431c093e",
   "metadata": {},
   "outputs": [],
   "source": [
    "# initializing accuracies list to store the values....\n",
    "accuracies = [] "
   ]
  },
  {
   "cell_type": "code",
   "execution_count": 32,
   "id": "1e78d22b",
   "metadata": {},
   "outputs": [
    {
     "name": "stderr",
     "output_type": "stream",
     "text": [
      "C:\\ProgramData\\anaconda3\\Lib\\site-packages\\sklearn\\utils\\_param_validation.py:591: FutureWarning: Passing an int for a boolean parameter is deprecated in version 1.2 and won't be supported anymore in version 1.4.\n",
      "  warnings.warn(\n",
      "C:\\ProgramData\\anaconda3\\Lib\\site-packages\\sklearn\\utils\\_param_validation.py:591: FutureWarning: Passing an int for a boolean parameter is deprecated in version 1.2 and won't be supported anymore in version 1.4.\n",
      "  warnings.warn(\n",
      "C:\\ProgramData\\anaconda3\\Lib\\site-packages\\sklearn\\utils\\_param_validation.py:591: FutureWarning: Passing an int for a boolean parameter is deprecated in version 1.2 and won't be supported anymore in version 1.4.\n",
      "  warnings.warn(\n",
      "C:\\ProgramData\\anaconda3\\Lib\\site-packages\\sklearn\\utils\\_param_validation.py:591: FutureWarning: Passing an int for a boolean parameter is deprecated in version 1.2 and won't be supported anymore in version 1.4.\n",
      "  warnings.warn(\n",
      "C:\\ProgramData\\anaconda3\\Lib\\site-packages\\sklearn\\utils\\_param_validation.py:591: FutureWarning: Passing an int for a boolean parameter is deprecated in version 1.2 and won't be supported anymore in version 1.4.\n",
      "  warnings.warn(\n"
     ]
    }
   ],
   "source": [
    "for train,test in kf.split(X):\n",
    "    # print(train)\n",
    "    X_tra,X_tes = X[train],X[test]\n",
    "    Y_tra,Y_tes = Y[train],Y[test]\n",
    "    # now I am going to implement Logistic Regression for the model with the help of those best parameters which we obtained using GridSearchCV ...\n",
    "    lr1 = LogisticRegression(C=0.1,fit_intercept=1)\n",
    "    lr1.fit(X_tra,Y_tra)\n",
    "    # now I am going to generate the values predicted by Logistic Regression algorithm...\n",
    "    Y_pred_for_LR1 = lr1.predict(X_tes)\n",
    "    # now Calculate the accuracy\n",
    "    accuracy = accuracy_score(Y_tes,Y_pred_for_LR1)\n",
    "    accuracies.append(accuracy)"
   ]
  },
  {
   "cell_type": "code",
   "execution_count": 33,
   "id": "c4e45fbc",
   "metadata": {},
   "outputs": [
    {
     "name": "stdout",
     "output_type": "stream",
     "text": [
      "Accuracy after K-Fold:0.9671428571428571\n"
     ]
    }
   ],
   "source": [
    "# now the accuracies for each split is calculated and stored in accuracies list..\n",
    "# now let's calculate the average accuracy from the list...\n",
    "print(f\"Accuracy after K-Fold:{np.mean(accuracies)}\")"
   ]
  },
  {
   "cell_type": "code",
   "execution_count": 34,
   "id": "972e102c",
   "metadata": {},
   "outputs": [
    {
     "name": "stdout",
     "output_type": "stream",
     "text": [
      "0.9714285714285714\n",
      "0.9428571428571428\n",
      "0.95\n",
      "0.9785714285714285\n",
      "0.9928571428571429\n"
     ]
    }
   ],
   "source": [
    "for k in accuracies:\n",
    "    print(k)"
   ]
  },
  {
   "cell_type": "code",
   "execution_count": 35,
   "id": "41a68677",
   "metadata": {},
   "outputs": [],
   "source": [
    "# Logistic Regression without K-Fold Cross Validation = 96.42857 %\n",
    "# Logistic Regression with K-Fold Cross Validation = 96.5714 %\n",
    "# As per my knowledge, the disadvantage of K-Fold Cross Validation is that it never splits the dataset uniformly...\n",
    "# So, to overcome this I am going to implement Stratified K-Fold Cross Validation...\n",
    "from sklearn.model_selection import StratifiedKFold"
   ]
  },
  {
   "cell_type": "code",
   "execution_count": 36,
   "id": "c0b015c7",
   "metadata": {},
   "outputs": [],
   "source": [
    "# same for K-fold Cross Validation  I am trying with same n_splits values \n",
    "STR = StratifiedKFold(n_splits=5,shuffle=True)"
   ]
  },
  {
   "cell_type": "code",
   "execution_count": 37,
   "id": "93bfdc9a",
   "metadata": {},
   "outputs": [],
   "source": [
    "accuracies_stratified = []"
   ]
  },
  {
   "cell_type": "code",
   "execution_count": 38,
   "id": "49468eb4",
   "metadata": {},
   "outputs": [
    {
     "name": "stderr",
     "output_type": "stream",
     "text": [
      "C:\\ProgramData\\anaconda3\\Lib\\site-packages\\sklearn\\utils\\_param_validation.py:591: FutureWarning: Passing an int for a boolean parameter is deprecated in version 1.2 and won't be supported anymore in version 1.4.\n",
      "  warnings.warn(\n",
      "C:\\ProgramData\\anaconda3\\Lib\\site-packages\\sklearn\\utils\\_param_validation.py:591: FutureWarning: Passing an int for a boolean parameter is deprecated in version 1.2 and won't be supported anymore in version 1.4.\n",
      "  warnings.warn(\n",
      "C:\\ProgramData\\anaconda3\\Lib\\site-packages\\sklearn\\utils\\_param_validation.py:591: FutureWarning: Passing an int for a boolean parameter is deprecated in version 1.2 and won't be supported anymore in version 1.4.\n",
      "  warnings.warn(\n",
      "C:\\ProgramData\\anaconda3\\Lib\\site-packages\\sklearn\\utils\\_param_validation.py:591: FutureWarning: Passing an int for a boolean parameter is deprecated in version 1.2 and won't be supported anymore in version 1.4.\n",
      "  warnings.warn(\n",
      "C:\\ProgramData\\anaconda3\\Lib\\site-packages\\sklearn\\utils\\_param_validation.py:591: FutureWarning: Passing an int for a boolean parameter is deprecated in version 1.2 and won't be supported anymore in version 1.4.\n",
      "  warnings.warn(\n"
     ]
    }
   ],
   "source": [
    "for training, testing in STR.split(X,Y):\n",
    "    X_training,X_testing,Y_training,Y_testing = X[training],X[testing],Y[training],Y[testing]\n",
    "    # now I am going to implement Logistic Regression for the model with the help of those best parameters which we obtained using GridSearchCV ...\n",
    "    lr1 = LogisticRegression(C=0.1,fit_intercept=1)\n",
    "    lr1.fit(X_tra,Y_tra)\n",
    "    # now I am going to generate the values predicted by Logistic Regression algorithm...\n",
    "    Y_pred_for_LR1 = lr1.predict(X_tes)\n",
    "    # now Calculate the accuracy\n",
    "    accuracy = accuracy_score(Y_tes,Y_pred_for_LR1)\n",
    "    accuracies_stratified.append(accuracy)\n",
    "    "
   ]
  },
  {
   "cell_type": "code",
   "execution_count": 39,
   "id": "4739c127",
   "metadata": {},
   "outputs": [
    {
     "name": "stdout",
     "output_type": "stream",
     "text": [
      "Accuracy after Stratified K-Cross Validation: 0.9928571428571429 \n"
     ]
    }
   ],
   "source": [
    "# now we hope that we would be getting better accuracy as compared to K-Fold Cross Validation....\n",
    "print(f\"Accuracy after Stratified K-Cross Validation: {np.mean(accuracies_stratified)} \")"
   ]
  },
  {
   "cell_type": "code",
   "execution_count": 40,
   "id": "dcbe003a",
   "metadata": {},
   "outputs": [
    {
     "name": "stdout",
     "output_type": "stream",
     "text": [
      "0.9928571428571429\n",
      "0.9928571428571429\n",
      "0.9928571428571429\n",
      "0.9928571428571429\n",
      "0.9928571428571429\n"
     ]
    }
   ],
   "source": [
    "for i in accuracies_stratified:\n",
    "    print(i)"
   ]
  },
  {
   "cell_type": "code",
   "execution_count": 41,
   "id": "3c65d569",
   "metadata": {},
   "outputs": [
    {
     "name": "stdout",
     "output_type": "stream",
     "text": [
      "Accuracy Score:  0.9928571428571429\n",
      "Recall Score:  0.9928571428571429\n",
      "Precision Score:  0.9928571428571429\n",
      "F1-score:  0.9928571428571429\n",
      "Classification Report:                precision    recall  f1-score   support\n",
      "\n",
      "           0       1.00      0.99      0.99        94\n",
      "           1       0.98      1.00      0.99        46\n",
      "\n",
      "    accuracy                           0.99       140\n",
      "   macro avg       0.99      0.99      0.99       140\n",
      "weighted avg       0.99      0.99      0.99       140\n",
      "\n"
     ]
    }
   ],
   "source": [
    "accuracy_recall_precision(Y_tes,Y_pred_for_LR1)"
   ]
  },
  {
   "cell_type": "code",
   "execution_count": null,
   "id": "f3608662",
   "metadata": {},
   "outputs": [],
   "source": []
  },
  {
   "cell_type": "code",
   "execution_count": 42,
   "id": "0c3d7145",
   "metadata": {},
   "outputs": [],
   "source": [
    "# now I am getting better accuracy compared to K-Fold Cross Validation which makes my statement true..."
   ]
  },
  {
   "cell_type": "code",
   "execution_count": 43,
   "id": "4f754203",
   "metadata": {},
   "outputs": [
    {
     "data": {
      "text/plain": [
       "Text(0.5, 1.0, 'Feature Importance for Logistic Regression')"
      ]
     },
     "execution_count": 43,
     "metadata": {},
     "output_type": "execute_result"
    },
    {
     "data": {
      "image/png": "[encoded data removed]",
      "text/plain": [
       "<Figure size 640x480 with 1 Axes>"
      ]
     },
     "metadata": {},
     "output_type": "display_data"
    }
   ],
   "source": [
    "# now we can plot feature importance for other algorithms too\n",
    "plt.barh(range(len(lr1.coef_[0])),lr1.coef_[0],tick_label=['feature1','feature2','feature3','feature4','feature5','feature6','feature7','feature8','feature9'])  \n",
    "plt.title('Feature Importance for Logistic Regression')"
   ]
  },
  {
   "cell_type": "code",
   "execution_count": 44,
   "id": "cd910abe",
   "metadata": {},
   "outputs": [
    {
     "data": {
      "image/png": "[encoded data removed]",
      "text/plain": [
       "<Figure size 640x480 with 2 Axes>"
      ]
     },
     "metadata": {},
     "output_type": "display_data"
    }
   ],
   "source": [
    "confusion_matrix_for_classification(Y_tes,Y_pred_for_LR1,'Confusion Matrix for Logistic Regression')"
   ]
  },
  {
   "cell_type": "code",
   "execution_count": 45,
   "id": "1b33bd85",
   "metadata": {},
   "outputs": [],
   "source": [
    "# we get to know that feature 1 contributes more learning to Logistic Regression...."
   ]
  },
  {
   "cell_type": "code",
   "execution_count": 46,
   "id": "6bf981a5",
   "metadata": {},
   "outputs": [],
   "source": [
    "# now I am going to implement Naive bayes\n",
    "# as we are having 4 naive bayes- Gaussian, Bernoulli, MultinomialNB,CategoricalNB\n",
    "# we can't try MultinomialNB as most of the times MultinomialNB would be applicable for multiclass datasets \n",
    "# but we are classifying for binary classes, we first try CategoricalNB \n",
    "from sklearn.naive_bayes import CategoricalNB"
   ]
  },
  {
   "cell_type": "code",
   "execution_count": 47,
   "id": "cd73caaf",
   "metadata": {},
   "outputs": [],
   "source": [
    "# similar for Logistic Regression , I am creating an object for CategoricalNB\n",
    "cb = CategoricalNB()"
   ]
  },
  {
   "cell_type": "code",
   "execution_count": 48,
   "id": "37f1f2df",
   "metadata": {},
   "outputs": [
    {
     "data": {
      "text/html": [
       "<style>#sk-container-id-2 {color: black;}#sk-container-id-2 pre{padding: 0;}#sk-container-id-2 div.sk-toggleable {background-color: white;}#sk-container-id-2 label.sk-toggleable__label {cursor: pointer;display: block;width: 100%;margin-bottom: 0;padding: 0.3em;box-sizing: border-box;text-align: center;}#sk-container-id-2 label.sk-toggleable__label-arrow:before {content: \"▸\";float: left;margin-right: 0.25em;color: #696969;}#sk-container-id-2 label.sk-toggleable__label-arrow:hover:before {color: black;}#sk-container-id-2 div.sk-estimator:hover label.sk-toggleable__label-arrow:before {color: black;}#sk-container-id-2 div.sk-toggleable__content {max-height: 0;max-width: 0;overflow: hidden;text-align: left;background-color: #f0f8ff;}#sk-container-id-2 div.sk-toggleable__content pre {margin: 0.2em;color: black;border-radius: 0.25em;background-color: #f0f8ff;}#sk-container-id-2 input.sk-toggleable__control:checked~div.sk-toggleable__content {max-height: 200px;max-width: 100%;overflow: auto;}#sk-container-id-2 input.sk-toggleable__control:checked~label.sk-toggleable__label-arrow:before {content: \"▾\";}#sk-container-id-2 div.sk-estimator input.sk-toggleable__control:checked~label.sk-toggleable__label {background-color: #d4ebff;}#sk-container-id-2 div.sk-label input.sk-toggleable__control:checked~label.sk-toggleable__label {background-color: #d4ebff;}#sk-container-id-2 input.sk-hidden--visually {border: 0;clip: rect(1px 1px 1px 1px);clip: rect(1px, 1px, 1px, 1px);height: 1px;margin: -1px;overflow: hidden;padding: 0;position: absolute;width: 1px;}#sk-container-id-2 div.sk-estimator {font-family: monospace;background-color: #f0f8ff;border: 1px dotted black;border-radius: 0.25em;box-sizing: border-box;margin-bottom: 0.5em;}#sk-container-id-2 div.sk-estimator:hover {background-color: #d4ebff;}#sk-container-id-2 div.sk-parallel-item::after {content: \"\";width: 100%;border-bottom: 1px solid gray;flex-grow: 1;}#sk-container-id-2 div.sk-label:hover label.sk-toggleable__label {background-color: #d4ebff;}#sk-container-id-2 div.sk-serial::before {content: \"\";position: absolute;border-left: 1px solid gray;box-sizing: border-box;top: 0;bottom: 0;left: 50%;z-index: 0;}#sk-container-id-2 div.sk-serial {display: flex;flex-direction: column;align-items: center;background-color: white;padding-right: 0.2em;padding-left: 0.2em;position: relative;}#sk-container-id-2 div.sk-item {position: relative;z-index: 1;}#sk-container-id-2 div.sk-parallel {display: flex;align-items: stretch;justify-content: center;background-color: white;position: relative;}#sk-container-id-2 div.sk-item::before, #sk-container-id-2 div.sk-parallel-item::before {content: \"\";position: absolute;border-left: 1px solid gray;box-sizing: border-box;top: 0;bottom: 0;left: 50%;z-index: -1;}#sk-container-id-2 div.sk-parallel-item {display: flex;flex-direction: column;z-index: 1;position: relative;background-color: white;}#sk-container-id-2 div.sk-parallel-item:first-child::after {align-self: flex-end;width: 50%;}#sk-container-id-2 div.sk-parallel-item:last-child::after {align-self: flex-start;width: 50%;}#sk-container-id-2 div.sk-parallel-item:only-child::after {width: 0;}#sk-container-id-2 div.sk-dashed-wrapped {border: 1px dashed gray;margin: 0 0.4em 0.5em 0.4em;box-sizing: border-box;padding-bottom: 0.4em;background-color: white;}#sk-container-id-2 div.sk-label label {font-family: monospace;font-weight: bold;display: inline-block;line-height: 1.2em;}#sk-container-id-2 div.sk-label-container {text-align: center;}#sk-container-id-2 div.sk-container {/* jupyter's `normalize.less` sets `[hidden] { display: none; }` but bootstrap.min.css set `[hidden] { display: none !important; }` so we also need the `!important` here to be able to override the default hidden behavior on the sphinx rendered scikit-learn.org. See: https://github.com/scikit-learn/scikit-learn/issues/21755 */display: inline-block !important;position: relative;}#sk-container-id-2 div.sk-text-repr-fallback {display: none;}</style><div id=\"sk-container-id-2\" class=\"sk-top-container\"><div class=\"sk-text-repr-fallback\"><pre>CategoricalNB()</pre><b>In a Jupyter environment, please rerun this cell to show the HTML representation or trust the notebook. <br />On GitHub, the HTML representation is unable to render, please try loading this page with nbviewer.org.</b></div><div class=\"sk-container\" hidden><div class=\"sk-item\"><div class=\"sk-estimator sk-toggleable\"><input class=\"sk-toggleable__control sk-hidden--visually\" id=\"sk-estimator-id-2\" type=\"checkbox\" checked><label for=\"sk-estimator-id-2\" class=\"sk-toggleable__label sk-toggleable__label-arrow\">CategoricalNB</label><div class=\"sk-toggleable__content\"><pre>CategoricalNB()</pre></div></div></div></div></div>"
      ],
      "text/plain": [
       "CategoricalNB()"
      ]
     },
     "execution_count": 48,
     "metadata": {},
     "output_type": "execute_result"
    }
   ],
   "source": [
    "# similarly , I am fitting the dataset\n",
    "cb.fit(X_train,Y_train)"
   ]
  },
  {
   "cell_type": "code",
   "execution_count": 49,
   "id": "dfe84e85",
   "metadata": {},
   "outputs": [],
   "source": [
    "# variable created to store predicted values from \n",
    "Y_predicted_categorical_NB = cb.predict(X_test)"
   ]
  },
  {
   "cell_type": "code",
   "execution_count": 50,
   "id": "0e67753f",
   "metadata": {},
   "outputs": [
    {
     "name": "stdout",
     "output_type": "stream",
     "text": [
      "Accuracy Score:  0.95\n",
      "Recall Score:  0.95\n",
      "Precision Score:  0.95\n",
      "F1-score:  0.95\n",
      "Classification Report:                precision    recall  f1-score   support\n",
      "\n",
      "           0       0.98      0.94      0.96        86\n",
      "           1       0.91      0.96      0.94        54\n",
      "\n",
      "    accuracy                           0.95       140\n",
      "   macro avg       0.94      0.95      0.95       140\n",
      "weighted avg       0.95      0.95      0.95       140\n",
      "\n"
     ]
    }
   ],
   "source": [
    "accuracy_recall_precision(Y_test,Y_predicted_categorical_NB)"
   ]
  },
  {
   "cell_type": "code",
   "execution_count": 51,
   "id": "37de7130",
   "metadata": {},
   "outputs": [
    {
     "data": {
      "image/png": "[encoded data removed]",
      "text/plain": [
       "<Figure size 640x480 with 2 Axes>"
      ]
     },
     "metadata": {},
     "output_type": "display_data"
    }
   ],
   "source": [
    "confusion_matrix_for_classification(Y_test,Y_predicted_categorical_NB,'Confusion Matrix for Categorical Naive Bayes')"
   ]
  },
  {
   "cell_type": "code",
   "execution_count": 52,
   "id": "a8dbffb2",
   "metadata": {},
   "outputs": [
    {
     "data": {
      "text/plain": [
       "array([0, 1, 1, 1, 1, 0, 1, 0, 1, 1, 0, 0, 0, 0, 1, 1, 0, 1, 0, 0, 0, 1,\n",
       "       0, 1, 1, 0, 0, 0, 0, 1, 1, 0, 0, 0, 0, 0, 0, 0, 1, 1, 0, 0, 1, 0,\n",
       "       0, 1, 0, 1, 0, 1, 1, 0, 1, 0, 0, 1, 1, 1, 0, 0, 0, 1, 0, 0, 1, 0,\n",
       "       1, 0, 0, 1, 1, 0, 1, 1, 0, 1, 0, 0, 1, 0, 0, 1, 0, 1, 0, 1, 1, 1,\n",
       "       1, 1, 0, 0, 0, 0, 0, 0, 0, 0, 0, 0, 0, 0, 0, 0, 1, 0, 1, 1, 0, 0,\n",
       "       0, 1, 0, 0, 0, 0, 0, 1, 1, 0, 1, 1, 0, 1, 1, 0, 1, 1, 0, 1, 1, 0,\n",
       "       0, 0, 0, 0, 1, 0, 0, 0], dtype=int64)"
      ]
     },
     "execution_count": 52,
     "metadata": {},
     "output_type": "execute_result"
    }
   ],
   "source": [
    "Y_predicted_categorical_NB"
   ]
  },
  {
   "cell_type": "code",
   "execution_count": 53,
   "id": "82232d20",
   "metadata": {},
   "outputs": [
    {
     "name": "stderr",
     "output_type": "stream",
     "text": [
      "C:\\ProgramData\\anaconda3\\Lib\\site-packages\\sklearn\\naive_bayes.py:1517: RuntimeWarning: divide by zero encountered in log\n",
      "  np.log(smoothed_cat_count) - np.log(smoothed_class_count.reshape(-1, 1))\n",
      "C:\\ProgramData\\anaconda3\\Lib\\site-packages\\sklearn\\naive_bayes.py:1517: RuntimeWarning: divide by zero encountered in log\n",
      "  np.log(smoothed_cat_count) - np.log(smoothed_class_count.reshape(-1, 1))\n",
      "C:\\ProgramData\\anaconda3\\Lib\\site-packages\\sklearn\\naive_bayes.py:1517: RuntimeWarning: divide by zero encountered in log\n",
      "  np.log(smoothed_cat_count) - np.log(smoothed_class_count.reshape(-1, 1))\n",
      "C:\\ProgramData\\anaconda3\\Lib\\site-packages\\sklearn\\naive_bayes.py:1517: RuntimeWarning: divide by zero encountered in log\n",
      "  np.log(smoothed_cat_count) - np.log(smoothed_class_count.reshape(-1, 1))\n",
      "C:\\ProgramData\\anaconda3\\Lib\\site-packages\\sklearn\\naive_bayes.py:1517: RuntimeWarning: divide by zero encountered in log\n",
      "  np.log(smoothed_cat_count) - np.log(smoothed_class_count.reshape(-1, 1))\n",
      "C:\\ProgramData\\anaconda3\\Lib\\site-packages\\sklearn\\naive_bayes.py:633: UserWarning: alpha too small will result in numeric errors, setting alpha = 1.0e-10. Use `force_alpha=True` to keep alpha unchanged.\n",
      "  warnings.warn(\n",
      "C:\\ProgramData\\anaconda3\\Lib\\site-packages\\sklearn\\naive_bayes.py:633: UserWarning: alpha too small will result in numeric errors, setting alpha = 1.0e-10. Use `force_alpha=True` to keep alpha unchanged.\n",
      "  warnings.warn(\n",
      "C:\\ProgramData\\anaconda3\\Lib\\site-packages\\sklearn\\naive_bayes.py:633: UserWarning: alpha too small will result in numeric errors, setting alpha = 1.0e-10. Use `force_alpha=True` to keep alpha unchanged.\n",
      "  warnings.warn(\n",
      "C:\\ProgramData\\anaconda3\\Lib\\site-packages\\sklearn\\naive_bayes.py:633: UserWarning: alpha too small will result in numeric errors, setting alpha = 1.0e-10. Use `force_alpha=True` to keep alpha unchanged.\n",
      "  warnings.warn(\n",
      "C:\\ProgramData\\anaconda3\\Lib\\site-packages\\sklearn\\naive_bayes.py:633: UserWarning: alpha too small will result in numeric errors, setting alpha = 1.0e-10. Use `force_alpha=True` to keep alpha unchanged.\n",
      "  warnings.warn(\n",
      "C:\\ProgramData\\anaconda3\\Lib\\site-packages\\sklearn\\naive_bayes.py:1517: RuntimeWarning: divide by zero encountered in log\n",
      "  np.log(smoothed_cat_count) - np.log(smoothed_class_count.reshape(-1, 1))\n",
      "C:\\ProgramData\\anaconda3\\Lib\\site-packages\\sklearn\\naive_bayes.py:1517: RuntimeWarning: divide by zero encountered in log\n",
      "  np.log(smoothed_cat_count) - np.log(smoothed_class_count.reshape(-1, 1))\n",
      "C:\\ProgramData\\anaconda3\\Lib\\site-packages\\sklearn\\naive_bayes.py:1517: RuntimeWarning: divide by zero encountered in log\n",
      "  np.log(smoothed_cat_count) - np.log(smoothed_class_count.reshape(-1, 1))\n",
      "C:\\ProgramData\\anaconda3\\Lib\\site-packages\\sklearn\\naive_bayes.py:1517: RuntimeWarning: divide by zero encountered in log\n",
      "  np.log(smoothed_cat_count) - np.log(smoothed_class_count.reshape(-1, 1))\n",
      "C:\\ProgramData\\anaconda3\\Lib\\site-packages\\sklearn\\naive_bayes.py:1517: RuntimeWarning: divide by zero encountered in log\n",
      "  np.log(smoothed_cat_count) - np.log(smoothed_class_count.reshape(-1, 1))\n",
      "C:\\ProgramData\\anaconda3\\Lib\\site-packages\\sklearn\\naive_bayes.py:633: UserWarning: alpha too small will result in numeric errors, setting alpha = 1.0e-10. Use `force_alpha=True` to keep alpha unchanged.\n",
      "  warnings.warn(\n",
      "C:\\ProgramData\\anaconda3\\Lib\\site-packages\\sklearn\\naive_bayes.py:633: UserWarning: alpha too small will result in numeric errors, setting alpha = 1.0e-10. Use `force_alpha=True` to keep alpha unchanged.\n",
      "  warnings.warn(\n",
      "C:\\ProgramData\\anaconda3\\Lib\\site-packages\\sklearn\\naive_bayes.py:633: UserWarning: alpha too small will result in numeric errors, setting alpha = 1.0e-10. Use `force_alpha=True` to keep alpha unchanged.\n",
      "  warnings.warn(\n",
      "C:\\ProgramData\\anaconda3\\Lib\\site-packages\\sklearn\\naive_bayes.py:633: UserWarning: alpha too small will result in numeric errors, setting alpha = 1.0e-10. Use `force_alpha=True` to keep alpha unchanged.\n",
      "  warnings.warn(\n",
      "C:\\ProgramData\\anaconda3\\Lib\\site-packages\\sklearn\\naive_bayes.py:633: UserWarning: alpha too small will result in numeric errors, setting alpha = 1.0e-10. Use `force_alpha=True` to keep alpha unchanged.\n",
      "  warnings.warn(\n"
     ]
    },
    {
     "name": "stdout",
     "output_type": "stream",
     "text": [
      "{'alpha': 1.0, 'fit_prior': True, 'force_alpha': True}\n"
     ]
    }
   ],
   "source": [
    "param_grid ={\n",
    "    'alpha':[0,0.01,0.001,1.0],\n",
    "    'force_alpha':[True,False],\n",
    "    'fit_prior':[True,False]\n",
    "}\n",
    "\n",
    "grid_Se = GridSearchCV(cb,param_grid,refit=True)\n",
    "grid_Se.fit(X_train,Y_train)\n",
    "print(grid_Se.best_params_)"
   ]
  },
  {
   "cell_type": "code",
   "execution_count": 54,
   "id": "d6ad41a1",
   "metadata": {},
   "outputs": [],
   "source": [
    "accuracy_stratified_cb = []"
   ]
  },
  {
   "cell_type": "code",
   "execution_count": 55,
   "id": "5a8db241",
   "metadata": {},
   "outputs": [],
   "source": [
    "# NOW trying with Stratified K-Fold Cross Validation...\n",
    "\n",
    "for tr,te in STR.split(X,Y):\n",
    "    X_tr,X_te,Y_tr,Y_te = X[tr],X[te],Y[tr],Y[te]\n",
    "    # Now I am going to implement CategoricalNB..\n",
    "    cb1 = CategoricalNB(alpha=1.0,fit_prior=True,force_alpha=True)\n",
    "    # now fit with the same\n",
    "    cb.fit(X_tr,Y_tr)\n",
    "    # predicting the values\n",
    "    Y_pred_stratified_categorical_NB = cb.predict(X_te)\n",
    "    # calculate Accuracy...\n",
    "    accuraci_stratified_cb = accuracy_score(Y_te,Y_pred_stratified_categorical_NB)\n",
    "    # store it in list..\n",
    "    accuracy_stratified_cb.append(accuraci_stratified_cb)"
   ]
  },
  {
   "cell_type": "code",
   "execution_count": 56,
   "id": "8a8fcb96",
   "metadata": {},
   "outputs": [
    {
     "name": "stdout",
     "output_type": "stream",
     "text": [
      "Accuracy for CategoricalNB after Stratified Cross Validation:  0.9728571428571428\n"
     ]
    }
   ],
   "source": [
    "# printing the mean\n",
    "print(f\"Accuracy for CategoricalNB after Stratified Cross Validation: \",np.mean(accuracy_stratified_cb))"
   ]
  },
  {
   "cell_type": "code",
   "execution_count": 57,
   "id": "9f6b0b4b",
   "metadata": {},
   "outputs": [
    {
     "name": "stdout",
     "output_type": "stream",
     "text": [
      "0.9785714285714285\n",
      "0.9785714285714285\n",
      "0.9642857142857143\n",
      "0.9785714285714285\n",
      "0.9642857142857143\n"
     ]
    }
   ],
   "source": [
    "for l in accuracy_stratified_cb:\n",
    "    print(l)"
   ]
  },
  {
   "cell_type": "code",
   "execution_count": 58,
   "id": "a8acbfdd",
   "metadata": {},
   "outputs": [],
   "source": [
    "# as per without cross validation, we get 95% and after cross validation, we are getting 97.28% "
   ]
  },
  {
   "cell_type": "code",
   "execution_count": 59,
   "id": "96769d01",
   "metadata": {},
   "outputs": [
    {
     "data": {
      "image/png": "[encoded data removed]",
      "text/plain": [
       "<Figure size 640x480 with 2 Axes>"
      ]
     },
     "metadata": {},
     "output_type": "display_data"
    }
   ],
   "source": [
    "confusion_matrix_for_classification(Y_te,Y_pred_stratified_categorical_NB,'Confusion Matrix for Categorical NB with Stratified K-Cross Validation')"
   ]
  },
  {
   "cell_type": "code",
   "execution_count": 60,
   "id": "26391434",
   "metadata": {},
   "outputs": [
    {
     "name": "stdout",
     "output_type": "stream",
     "text": [
      "Accuracy Score:  0.9642857142857143\n",
      "Recall Score:  0.9642857142857143\n",
      "Precision Score:  0.9642857142857143\n",
      "F1-score:  0.9642857142857143\n",
      "Classification Report:                precision    recall  f1-score   support\n",
      "\n",
      "           0       0.99      0.96      0.97        91\n",
      "           1       0.92      0.98      0.95        49\n",
      "\n",
      "    accuracy                           0.96       140\n",
      "   macro avg       0.96      0.97      0.96       140\n",
      "weighted avg       0.97      0.96      0.96       140\n",
      "\n"
     ]
    }
   ],
   "source": [
    "accuracy_recall_precision(Y_te,Y_pred_stratified_categorical_NB)"
   ]
  },
  {
   "cell_type": "code",
   "execution_count": null,
   "id": "bea130cb",
   "metadata": {},
   "outputs": [],
   "source": []
  },
  {
   "cell_type": "code",
   "execution_count": null,
   "id": "b62218f2",
   "metadata": {},
   "outputs": [],
   "source": []
  },
  {
   "cell_type": "code",
   "execution_count": null,
   "id": "c060dfe7",
   "metadata": {},
   "outputs": [],
   "source": []
  },
  {
   "cell_type": "code",
   "execution_count": 61,
   "id": "ebf9ad13",
   "metadata": {},
   "outputs": [],
   "source": [
    "# now let's try with other NB's like GaussianNB,BernoulliNB\n",
    "from sklearn.naive_bayes import GaussianNB"
   ]
  },
  {
   "cell_type": "code",
   "execution_count": 62,
   "id": "30955358",
   "metadata": {},
   "outputs": [],
   "source": [
    "# calling the object...\n",
    "GNB = GaussianNB()"
   ]
  },
  {
   "cell_type": "code",
   "execution_count": 63,
   "id": "587ced67",
   "metadata": {},
   "outputs": [
    {
     "data": {
      "text/html": [
       "<style>#sk-container-id-3 {color: black;}#sk-container-id-3 pre{padding: 0;}#sk-container-id-3 div.sk-toggleable {background-color: white;}#sk-container-id-3 label.sk-toggleable__label {cursor: pointer;display: block;width: 100%;margin-bottom: 0;padding: 0.3em;box-sizing: border-box;text-align: center;}#sk-container-id-3 label.sk-toggleable__label-arrow:before {content: \"▸\";float: left;margin-right: 0.25em;color: #696969;}#sk-container-id-3 label.sk-toggleable__label-arrow:hover:before {color: black;}#sk-container-id-3 div.sk-estimator:hover label.sk-toggleable__label-arrow:before {color: black;}#sk-container-id-3 div.sk-toggleable__content {max-height: 0;max-width: 0;overflow: hidden;text-align: left;background-color: #f0f8ff;}#sk-container-id-3 div.sk-toggleable__content pre {margin: 0.2em;color: black;border-radius: 0.25em;background-color: #f0f8ff;}#sk-container-id-3 input.sk-toggleable__control:checked~div.sk-toggleable__content {max-height: 200px;max-width: 100%;overflow: auto;}#sk-container-id-3 input.sk-toggleable__control:checked~label.sk-toggleable__label-arrow:before {content: \"▾\";}#sk-container-id-3 div.sk-estimator input.sk-toggleable__control:checked~label.sk-toggleable__label {background-color: #d4ebff;}#sk-container-id-3 div.sk-label input.sk-toggleable__control:checked~label.sk-toggleable__label {background-color: #d4ebff;}#sk-container-id-3 input.sk-hidden--visually {border: 0;clip: rect(1px 1px 1px 1px);clip: rect(1px, 1px, 1px, 1px);height: 1px;margin: -1px;overflow: hidden;padding: 0;position: absolute;width: 1px;}#sk-container-id-3 div.sk-estimator {font-family: monospace;background-color: #f0f8ff;border: 1px dotted black;border-radius: 0.25em;box-sizing: border-box;margin-bottom: 0.5em;}#sk-container-id-3 div.sk-estimator:hover {background-color: #d4ebff;}#sk-container-id-3 div.sk-parallel-item::after {content: \"\";width: 100%;border-bottom: 1px solid gray;flex-grow: 1;}#sk-container-id-3 div.sk-label:hover label.sk-toggleable__label {background-color: #d4ebff;}#sk-container-id-3 div.sk-serial::before {content: \"\";position: absolute;border-left: 1px solid gray;box-sizing: border-box;top: 0;bottom: 0;left: 50%;z-index: 0;}#sk-container-id-3 div.sk-serial {display: flex;flex-direction: column;align-items: center;background-color: white;padding-right: 0.2em;padding-left: 0.2em;position: relative;}#sk-container-id-3 div.sk-item {position: relative;z-index: 1;}#sk-container-id-3 div.sk-parallel {display: flex;align-items: stretch;justify-content: center;background-color: white;position: relative;}#sk-container-id-3 div.sk-item::before, #sk-container-id-3 div.sk-parallel-item::before {content: \"\";position: absolute;border-left: 1px solid gray;box-sizing: border-box;top: 0;bottom: 0;left: 50%;z-index: -1;}#sk-container-id-3 div.sk-parallel-item {display: flex;flex-direction: column;z-index: 1;position: relative;background-color: white;}#sk-container-id-3 div.sk-parallel-item:first-child::after {align-self: flex-end;width: 50%;}#sk-container-id-3 div.sk-parallel-item:last-child::after {align-self: flex-start;width: 50%;}#sk-container-id-3 div.sk-parallel-item:only-child::after {width: 0;}#sk-container-id-3 div.sk-dashed-wrapped {border: 1px dashed gray;margin: 0 0.4em 0.5em 0.4em;box-sizing: border-box;padding-bottom: 0.4em;background-color: white;}#sk-container-id-3 div.sk-label label {font-family: monospace;font-weight: bold;display: inline-block;line-height: 1.2em;}#sk-container-id-3 div.sk-label-container {text-align: center;}#sk-container-id-3 div.sk-container {/* jupyter's `normalize.less` sets `[hidden] { display: none; }` but bootstrap.min.css set `[hidden] { display: none !important; }` so we also need the `!important` here to be able to override the default hidden behavior on the sphinx rendered scikit-learn.org. See: https://github.com/scikit-learn/scikit-learn/issues/21755 */display: inline-block !important;position: relative;}#sk-container-id-3 div.sk-text-repr-fallback {display: none;}</style><div id=\"sk-container-id-3\" class=\"sk-top-container\"><div class=\"sk-text-repr-fallback\"><pre>GaussianNB()</pre><b>In a Jupyter environment, please rerun this cell to show the HTML representation or trust the notebook. <br />On GitHub, the HTML representation is unable to render, please try loading this page with nbviewer.org.</b></div><div class=\"sk-container\" hidden><div class=\"sk-item\"><div class=\"sk-estimator sk-toggleable\"><input class=\"sk-toggleable__control sk-hidden--visually\" id=\"sk-estimator-id-3\" type=\"checkbox\" checked><label for=\"sk-estimator-id-3\" class=\"sk-toggleable__label sk-toggleable__label-arrow\">GaussianNB</label><div class=\"sk-toggleable__content\"><pre>GaussianNB()</pre></div></div></div></div></div>"
      ],
      "text/plain": [
       "GaussianNB()"
      ]
     },
     "execution_count": 63,
     "metadata": {},
     "output_type": "execute_result"
    }
   ],
   "source": [
    "# fitting with X_train and Y_Train...\n",
    "GNB.fit(X_train,Y_train)"
   ]
  },
  {
   "cell_type": "code",
   "execution_count": 64,
   "id": "b4543d4e",
   "metadata": {},
   "outputs": [],
   "source": [
    "Y_Predicted_GaussianNB = GNB.predict(X_test)"
   ]
  },
  {
   "cell_type": "code",
   "execution_count": 65,
   "id": "2819371d",
   "metadata": {},
   "outputs": [
    {
     "data": {
      "text/plain": [
       "array([0, 1, 1, 1, 1, 0, 1, 0, 1, 1, 0, 0, 0, 0, 1, 1, 0, 1, 0, 0, 0, 1,\n",
       "       0, 0, 1, 0, 0, 0, 0, 1, 1, 0, 0, 0, 0, 0, 0, 0, 1, 1, 0, 0, 1, 0,\n",
       "       0, 1, 0, 1, 0, 1, 0, 0, 1, 0, 0, 1, 1, 1, 1, 0, 0, 1, 0, 0, 1, 0,\n",
       "       1, 0, 0, 1, 1, 0, 1, 1, 0, 1, 0, 0, 1, 0, 0, 1, 0, 1, 0, 1, 1, 1,\n",
       "       1, 1, 0, 0, 0, 0, 0, 0, 0, 0, 0, 0, 0, 0, 0, 0, 1, 0, 1, 1, 0, 0,\n",
       "       0, 1, 0, 0, 0, 0, 0, 1, 1, 0, 1, 1, 0, 1, 1, 0, 1, 1, 0, 1, 1, 0,\n",
       "       0, 0, 0, 0, 1, 0, 0, 0], dtype=int64)"
      ]
     },
     "execution_count": 65,
     "metadata": {},
     "output_type": "execute_result"
    }
   ],
   "source": [
    "Y_Predicted_GaussianNB"
   ]
  },
  {
   "cell_type": "code",
   "execution_count": 66,
   "id": "29b1dd66",
   "metadata": {},
   "outputs": [
    {
     "name": "stdout",
     "output_type": "stream",
     "text": [
      "Accuracy Score:  0.9428571428571428\n",
      "Recall Score:  0.9428571428571428\n",
      "Precision Score:  0.9428571428571428\n",
      "F1-score:  0.9428571428571428\n",
      "Classification Report:                precision    recall  f1-score   support\n",
      "\n",
      "           0       0.96      0.94      0.95        86\n",
      "           1       0.91      0.94      0.93        54\n",
      "\n",
      "    accuracy                           0.94       140\n",
      "   macro avg       0.94      0.94      0.94       140\n",
      "weighted avg       0.94      0.94      0.94       140\n",
      "\n"
     ]
    }
   ],
   "source": [
    "accuracy_recall_precision(Y_test,Y_Predicted_GaussianNB)"
   ]
  },
  {
   "cell_type": "code",
   "execution_count": 67,
   "id": "66312713",
   "metadata": {},
   "outputs": [
    {
     "name": "stdout",
     "output_type": "stream",
     "text": [
      "Fitting 5 folds for each of 2 candidates, totalling 10 fits\n",
      "[CV 1/5] END ...............var_smoothing=1e-08;, score=0.936 total time=   0.0s\n",
      "[CV 2/5] END ...............var_smoothing=1e-08;, score=0.936 total time=   0.0s\n",
      "[CV 3/5] END ...............var_smoothing=1e-08;, score=0.971 total time=   0.0s\n",
      "[CV 4/5] END ...............var_smoothing=1e-08;, score=0.971 total time=   0.0s\n",
      "[CV 5/5] END ...............var_smoothing=1e-08;, score=0.979 total time=   0.0s\n",
      "[CV 1/5] END ...............var_smoothing=1e-09;, score=0.936 total time=   0.0s\n",
      "[CV 2/5] END ...............var_smoothing=1e-09;, score=0.936 total time=   0.0s\n",
      "[CV 3/5] END ...............var_smoothing=1e-09;, score=0.971 total time=   0.0s\n",
      "[CV 4/5] END ...............var_smoothing=1e-09;, score=0.971 total time=   0.0s\n",
      "[CV 5/5] END ...............var_smoothing=1e-09;, score=0.979 total time=   0.0s\n",
      "{'var_smoothing': 1e-08}\n"
     ]
    }
   ],
   "source": [
    "# i believe var_smoothing is the best parameter for GaussianNB, this parameter smoothens the variance...\n",
    "param_grid = {\n",
    "    'var_smoothing':[1e-08,1e-09]\n",
    "}\n",
    "\n",
    "gridsearch = GridSearchCV(GNB,param_grid,refit=True,verbose=3)\n",
    "gridsearch.fit(X,Y)\n",
    "print(gridsearch.best_params_)"
   ]
  },
  {
   "cell_type": "code",
   "execution_count": 68,
   "id": "9b02d8be",
   "metadata": {},
   "outputs": [],
   "source": [
    "acc_stratified_Gaussian=[]"
   ]
  },
  {
   "cell_type": "code",
   "execution_count": 69,
   "id": "f9bbf761",
   "metadata": {},
   "outputs": [],
   "source": [
    "# why I am selecting var_smoothing is that because to smooothen the curve, it adds the variance for more probability estimation..\n",
    "# such that I would be getting better accuracy....\n",
    "# now based on GridSearchCV, I am going to enter my parameters to GaussianNB...\n",
    "# same Stratified K-Fold cross validation is used....\n",
    "for trainGB,testGB in STR.split(X,Y):\n",
    "    X_trGB, X_tesGB,Y_trGB,Y_tesGB = X[trainGB],X[testGB],Y[trainGB],Y[testGB]\n",
    "    # now implementing GaussianNB with specified Parameters...\n",
    "    GNB1 = GaussianNB(var_smoothing=1e-08)\n",
    "    # Now going to fit X and Y...\n",
    "    GNB1.fit(X_trGB,Y_trGB)\n",
    "    # predict output values....\n",
    "    Y_pred_Stratified_GNB1 = GNB1.predict(X_tesGB)\n",
    "    # calculating the accuracy....\n",
    "    acc_stratified_Gaussian.append(accuracy_score(Y_tesGB,Y_pred_Stratified_GNB1))"
   ]
  },
  {
   "cell_type": "code",
   "execution_count": 70,
   "id": "68278100",
   "metadata": {},
   "outputs": [
    {
     "name": "stdout",
     "output_type": "stream",
     "text": [
      "0.9642857142857143\n",
      "0.9857142857142858\n",
      "0.9357142857142857\n",
      "0.9571428571428572\n",
      "0.95\n"
     ]
    }
   ],
   "source": [
    "for t in acc_stratified_Gaussian:\n",
    "    print(t)"
   ]
  },
  {
   "cell_type": "code",
   "execution_count": 71,
   "id": "95f5bd48",
   "metadata": {},
   "outputs": [
    {
     "name": "stdout",
     "output_type": "stream",
     "text": [
      "Accuracy for GaussianNB after Stratified K-Fold Cross Validation: 0.9585714285714287\n"
     ]
    }
   ],
   "source": [
    "print(f\"Accuracy for GaussianNB after Stratified K-Fold Cross Validation:\",np.mean(acc_stratified_Gaussian))"
   ]
  },
  {
   "cell_type": "code",
   "execution_count": 72,
   "id": "d6f11e45",
   "metadata": {},
   "outputs": [
    {
     "data": {
      "image/png": "[encoded data removed]",
      "text/plain": [
       "<Figure size 640x480 with 2 Axes>"
      ]
     },
     "metadata": {},
     "output_type": "display_data"
    }
   ],
   "source": [
    "# after mentioning var_smoothing, my updated accuracy is 95.714%....\n",
    "confusion_matrix_for_classification(Y_tesGB,Y_pred_Stratified_GNB1,'Confusion Matrix for GaussianNB with Stratified K-Fold Cross Validation')"
   ]
  },
  {
   "cell_type": "code",
   "execution_count": 73,
   "id": "fff76ced",
   "metadata": {},
   "outputs": [
    {
     "name": "stdout",
     "output_type": "stream",
     "text": [
      "Accuracy Score:  0.95\n",
      "Recall Score:  0.95\n",
      "Precision Score:  0.95\n",
      "F1-score:  0.95\n",
      "Classification Report:                precision    recall  f1-score   support\n",
      "\n",
      "           0       1.00      0.92      0.96        91\n",
      "           1       0.88      1.00      0.93        49\n",
      "\n",
      "    accuracy                           0.95       140\n",
      "   macro avg       0.94      0.96      0.95       140\n",
      "weighted avg       0.96      0.95      0.95       140\n",
      "\n"
     ]
    }
   ],
   "source": [
    "accuracy_recall_precision(Y_tesGB,Y_pred_Stratified_GNB1)"
   ]
  },
  {
   "cell_type": "code",
   "execution_count": null,
   "id": "86e8f74d",
   "metadata": {},
   "outputs": [],
   "source": []
  },
  {
   "cell_type": "code",
   "execution_count": 74,
   "id": "980118e6",
   "metadata": {},
   "outputs": [],
   "source": [
    "# now let's confirm the fact that multinomialNB can't be applicable for numerical and binary classification datasets...\n",
    "from sklearn.naive_bayes import MultinomialNB"
   ]
  },
  {
   "cell_type": "code",
   "execution_count": 75,
   "id": "86271949",
   "metadata": {},
   "outputs": [],
   "source": [
    "mulm = MultinomialNB()"
   ]
  },
  {
   "cell_type": "code",
   "execution_count": 76,
   "id": "ccc11459",
   "metadata": {},
   "outputs": [
    {
     "data": {
      "text/html": [
       "<style>#sk-container-id-4 {color: black;}#sk-container-id-4 pre{padding: 0;}#sk-container-id-4 div.sk-toggleable {background-color: white;}#sk-container-id-4 label.sk-toggleable__label {cursor: pointer;display: block;width: 100%;margin-bottom: 0;padding: 0.3em;box-sizing: border-box;text-align: center;}#sk-container-id-4 label.sk-toggleable__label-arrow:before {content: \"▸\";float: left;margin-right: 0.25em;color: #696969;}#sk-container-id-4 label.sk-toggleable__label-arrow:hover:before {color: black;}#sk-container-id-4 div.sk-estimator:hover label.sk-toggleable__label-arrow:before {color: black;}#sk-container-id-4 div.sk-toggleable__content {max-height: 0;max-width: 0;overflow: hidden;text-align: left;background-color: #f0f8ff;}#sk-container-id-4 div.sk-toggleable__content pre {margin: 0.2em;color: black;border-radius: 0.25em;background-color: #f0f8ff;}#sk-container-id-4 input.sk-toggleable__control:checked~div.sk-toggleable__content {max-height: 200px;max-width: 100%;overflow: auto;}#sk-container-id-4 input.sk-toggleable__control:checked~label.sk-toggleable__label-arrow:before {content: \"▾\";}#sk-container-id-4 div.sk-estimator input.sk-toggleable__control:checked~label.sk-toggleable__label {background-color: #d4ebff;}#sk-container-id-4 div.sk-label input.sk-toggleable__control:checked~label.sk-toggleable__label {background-color: #d4ebff;}#sk-container-id-4 input.sk-hidden--visually {border: 0;clip: rect(1px 1px 1px 1px);clip: rect(1px, 1px, 1px, 1px);height: 1px;margin: -1px;overflow: hidden;padding: 0;position: absolute;width: 1px;}#sk-container-id-4 div.sk-estimator {font-family: monospace;background-color: #f0f8ff;border: 1px dotted black;border-radius: 0.25em;box-sizing: border-box;margin-bottom: 0.5em;}#sk-container-id-4 div.sk-estimator:hover {background-color: #d4ebff;}#sk-container-id-4 div.sk-parallel-item::after {content: \"\";width: 100%;border-bottom: 1px solid gray;flex-grow: 1;}#sk-container-id-4 div.sk-label:hover label.sk-toggleable__label {background-color: #d4ebff;}#sk-container-id-4 div.sk-serial::before {content: \"\";position: absolute;border-left: 1px solid gray;box-sizing: border-box;top: 0;bottom: 0;left: 50%;z-index: 0;}#sk-container-id-4 div.sk-serial {display: flex;flex-direction: column;align-items: center;background-color: white;padding-right: 0.2em;padding-left: 0.2em;position: relative;}#sk-container-id-4 div.sk-item {position: relative;z-index: 1;}#sk-container-id-4 div.sk-parallel {display: flex;align-items: stretch;justify-content: center;background-color: white;position: relative;}#sk-container-id-4 div.sk-item::before, #sk-container-id-4 div.sk-parallel-item::before {content: \"\";position: absolute;border-left: 1px solid gray;box-sizing: border-box;top: 0;bottom: 0;left: 50%;z-index: -1;}#sk-container-id-4 div.sk-parallel-item {display: flex;flex-direction: column;z-index: 1;position: relative;background-color: white;}#sk-container-id-4 div.sk-parallel-item:first-child::after {align-self: flex-end;width: 50%;}#sk-container-id-4 div.sk-parallel-item:last-child::after {align-self: flex-start;width: 50%;}#sk-container-id-4 div.sk-parallel-item:only-child::after {width: 0;}#sk-container-id-4 div.sk-dashed-wrapped {border: 1px dashed gray;margin: 0 0.4em 0.5em 0.4em;box-sizing: border-box;padding-bottom: 0.4em;background-color: white;}#sk-container-id-4 div.sk-label label {font-family: monospace;font-weight: bold;display: inline-block;line-height: 1.2em;}#sk-container-id-4 div.sk-label-container {text-align: center;}#sk-container-id-4 div.sk-container {/* jupyter's `normalize.less` sets `[hidden] { display: none; }` but bootstrap.min.css set `[hidden] { display: none !important; }` so we also need the `!important` here to be able to override the default hidden behavior on the sphinx rendered scikit-learn.org. See: https://github.com/scikit-learn/scikit-learn/issues/21755 */display: inline-block !important;position: relative;}#sk-container-id-4 div.sk-text-repr-fallback {display: none;}</style><div id=\"sk-container-id-4\" class=\"sk-top-container\"><div class=\"sk-text-repr-fallback\"><pre>MultinomialNB()</pre><b>In a Jupyter environment, please rerun this cell to show the HTML representation or trust the notebook. <br />On GitHub, the HTML representation is unable to render, please try loading this page with nbviewer.org.</b></div><div class=\"sk-container\" hidden><div class=\"sk-item\"><div class=\"sk-estimator sk-toggleable\"><input class=\"sk-toggleable__control sk-hidden--visually\" id=\"sk-estimator-id-4\" type=\"checkbox\" checked><label for=\"sk-estimator-id-4\" class=\"sk-toggleable__label sk-toggleable__label-arrow\">MultinomialNB</label><div class=\"sk-toggleable__content\"><pre>MultinomialNB()</pre></div></div></div></div></div>"
      ],
      "text/plain": [
       "MultinomialNB()"
      ]
     },
     "execution_count": 76,
     "metadata": {},
     "output_type": "execute_result"
    }
   ],
   "source": [
    "mulm.fit(X_train,Y_train)"
   ]
  },
  {
   "cell_type": "code",
   "execution_count": 77,
   "id": "62664e11",
   "metadata": {},
   "outputs": [],
   "source": [
    "Y_predicted_for_multinb = mulm.predict(X_test)"
   ]
  },
  {
   "cell_type": "code",
   "execution_count": 78,
   "id": "61125228",
   "metadata": {},
   "outputs": [
    {
     "data": {
      "text/plain": [
       "array([0, 1, 1, 1, 1, 0, 1, 0, 1, 0, 0, 0, 0, 0, 0, 1, 0, 1, 0, 0, 0, 0,\n",
       "       0, 0, 1, 0, 0, 0, 0, 1, 1, 0, 0, 0, 0, 0, 0, 0, 1, 1, 0, 0, 1, 0,\n",
       "       0, 1, 0, 1, 0, 1, 0, 0, 1, 0, 0, 0, 1, 0, 0, 0, 0, 1, 0, 0, 0, 0,\n",
       "       1, 0, 0, 1, 1, 0, 0, 1, 0, 0, 0, 0, 1, 0, 0, 1, 0, 0, 0, 1, 1, 1,\n",
       "       1, 1, 0, 0, 0, 0, 0, 0, 0, 0, 0, 0, 0, 0, 0, 0, 1, 0, 1, 0, 0, 0,\n",
       "       0, 0, 0, 0, 1, 0, 0, 1, 1, 0, 0, 1, 0, 1, 1, 0, 1, 1, 0, 1, 1, 0,\n",
       "       0, 0, 0, 0, 1, 0, 0, 0], dtype=int64)"
      ]
     },
     "execution_count": 78,
     "metadata": {},
     "output_type": "execute_result"
    }
   ],
   "source": [
    "Y_predicted_for_multinb"
   ]
  },
  {
   "cell_type": "code",
   "execution_count": 79,
   "id": "3bf10b93",
   "metadata": {},
   "outputs": [
    {
     "name": "stdout",
     "output_type": "stream",
     "text": [
      "Accuracy Score:  0.8571428571428571\n",
      "Recall Score:  0.8571428571428571\n",
      "Precision Score:  0.8571428571428571\n",
      "F1-score:  0.8571428571428571\n",
      "Classification Report:                precision    recall  f1-score   support\n",
      "\n",
      "           0       0.84      0.94      0.89        86\n",
      "           1       0.89      0.72      0.80        54\n",
      "\n",
      "    accuracy                           0.86       140\n",
      "   macro avg       0.87      0.83      0.84       140\n",
      "weighted avg       0.86      0.86      0.85       140\n",
      "\n"
     ]
    }
   ],
   "source": [
    "accuracy_recall_precision(Y_test,Y_predicted_for_multinb)"
   ]
  },
  {
   "cell_type": "code",
   "execution_count": 80,
   "id": "a8ad48cf",
   "metadata": {},
   "outputs": [
    {
     "data": {
      "image/png": "[encoded data removed]",
      "text/plain": [
       "<Figure size 640x480 with 2 Axes>"
      ]
     },
     "metadata": {},
     "output_type": "display_data"
    }
   ],
   "source": [
    "confusion_matrix_for_classification(Y_test,Y_predicted_for_multinb,'Confusion Matrix for Multinomial Naive Bayes')"
   ]
  },
  {
   "cell_type": "code",
   "execution_count": 81,
   "id": "5b79aed0",
   "metadata": {},
   "outputs": [
    {
     "name": "stderr",
     "output_type": "stream",
     "text": [
      "C:\\ProgramData\\anaconda3\\Lib\\site-packages\\sklearn\\naive_bayes.py:633: UserWarning: alpha too small will result in numeric errors, setting alpha = 1.0e-10. Use `force_alpha=True` to keep alpha unchanged.\n",
      "  warnings.warn(\n",
      "C:\\ProgramData\\anaconda3\\Lib\\site-packages\\sklearn\\naive_bayes.py:633: UserWarning: alpha too small will result in numeric errors, setting alpha = 1.0e-10. Use `force_alpha=True` to keep alpha unchanged.\n",
      "  warnings.warn(\n",
      "C:\\ProgramData\\anaconda3\\Lib\\site-packages\\sklearn\\naive_bayes.py:633: UserWarning: alpha too small will result in numeric errors, setting alpha = 1.0e-10. Use `force_alpha=True` to keep alpha unchanged.\n",
      "  warnings.warn(\n",
      "C:\\ProgramData\\anaconda3\\Lib\\site-packages\\sklearn\\naive_bayes.py:633: UserWarning: alpha too small will result in numeric errors, setting alpha = 1.0e-10. Use `force_alpha=True` to keep alpha unchanged.\n",
      "  warnings.warn(\n",
      "C:\\ProgramData\\anaconda3\\Lib\\site-packages\\sklearn\\naive_bayes.py:633: UserWarning: alpha too small will result in numeric errors, setting alpha = 1.0e-10. Use `force_alpha=True` to keep alpha unchanged.\n",
      "  warnings.warn(\n",
      "C:\\ProgramData\\anaconda3\\Lib\\site-packages\\sklearn\\naive_bayes.py:633: UserWarning: alpha too small will result in numeric errors, setting alpha = 1.0e-10. Use `force_alpha=True` to keep alpha unchanged.\n",
      "  warnings.warn(\n",
      "C:\\ProgramData\\anaconda3\\Lib\\site-packages\\sklearn\\naive_bayes.py:633: UserWarning: alpha too small will result in numeric errors, setting alpha = 1.0e-10. Use `force_alpha=True` to keep alpha unchanged.\n",
      "  warnings.warn(\n",
      "C:\\ProgramData\\anaconda3\\Lib\\site-packages\\sklearn\\naive_bayes.py:633: UserWarning: alpha too small will result in numeric errors, setting alpha = 1.0e-10. Use `force_alpha=True` to keep alpha unchanged.\n",
      "  warnings.warn(\n",
      "C:\\ProgramData\\anaconda3\\Lib\\site-packages\\sklearn\\naive_bayes.py:633: UserWarning: alpha too small will result in numeric errors, setting alpha = 1.0e-10. Use `force_alpha=True` to keep alpha unchanged.\n",
      "  warnings.warn(\n",
      "C:\\ProgramData\\anaconda3\\Lib\\site-packages\\sklearn\\naive_bayes.py:633: UserWarning: alpha too small will result in numeric errors, setting alpha = 1.0e-10. Use `force_alpha=True` to keep alpha unchanged.\n",
      "  warnings.warn(\n"
     ]
    },
    {
     "name": "stdout",
     "output_type": "stream",
     "text": [
      "{'alpha': 0, 'fit_prior': True, 'force_alpha': True}\n"
     ]
    }
   ],
   "source": [
    "# as per my knowledge, I believe that alpha, forc_alpha and fit_prior are essential parameters for Mulitnomial Naive Bayes...\n",
    "param_grid ={\n",
    "    'alpha':[0,0.01,0.001,1.0],\n",
    "    'force_alpha':[True,False],\n",
    "    'fit_prior':[True,False]\n",
    "}\n",
    "\n",
    "grid_Se = GridSearchCV(mulm,param_grid,refit=True)\n",
    "grid_Se.fit(X_train,Y_train)\n",
    "print(grid_Se.best_params_)"
   ]
  },
  {
   "cell_type": "code",
   "execution_count": 82,
   "id": "4cdce952",
   "metadata": {},
   "outputs": [],
   "source": [
    "accuracy_stratified_MB = []"
   ]
  },
  {
   "cell_type": "code",
   "execution_count": 83,
   "id": "9e05d198",
   "metadata": {},
   "outputs": [],
   "source": [
    "# now implementing with stratified k-fold cross validation...\n",
    "for trainMB,testMB in STR.split(X,Y):\n",
    "    X_trainMB,X_testMB,Y_trainMB,Y_testMB = X[trainMB],X[testMB],Y[trainMB],Y[testMB]\n",
    "    # Create MulitnomialNB...\n",
    "    mulm1 = MultinomialNB(alpha=0,fit_prior=True,force_alpha=True)\n",
    "    # fit with training...\n",
    "    mulm1.fit(X_trainMB,Y_trainMB)\n",
    "    # test with Y_test\n",
    "    Y_pred_Stratified_Mulm = mulm1.predict(X_testMB)\n",
    "    # stratified multinomial NB...\n",
    "    accuracy_stratified_MB.append(accuracy_score(Y_testMB,Y_pred_Stratified_Mulm))"
   ]
  },
  {
   "cell_type": "code",
   "execution_count": 84,
   "id": "ca108523",
   "metadata": {},
   "outputs": [
    {
     "name": "stdout",
     "output_type": "stream",
     "text": [
      "0.9142857142857143\n",
      "0.8714285714285714\n",
      "0.9071428571428571\n",
      "0.85\n",
      "0.8928571428571429\n"
     ]
    }
   ],
   "source": [
    "for k in accuracy_stratified_MB:\n",
    "    print(k)"
   ]
  },
  {
   "cell_type": "code",
   "execution_count": 85,
   "id": "0a6522f1",
   "metadata": {},
   "outputs": [
    {
     "name": "stdout",
     "output_type": "stream",
     "text": [
      "Accuracy for Multinomial after StratifiedNB: 0.8871428571428572\n"
     ]
    }
   ],
   "source": [
    "print(f\"Accuracy for Multinomial after StratifiedNB:\",np.mean(accuracy_stratified_MB))"
   ]
  },
  {
   "cell_type": "code",
   "execution_count": 86,
   "id": "3ae80f26",
   "metadata": {},
   "outputs": [],
   "source": [
    "# even after doing stratified K-fold Cross Validation, we are still getting less accuracy which means MultinomialNB won't be suitable for Binary Classification and numerical datasets...."
   ]
  },
  {
   "cell_type": "code",
   "execution_count": 87,
   "id": "4c0abbd6",
   "metadata": {},
   "outputs": [
    {
     "data": {
      "image/png": "[encoded data removed]",
      "text/plain": [
       "<Figure size 640x480 with 2 Axes>"
      ]
     },
     "metadata": {},
     "output_type": "display_data"
    }
   ],
   "source": [
    "confusion_matrix_for_classification(Y_testMB,Y_pred_Stratified_Mulm,'Confusion Matrix for Multinomial with Stratrified K-Fold Cross Validation')"
   ]
  },
  {
   "cell_type": "markdown",
   "id": "d165e365",
   "metadata": {},
   "source": [
    "# as MultinomialNB runs better for multi-class classification, we cannot implement it for binary classes..."
   ]
  },
  {
   "cell_type": "code",
   "execution_count": 88,
   "id": "56380170",
   "metadata": {},
   "outputs": [],
   "source": [
    "# now let's try for BernoulliNB, it's from the same library...\n",
    "from sklearn.naive_bayes import BernoulliNB"
   ]
  },
  {
   "cell_type": "code",
   "execution_count": 89,
   "id": "dfd15894",
   "metadata": {},
   "outputs": [
    {
     "name": "stdout",
     "output_type": "stream",
     "text": [
      "Fitting 5 folds for each of 25 candidates, totalling 125 fits\n",
      "[CV 1/5] END ...........alpha=0.0, binarize=0.0;, score=0.670 total time=   0.0s\n",
      "[CV 2/5] END ...........alpha=0.0, binarize=0.0;, score=0.670 total time=   0.0s\n",
      "[CV 3/5] END ...........alpha=0.0, binarize=0.0;, score=0.670 total time=   0.0s\n",
      "[CV 4/5] END ...........alpha=0.0, binarize=0.0;, score=0.661 total time=   0.0s\n",
      "[CV 5/5] END ...........alpha=0.0, binarize=0.0;, score=0.661 total time=   0.0s\n",
      "[CV 1/5] END ...........alpha=0.0, binarize=0.5;, score=0.670 total time=   0.0s\n",
      "[CV 2/5] END ...........alpha=0.0, binarize=0.5;, score=0.670 total time=   0.0s\n",
      "[CV 3/5] END ...........alpha=0.0, binarize=0.5;, score=0.670 total time=   0.0s\n",
      "[CV 4/5] END ...........alpha=0.0, binarize=0.5;, score=0.661 total time=   0.0s\n",
      "[CV 5/5] END ...........alpha=0.0, binarize=0.5;, score=0.661 total time=   0.0s\n",
      "[CV 1/5] END ..........alpha=0.0, binarize=0.25;, score=0.670 total time=   0.0s\n",
      "[CV 2/5] END ..........alpha=0.0, binarize=0.25;, score=0.670 total time=   0.0s\n",
      "[CV 3/5] END ..........alpha=0.0, binarize=0.25;, score=0.670 total time=   0.0s\n",
      "[CV 4/5] END ..........alpha=0.0, binarize=0.25;, score=0.661 total time=   0.0s\n",
      "[CV 5/5] END ..........alpha=0.0, binarize=0.25;, score=0.661 total time=   0.0s\n",
      "[CV 1/5] END ..........alpha=0.0, binarize=0.75;, score=0.670 total time=   0.0s\n",
      "[CV 2/5] END ..........alpha=0.0, binarize=0.75;, score=0.670 total time=   0.0s\n",
      "[CV 3/5] END ..........alpha=0.0, binarize=0.75;, score=0.670 total time=   0.0s\n",
      "[CV 4/5] END ..........alpha=0.0, binarize=0.75;, score=0.661 total time=   0.0s\n",
      "[CV 5/5] END ..........alpha=0.0, binarize=0.75;, score=0.661 total time=   0.0s\n",
      "[CV 1/5] END ...........alpha=0.0, binarize=1.0;, score=0.929 total time=   0.0s\n",
      "[CV 2/5] END ...........alpha=0.0, binarize=1.0;, score=0.920 total time=   0.0s\n",
      "[CV 3/5] END ...........alpha=0.0, binarize=1.0;, score=0.982 total time=   0.0s\n",
      "[CV 4/5] END ...........alpha=0.0, binarize=1.0;, score=0.938 total time=   0.0s\n",
      "[CV 5/5] END ...........alpha=0.0, binarize=1.0;, score=0.964 total time=   0.0s\n",
      "[CV 1/5] END ...........alpha=1.0, binarize=0.0;, score=0.670 total time=   0.0s\n",
      "[CV 2/5] END ...........alpha=1.0, binarize=0.0;, score=0.670 total time=   0.0s\n",
      "[CV 3/5] END ...........alpha=1.0, binarize=0.0;, score=0.670 total time=   0.0s\n",
      "[CV 4/5] END ...........alpha=1.0, binarize=0.0;, score=0.661 total time=   0.0s\n",
      "[CV 5/5] END ...........alpha=1.0, binarize=0.0;, score=0.661 total time=   0.0s\n",
      "[CV 1/5] END ...........alpha=1.0, binarize=0.5;, score=0.670 total time=   0.0s\n",
      "[CV 2/5] END ...........alpha=1.0, binarize=0.5;, score=0.670 total time=   0.0s\n",
      "[CV 3/5] END ...........alpha=1.0, binarize=0.5;, score=0.670 total time=   0.0s\n",
      "[CV 4/5] END ...........alpha=1.0, binarize=0.5;, score=0.661 total time=   0.0s\n",
      "[CV 5/5] END ...........alpha=1.0, binarize=0.5;, score=0.661 total time=   0.0s\n",
      "[CV 1/5] END ..........alpha=1.0, binarize=0.25;, score=0.670 total time=   0.0s\n",
      "[CV 2/5] END ..........alpha=1.0, binarize=0.25;, score=0.670 total time=   0.0s\n",
      "[CV 3/5] END ..........alpha=1.0, binarize=0.25;, score=0.670 total time=   0.0s\n",
      "[CV 4/5] END ..........alpha=1.0, binarize=0.25;, score=0.661 total time=   0.0s\n",
      "[CV 5/5] END ..........alpha=1.0, binarize=0.25;, score=0.661 total time=   0.0s\n"
     ]
    },
    {
     "name": "stderr",
     "output_type": "stream",
     "text": [
      "C:\\ProgramData\\anaconda3\\Lib\\site-packages\\sklearn\\naive_bayes.py:624: FutureWarning: The default value for `force_alpha` will change to `True` in 1.4. To suppress this warning, manually set the value of `force_alpha`.\n",
      "  warnings.warn(\n",
      "C:\\ProgramData\\anaconda3\\Lib\\site-packages\\sklearn\\naive_bayes.py:633: UserWarning: alpha too small will result in numeric errors, setting alpha = 1.0e-10. Use `force_alpha=True` to keep alpha unchanged.\n",
      "  warnings.warn(\n",
      "C:\\ProgramData\\anaconda3\\Lib\\site-packages\\sklearn\\naive_bayes.py:624: FutureWarning: The default value for `force_alpha` will change to `True` in 1.4. To suppress this warning, manually set the value of `force_alpha`.\n",
      "  warnings.warn(\n",
      "C:\\ProgramData\\anaconda3\\Lib\\site-packages\\sklearn\\naive_bayes.py:633: UserWarning: alpha too small will result in numeric errors, setting alpha = 1.0e-10. Use `force_alpha=True` to keep alpha unchanged.\n",
      "  warnings.warn(\n",
      "C:\\ProgramData\\anaconda3\\Lib\\site-packages\\sklearn\\naive_bayes.py:624: FutureWarning: The default value for `force_alpha` will change to `True` in 1.4. To suppress this warning, manually set the value of `force_alpha`.\n",
      "  warnings.warn(\n",
      "C:\\ProgramData\\anaconda3\\Lib\\site-packages\\sklearn\\naive_bayes.py:633: UserWarning: alpha too small will result in numeric errors, setting alpha = 1.0e-10. Use `force_alpha=True` to keep alpha unchanged.\n",
      "  warnings.warn(\n",
      "C:\\ProgramData\\anaconda3\\Lib\\site-packages\\sklearn\\naive_bayes.py:624: FutureWarning: The default value for `force_alpha` will change to `True` in 1.4. To suppress this warning, manually set the value of `force_alpha`.\n",
      "  warnings.warn(\n",
      "C:\\ProgramData\\anaconda3\\Lib\\site-packages\\sklearn\\naive_bayes.py:633: UserWarning: alpha too small will result in numeric errors, setting alpha = 1.0e-10. Use `force_alpha=True` to keep alpha unchanged.\n",
      "  warnings.warn(\n",
      "C:\\ProgramData\\anaconda3\\Lib\\site-packages\\sklearn\\naive_bayes.py:624: FutureWarning: The default value for `force_alpha` will change to `True` in 1.4. To suppress this warning, manually set the value of `force_alpha`.\n",
      "  warnings.warn(\n",
      "C:\\ProgramData\\anaconda3\\Lib\\site-packages\\sklearn\\naive_bayes.py:633: UserWarning: alpha too small will result in numeric errors, setting alpha = 1.0e-10. Use `force_alpha=True` to keep alpha unchanged.\n",
      "  warnings.warn(\n",
      "C:\\ProgramData\\anaconda3\\Lib\\site-packages\\sklearn\\naive_bayes.py:624: FutureWarning: The default value for `force_alpha` will change to `True` in 1.4. To suppress this warning, manually set the value of `force_alpha`.\n",
      "  warnings.warn(\n",
      "C:\\ProgramData\\anaconda3\\Lib\\site-packages\\sklearn\\naive_bayes.py:633: UserWarning: alpha too small will result in numeric errors, setting alpha = 1.0e-10. Use `force_alpha=True` to keep alpha unchanged.\n",
      "  warnings.warn(\n",
      "C:\\ProgramData\\anaconda3\\Lib\\site-packages\\sklearn\\naive_bayes.py:624: FutureWarning: The default value for `force_alpha` will change to `True` in 1.4. To suppress this warning, manually set the value of `force_alpha`.\n",
      "  warnings.warn(\n",
      "C:\\ProgramData\\anaconda3\\Lib\\site-packages\\sklearn\\naive_bayes.py:633: UserWarning: alpha too small will result in numeric errors, setting alpha = 1.0e-10. Use `force_alpha=True` to keep alpha unchanged.\n",
      "  warnings.warn(\n",
      "C:\\ProgramData\\anaconda3\\Lib\\site-packages\\sklearn\\naive_bayes.py:624: FutureWarning: The default value for `force_alpha` will change to `True` in 1.4. To suppress this warning, manually set the value of `force_alpha`.\n",
      "  warnings.warn(\n",
      "C:\\ProgramData\\anaconda3\\Lib\\site-packages\\sklearn\\naive_bayes.py:633: UserWarning: alpha too small will result in numeric errors, setting alpha = 1.0e-10. Use `force_alpha=True` to keep alpha unchanged.\n",
      "  warnings.warn(\n",
      "C:\\ProgramData\\anaconda3\\Lib\\site-packages\\sklearn\\naive_bayes.py:624: FutureWarning: The default value for `force_alpha` will change to `True` in 1.4. To suppress this warning, manually set the value of `force_alpha`.\n",
      "  warnings.warn(\n",
      "C:\\ProgramData\\anaconda3\\Lib\\site-packages\\sklearn\\naive_bayes.py:633: UserWarning: alpha too small will result in numeric errors, setting alpha = 1.0e-10. Use `force_alpha=True` to keep alpha unchanged.\n",
      "  warnings.warn(\n",
      "C:\\ProgramData\\anaconda3\\Lib\\site-packages\\sklearn\\naive_bayes.py:624: FutureWarning: The default value for `force_alpha` will change to `True` in 1.4. To suppress this warning, manually set the value of `force_alpha`.\n",
      "  warnings.warn(\n",
      "C:\\ProgramData\\anaconda3\\Lib\\site-packages\\sklearn\\naive_bayes.py:633: UserWarning: alpha too small will result in numeric errors, setting alpha = 1.0e-10. Use `force_alpha=True` to keep alpha unchanged.\n",
      "  warnings.warn(\n",
      "C:\\ProgramData\\anaconda3\\Lib\\site-packages\\sklearn\\naive_bayes.py:624: FutureWarning: The default value for `force_alpha` will change to `True` in 1.4. To suppress this warning, manually set the value of `force_alpha`.\n",
      "  warnings.warn(\n",
      "C:\\ProgramData\\anaconda3\\Lib\\site-packages\\sklearn\\naive_bayes.py:633: UserWarning: alpha too small will result in numeric errors, setting alpha = 1.0e-10. Use `force_alpha=True` to keep alpha unchanged.\n",
      "  warnings.warn(\n",
      "C:\\ProgramData\\anaconda3\\Lib\\site-packages\\sklearn\\naive_bayes.py:624: FutureWarning: The default value for `force_alpha` will change to `True` in 1.4. To suppress this warning, manually set the value of `force_alpha`.\n",
      "  warnings.warn(\n",
      "C:\\ProgramData\\anaconda3\\Lib\\site-packages\\sklearn\\naive_bayes.py:633: UserWarning: alpha too small will result in numeric errors, setting alpha = 1.0e-10. Use `force_alpha=True` to keep alpha unchanged.\n",
      "  warnings.warn(\n",
      "C:\\ProgramData\\anaconda3\\Lib\\site-packages\\sklearn\\naive_bayes.py:624: FutureWarning: The default value for `force_alpha` will change to `True` in 1.4. To suppress this warning, manually set the value of `force_alpha`.\n",
      "  warnings.warn(\n",
      "C:\\ProgramData\\anaconda3\\Lib\\site-packages\\sklearn\\naive_bayes.py:633: UserWarning: alpha too small will result in numeric errors, setting alpha = 1.0e-10. Use `force_alpha=True` to keep alpha unchanged.\n",
      "  warnings.warn(\n",
      "C:\\ProgramData\\anaconda3\\Lib\\site-packages\\sklearn\\naive_bayes.py:624: FutureWarning: The default value for `force_alpha` will change to `True` in 1.4. To suppress this warning, manually set the value of `force_alpha`.\n",
      "  warnings.warn(\n",
      "C:\\ProgramData\\anaconda3\\Lib\\site-packages\\sklearn\\naive_bayes.py:633: UserWarning: alpha too small will result in numeric errors, setting alpha = 1.0e-10. Use `force_alpha=True` to keep alpha unchanged.\n",
      "  warnings.warn(\n",
      "C:\\ProgramData\\anaconda3\\Lib\\site-packages\\sklearn\\naive_bayes.py:624: FutureWarning: The default value for `force_alpha` will change to `True` in 1.4. To suppress this warning, manually set the value of `force_alpha`.\n",
      "  warnings.warn(\n",
      "C:\\ProgramData\\anaconda3\\Lib\\site-packages\\sklearn\\naive_bayes.py:633: UserWarning: alpha too small will result in numeric errors, setting alpha = 1.0e-10. Use `force_alpha=True` to keep alpha unchanged.\n",
      "  warnings.warn(\n",
      "C:\\ProgramData\\anaconda3\\Lib\\site-packages\\sklearn\\naive_bayes.py:624: FutureWarning: The default value for `force_alpha` will change to `True` in 1.4. To suppress this warning, manually set the value of `force_alpha`.\n",
      "  warnings.warn(\n",
      "C:\\ProgramData\\anaconda3\\Lib\\site-packages\\sklearn\\naive_bayes.py:633: UserWarning: alpha too small will result in numeric errors, setting alpha = 1.0e-10. Use `force_alpha=True` to keep alpha unchanged.\n",
      "  warnings.warn(\n",
      "C:\\ProgramData\\anaconda3\\Lib\\site-packages\\sklearn\\naive_bayes.py:624: FutureWarning: The default value for `force_alpha` will change to `True` in 1.4. To suppress this warning, manually set the value of `force_alpha`.\n",
      "  warnings.warn(\n",
      "C:\\ProgramData\\anaconda3\\Lib\\site-packages\\sklearn\\naive_bayes.py:633: UserWarning: alpha too small will result in numeric errors, setting alpha = 1.0e-10. Use `force_alpha=True` to keep alpha unchanged.\n",
      "  warnings.warn(\n",
      "C:\\ProgramData\\anaconda3\\Lib\\site-packages\\sklearn\\naive_bayes.py:624: FutureWarning: The default value for `force_alpha` will change to `True` in 1.4. To suppress this warning, manually set the value of `force_alpha`.\n",
      "  warnings.warn(\n",
      "C:\\ProgramData\\anaconda3\\Lib\\site-packages\\sklearn\\naive_bayes.py:633: UserWarning: alpha too small will result in numeric errors, setting alpha = 1.0e-10. Use `force_alpha=True` to keep alpha unchanged.\n",
      "  warnings.warn(\n",
      "C:\\ProgramData\\anaconda3\\Lib\\site-packages\\sklearn\\naive_bayes.py:624: FutureWarning: The default value for `force_alpha` will change to `True` in 1.4. To suppress this warning, manually set the value of `force_alpha`.\n",
      "  warnings.warn(\n",
      "C:\\ProgramData\\anaconda3\\Lib\\site-packages\\sklearn\\naive_bayes.py:633: UserWarning: alpha too small will result in numeric errors, setting alpha = 1.0e-10. Use `force_alpha=True` to keep alpha unchanged.\n",
      "  warnings.warn(\n",
      "C:\\ProgramData\\anaconda3\\Lib\\site-packages\\sklearn\\naive_bayes.py:624: FutureWarning: The default value for `force_alpha` will change to `True` in 1.4. To suppress this warning, manually set the value of `force_alpha`.\n",
      "  warnings.warn(\n",
      "C:\\ProgramData\\anaconda3\\Lib\\site-packages\\sklearn\\naive_bayes.py:633: UserWarning: alpha too small will result in numeric errors, setting alpha = 1.0e-10. Use `force_alpha=True` to keep alpha unchanged.\n",
      "  warnings.warn(\n",
      "C:\\ProgramData\\anaconda3\\Lib\\site-packages\\sklearn\\naive_bayes.py:624: FutureWarning: The default value for `force_alpha` will change to `True` in 1.4. To suppress this warning, manually set the value of `force_alpha`.\n",
      "  warnings.warn(\n",
      "C:\\ProgramData\\anaconda3\\Lib\\site-packages\\sklearn\\naive_bayes.py:633: UserWarning: alpha too small will result in numeric errors, setting alpha = 1.0e-10. Use `force_alpha=True` to keep alpha unchanged.\n",
      "  warnings.warn(\n",
      "C:\\ProgramData\\anaconda3\\Lib\\site-packages\\sklearn\\naive_bayes.py:624: FutureWarning: The default value for `force_alpha` will change to `True` in 1.4. To suppress this warning, manually set the value of `force_alpha`.\n",
      "  warnings.warn(\n",
      "C:\\ProgramData\\anaconda3\\Lib\\site-packages\\sklearn\\naive_bayes.py:633: UserWarning: alpha too small will result in numeric errors, setting alpha = 1.0e-10. Use `force_alpha=True` to keep alpha unchanged.\n",
      "  warnings.warn(\n",
      "C:\\ProgramData\\anaconda3\\Lib\\site-packages\\sklearn\\naive_bayes.py:624: FutureWarning: The default value for `force_alpha` will change to `True` in 1.4. To suppress this warning, manually set the value of `force_alpha`.\n",
      "  warnings.warn(\n",
      "C:\\ProgramData\\anaconda3\\Lib\\site-packages\\sklearn\\naive_bayes.py:633: UserWarning: alpha too small will result in numeric errors, setting alpha = 1.0e-10. Use `force_alpha=True` to keep alpha unchanged.\n",
      "  warnings.warn(\n",
      "C:\\ProgramData\\anaconda3\\Lib\\site-packages\\sklearn\\naive_bayes.py:624: FutureWarning: The default value for `force_alpha` will change to `True` in 1.4. To suppress this warning, manually set the value of `force_alpha`.\n",
      "  warnings.warn(\n",
      "C:\\ProgramData\\anaconda3\\Lib\\site-packages\\sklearn\\naive_bayes.py:633: UserWarning: alpha too small will result in numeric errors, setting alpha = 1.0e-10. Use `force_alpha=True` to keep alpha unchanged.\n",
      "  warnings.warn(\n",
      "C:\\ProgramData\\anaconda3\\Lib\\site-packages\\sklearn\\naive_bayes.py:624: FutureWarning: The default value for `force_alpha` will change to `True` in 1.4. To suppress this warning, manually set the value of `force_alpha`.\n",
      "  warnings.warn(\n",
      "C:\\ProgramData\\anaconda3\\Lib\\site-packages\\sklearn\\naive_bayes.py:633: UserWarning: alpha too small will result in numeric errors, setting alpha = 1.0e-10. Use `force_alpha=True` to keep alpha unchanged.\n",
      "  warnings.warn(\n"
     ]
    },
    {
     "name": "stdout",
     "output_type": "stream",
     "text": [
      "[CV 1/5] END ..........alpha=1.0, binarize=0.75;, score=0.670 total time=   0.0s\n",
      "[CV 2/5] END ..........alpha=1.0, binarize=0.75;, score=0.670 total time=   0.0s\n",
      "[CV 3/5] END ..........alpha=1.0, binarize=0.75;, score=0.670 total time=   0.0s\n",
      "[CV 4/5] END ..........alpha=1.0, binarize=0.75;, score=0.661 total time=   0.0s\n",
      "[CV 5/5] END ..........alpha=1.0, binarize=0.75;, score=0.661 total time=   0.0s\n",
      "[CV 1/5] END ...........alpha=1.0, binarize=1.0;, score=0.929 total time=   0.0s\n",
      "[CV 2/5] END ...........alpha=1.0, binarize=1.0;, score=0.920 total time=   0.0s\n",
      "[CV 3/5] END ...........alpha=1.0, binarize=1.0;, score=0.982 total time=   0.0s\n",
      "[CV 4/5] END ...........alpha=1.0, binarize=1.0;, score=0.929 total time=   0.0s\n",
      "[CV 5/5] END ...........alpha=1.0, binarize=1.0;, score=0.973 total time=   0.0s\n",
      "[CV 1/5] END ...........alpha=0.1, binarize=0.0;, score=0.670 total time=   0.0s\n",
      "[CV 2/5] END ...........alpha=0.1, binarize=0.0;, score=0.670 total time=   0.0s\n",
      "[CV 3/5] END ...........alpha=0.1, binarize=0.0;, score=0.670 total time=   0.0s\n",
      "[CV 4/5] END ...........alpha=0.1, binarize=0.0;, score=0.661 total time=   0.0s\n",
      "[CV 5/5] END ...........alpha=0.1, binarize=0.0;, score=0.661 total time=   0.0s\n",
      "[CV 1/5] END ...........alpha=0.1, binarize=0.5;, score=0.670 total time=   0.0s\n",
      "[CV 2/5] END ...........alpha=0.1, binarize=0.5;, score=0.670 total time=   0.0s\n",
      "[CV 3/5] END ...........alpha=0.1, binarize=0.5;, score=0.670 total time=   0.0s\n",
      "[CV 4/5] END ...........alpha=0.1, binarize=0.5;, score=0.661 total time=   0.0s\n",
      "[CV 5/5] END ...........alpha=0.1, binarize=0.5;, score=0.661 total time=   0.0s\n",
      "[CV 1/5] END ..........alpha=0.1, binarize=0.25;, score=0.670 total time=   0.0s\n",
      "[CV 2/5] END ..........alpha=0.1, binarize=0.25;, score=0.670 total time=   0.0s\n",
      "[CV 3/5] END ..........alpha=0.1, binarize=0.25;, score=0.670 total time=   0.0s\n",
      "[CV 4/5] END ..........alpha=0.1, binarize=0.25;, score=0.661 total time=   0.0s\n",
      "[CV 5/5] END ..........alpha=0.1, binarize=0.25;, score=0.661 total time=   0.0s\n",
      "[CV 1/5] END ..........alpha=0.1, binarize=0.75;, score=0.670 total time=   0.0s\n",
      "[CV 2/5] END ..........alpha=0.1, binarize=0.75;, score=0.670 total time=   0.0s\n",
      "[CV 3/5] END ..........alpha=0.1, binarize=0.75;, score=0.670 total time=   0.0s\n",
      "[CV 4/5] END ..........alpha=0.1, binarize=0.75;, score=0.661 total time=   0.0s\n",
      "[CV 5/5] END ..........alpha=0.1, binarize=0.75;, score=0.661 total time=   0.0s\n",
      "[CV 1/5] END ...........alpha=0.1, binarize=1.0;, score=0.929 total time=   0.0s\n",
      "[CV 2/5] END ...........alpha=0.1, binarize=1.0;, score=0.920 total time=   0.0s\n",
      "[CV 3/5] END ...........alpha=0.1, binarize=1.0;, score=0.982 total time=   0.0s\n",
      "[CV 4/5] END ...........alpha=0.1, binarize=1.0;, score=0.929 total time=   0.0s\n",
      "[CV 5/5] END ...........alpha=0.1, binarize=1.0;, score=0.973 total time=   0.0s\n",
      "[CV 1/5] END ..........alpha=0.01, binarize=0.0;, score=0.670 total time=   0.0s\n",
      "[CV 2/5] END ..........alpha=0.01, binarize=0.0;, score=0.670 total time=   0.0s\n",
      "[CV 3/5] END ..........alpha=0.01, binarize=0.0;, score=0.670 total time=   0.0s\n",
      "[CV 4/5] END ..........alpha=0.01, binarize=0.0;, score=0.661 total time=   0.0s\n",
      "[CV 5/5] END ..........alpha=0.01, binarize=0.0;, score=0.661 total time=   0.0s\n",
      "[CV 1/5] END ..........alpha=0.01, binarize=0.5;, score=0.670 total time=   0.0s\n",
      "[CV 2/5] END ..........alpha=0.01, binarize=0.5;, score=0.670 total time=   0.0s\n",
      "[CV 3/5] END ..........alpha=0.01, binarize=0.5;, score=0.670 total time=   0.0s\n",
      "[CV 4/5] END ..........alpha=0.01, binarize=0.5;, score=0.661 total time=   0.0s\n",
      "[CV 5/5] END ..........alpha=0.01, binarize=0.5;, score=0.661 total time=   0.0s\n",
      "[CV 1/5] END .........alpha=0.01, binarize=0.25;, score=0.670 total time=   0.0s\n",
      "[CV 2/5] END .........alpha=0.01, binarize=0.25;, score=0.670 total time=   0.0s\n",
      "[CV 3/5] END .........alpha=0.01, binarize=0.25;, score=0.670 total time=   0.0s\n",
      "[CV 4/5] END .........alpha=0.01, binarize=0.25;, score=0.661 total time=   0.0s\n",
      "[CV 5/5] END .........alpha=0.01, binarize=0.25;, score=0.661 total time=   0.0s\n",
      "[CV 1/5] END .........alpha=0.01, binarize=0.75;, score=0.670 total time=   0.0s\n",
      "[CV 2/5] END .........alpha=0.01, binarize=0.75;, score=0.670 total time=   0.0s\n",
      "[CV 3/5] END .........alpha=0.01, binarize=0.75;, score=0.670 total time=   0.0s\n",
      "[CV 4/5] END .........alpha=0.01, binarize=0.75;, score=0.661 total time=   0.0s\n",
      "[CV 5/5] END .........alpha=0.01, binarize=0.75;, score=0.661 total time=   0.0s\n",
      "[CV 1/5] END ..........alpha=0.01, binarize=1.0;, score=0.929 total time=   0.0s\n",
      "[CV 2/5] END ..........alpha=0.01, binarize=1.0;, score=0.920 total time=   0.0s\n",
      "[CV 3/5] END ..........alpha=0.01, binarize=1.0;, score=0.982 total time=   0.0s\n",
      "[CV 4/5] END ..........alpha=0.01, binarize=1.0;, score=0.938 total time=   0.0s\n",
      "[CV 5/5] END ..........alpha=0.01, binarize=1.0;, score=0.973 total time=   0.0s\n",
      "[CV 1/5] END ...........alpha=1.5, binarize=0.0;, score=0.670 total time=   0.0s\n",
      "[CV 2/5] END ...........alpha=1.5, binarize=0.0;, score=0.670 total time=   0.0s\n",
      "[CV 3/5] END ...........alpha=1.5, binarize=0.0;, score=0.670 total time=   0.0s\n",
      "[CV 4/5] END ...........alpha=1.5, binarize=0.0;, score=0.661 total time=   0.0s\n",
      "[CV 5/5] END ...........alpha=1.5, binarize=0.0;, score=0.661 total time=   0.0s\n",
      "[CV 1/5] END ...........alpha=1.5, binarize=0.5;, score=0.670 total time=   0.0s\n",
      "[CV 2/5] END ...........alpha=1.5, binarize=0.5;, score=0.670 total time=   0.0s\n",
      "[CV 3/5] END ...........alpha=1.5, binarize=0.5;, score=0.670 total time=   0.0s\n",
      "[CV 4/5] END ...........alpha=1.5, binarize=0.5;, score=0.661 total time=   0.0s\n",
      "[CV 5/5] END ...........alpha=1.5, binarize=0.5;, score=0.661 total time=   0.0s\n",
      "[CV 1/5] END ..........alpha=1.5, binarize=0.25;, score=0.670 total time=   0.0s\n",
      "[CV 2/5] END ..........alpha=1.5, binarize=0.25;, score=0.670 total time=   0.0s\n",
      "[CV 3/5] END ..........alpha=1.5, binarize=0.25;, score=0.670 total time=   0.0s\n",
      "[CV 4/5] END ..........alpha=1.5, binarize=0.25;, score=0.661 total time=   0.0s\n",
      "[CV 5/5] END ..........alpha=1.5, binarize=0.25;, score=0.661 total time=   0.0s\n",
      "[CV 1/5] END ..........alpha=1.5, binarize=0.75;, score=0.670 total time=   0.0s\n",
      "[CV 2/5] END ..........alpha=1.5, binarize=0.75;, score=0.670 total time=   0.0s\n",
      "[CV 3/5] END ..........alpha=1.5, binarize=0.75;, score=0.670 total time=   0.0s\n",
      "[CV 4/5] END ..........alpha=1.5, binarize=0.75;, score=0.661 total time=   0.0s\n",
      "[CV 5/5] END ..........alpha=1.5, binarize=0.75;, score=0.661 total time=   0.0s\n",
      "[CV 1/5] END ...........alpha=1.5, binarize=1.0;, score=0.929 total time=   0.0s\n",
      "[CV 2/5] END ...........alpha=1.5, binarize=1.0;, score=0.920 total time=   0.0s\n",
      "[CV 3/5] END ...........alpha=1.5, binarize=1.0;, score=0.982 total time=   0.0s\n",
      "[CV 4/5] END ...........alpha=1.5, binarize=1.0;, score=0.929 total time=   0.0s\n",
      "[CV 5/5] END ...........alpha=1.5, binarize=1.0;, score=0.973 total time=   0.0s\n",
      "{'alpha': 0.01, 'binarize': 1.0}\n"
     ]
    }
   ],
   "source": [
    "# at first we would be doing with parameters with the help of GridSearchCV\n",
    "# bernoulliNB has 2 parameters alpha and binarize..\n",
    "# more details about the \n",
    "param_grid = {\n",
    "    'alpha':[0.0,1.0,0.1,0.01,1.5],\n",
    "     'binarize':[0.0,0.5,0.25,0.75,1.0]    \n",
    "}\n",
    "\n",
    "GridSea = GridSearchCV(BernoulliNB(),param_grid,refit=True,verbose=3)\n",
    "GridSea.fit(X_train,Y_train)\n",
    "print(GridSea.best_params_)"
   ]
  },
  {
   "cell_type": "code",
   "execution_count": 90,
   "id": "557f978a",
   "metadata": {},
   "outputs": [],
   "source": [
    "accuracy_Stratified_BNB = []"
   ]
  },
  {
   "cell_type": "code",
   "execution_count": 91,
   "id": "72ff5bab",
   "metadata": {},
   "outputs": [],
   "source": [
    "# implement with Stratified K-Fold Cross validation...\n",
    "for trainBNB, testBNB in STR.split(X,Y):\n",
    "    # splitting the dataset into Training and testing....\n",
    "    X_trBNB,X_tesBNB,Y_trBNB,Y_tesBNB = X[trainBNB],X[testBNB],Y[trainBNB],Y[testBNB]\n",
    "    # creating the object...\n",
    "    BNB = BernoulliNB(alpha=0.01,binarize=1.0)\n",
    "    # asusual fitting with X_train, Y_Train.....\n",
    "    BNB.fit(X_train,Y_train)\n",
    "    # predicting and storing it in Y_pred_Bernoulli....\n",
    "    Y_pred_Bernoulli = BNB.predict(X_tesBNB)\n",
    "    # appending all the accuracies in already created list....\n",
    "    accuracy_Stratified_BNB.append(accuracy_score(Y_tesBNB,Y_pred_Bernoulli))\n",
    "    "
   ]
  },
  {
   "cell_type": "code",
   "execution_count": 92,
   "id": "eef8eecb",
   "metadata": {},
   "outputs": [
    {
     "name": "stdout",
     "output_type": "stream",
     "text": [
      "0.9071428571428571\n",
      "0.9642857142857143\n",
      "0.9285714285714286\n",
      "0.9428571428571428\n",
      "0.9714285714285714\n"
     ]
    }
   ],
   "source": [
    "for j in accuracy_Stratified_BNB:\n",
    "    print(j)"
   ]
  },
  {
   "cell_type": "code",
   "execution_count": 93,
   "id": "c9584fc1",
   "metadata": {},
   "outputs": [
    {
     "data": {
      "image/png": "[encoded data removed]",
      "text/plain": [
       "<Figure size 640x480 with 2 Axes>"
      ]
     },
     "metadata": {},
     "output_type": "display_data"
    }
   ],
   "source": [
    "confusion_matrix_for_classification(Y_tesBNB,Y_pred_Bernoulli,'Confusion Matrix for BernoulliNB with Stratified K-Fold Cross Validation')"
   ]
  },
  {
   "cell_type": "code",
   "execution_count": 94,
   "id": "78ab5ae0",
   "metadata": {},
   "outputs": [
    {
     "name": "stdout",
     "output_type": "stream",
     "text": [
      "Accuracy Score:  0.9714285714285714\n",
      "Recall Score:  0.9714285714285714\n",
      "Precision Score:  0.9714285714285714\n",
      "F1-score:  0.9714285714285714\n",
      "Classification Report:                precision    recall  f1-score   support\n",
      "\n",
      "           0       1.00      0.96      0.98        91\n",
      "           1       0.92      1.00      0.96        49\n",
      "\n",
      "    accuracy                           0.97       140\n",
      "   macro avg       0.96      0.98      0.97       140\n",
      "weighted avg       0.97      0.97      0.97       140\n",
      "\n"
     ]
    }
   ],
   "source": [
    "accuracy_recall_precision(Y_tesBNB,Y_pred_Bernoulli)"
   ]
  },
  {
   "cell_type": "code",
   "execution_count": 95,
   "id": "c711f51c",
   "metadata": {},
   "outputs": [],
   "source": [
    "# now we are going to predict for other ML Classification algorithms like SVM..."
   ]
  },
  {
   "cell_type": "markdown",
   "id": "3ba16792",
   "metadata": {},
   "source": [
    "# before looking upto other classifiers, we would be looking into data visualization part"
   ]
  },
  {
   "cell_type": "markdown",
   "id": "544ce6cf",
   "metadata": {},
   "source": [
    "# based on the assignment task, we would be going to take care of three plots namely Histogram, Boxplot, scatterplot"
   ]
  },
  {
   "cell_type": "markdown",
   "id": "e80479b4",
   "metadata": {},
   "source": [
    "# Scatterplot"
   ]
  },
  {
   "cell_type": "code",
   "execution_count": 96,
   "id": "8e53d384",
   "metadata": {},
   "outputs": [],
   "source": [
    "# already we have imported 2 libraries for visualization, namely matplotlib and seaborn"
   ]
  },
  {
   "cell_type": "code",
   "execution_count": 97,
   "id": "95d80567",
   "metadata": {},
   "outputs": [],
   "source": [
    "# now I am going to plot confusion matrix with the help of same sklearn metrics"
   ]
  },
  {
   "cell_type": "code",
   "execution_count": 98,
   "id": "727017a0",
   "metadata": {},
   "outputs": [],
   "source": [
    "from sklearn.metrics import confusion_matrix"
   ]
  },
  {
   "cell_type": "code",
   "execution_count": 99,
   "id": "948c4518",
   "metadata": {},
   "outputs": [],
   "source": [
    "# now I am going to create Function for generating confusion matrix for each algorithms. So, I cannot create a new function again and again.."
   ]
  },
  {
   "cell_type": "code",
   "execution_count": null,
   "id": "991c226d",
   "metadata": {},
   "outputs": [],
   "source": []
  },
  {
   "cell_type": "code",
   "execution_count": 100,
   "id": "a30be0bc",
   "metadata": {},
   "outputs": [
    {
     "data": {
      "image/png": "[encoded data removed]",
      "text/plain": [
       "<Figure size 640x480 with 2 Axes>"
      ]
     },
     "metadata": {},
     "output_type": "display_data"
    }
   ],
   "source": [
    "confusion_matrix_for_classification(Y_test,Y_predicted_for_multinb,'Confusion Matrix for MultinomialNB')"
   ]
  },
  {
   "cell_type": "code",
   "execution_count": 101,
   "id": "e1083b8d",
   "metadata": {},
   "outputs": [],
   "source": [
    "# let's take care about Boxplot for X\n",
    "import seaborn as sns"
   ]
  },
  {
   "cell_type": "code",
   "execution_count": 102,
   "id": "fe77dd6e",
   "metadata": {},
   "outputs": [
    {
     "data": {
      "text/plain": [
       "<Axes: xlabel='class', ylabel='feature1'>"
      ]
     },
     "execution_count": 102,
     "metadata": {},
     "output_type": "execute_result"
    },
    {
     "data": {
      "image/png": "[encoded data removed]",
      "text/plain": [
       "<Figure size 640x480 with 1 Axes>"
      ]
     },
     "metadata": {},
     "output_type": "display_data"
    }
   ],
   "source": [
    "# this plot is for checking feature 1 and how it is varying with class 0 and class 1...\n",
    "sns.boxplot(x='class',y='feature1',data=assignment)"
   ]
  },
  {
   "cell_type": "code",
   "execution_count": 103,
   "id": "a28cf5a1",
   "metadata": {},
   "outputs": [
    {
     "data": {
      "text/plain": [
       "<Axes: xlabel='class', ylabel='feature2'>"
      ]
     },
     "execution_count": 103,
     "metadata": {},
     "output_type": "execute_result"
    },
    {
     "data": {
      "image/png": "[encoded data removed]",
      "text/plain": [
       "<Figure size 640x480 with 1 Axes>"
      ]
     },
     "metadata": {},
     "output_type": "display_data"
    }
   ],
   "source": [
    "# now let's try for feature 2...\n",
    "sns.boxplot(x='class',y='feature2',data=assignment)"
   ]
  },
  {
   "cell_type": "code",
   "execution_count": 104,
   "id": "7feff084",
   "metadata": {},
   "outputs": [],
   "source": [
    "# feature 2 contributes more to class 1...."
   ]
  },
  {
   "cell_type": "code",
   "execution_count": 105,
   "id": "d9522243",
   "metadata": {},
   "outputs": [
    {
     "data": {
      "text/plain": [
       "<Axes: xlabel='class', ylabel='feature3'>"
      ]
     },
     "execution_count": 105,
     "metadata": {},
     "output_type": "execute_result"
    },
    {
     "data": {
      "image/png": "[encoded data removed]",
      "text/plain": [
       "<Figure size 640x480 with 1 Axes>"
      ]
     },
     "metadata": {},
     "output_type": "display_data"
    }
   ],
   "source": [
    "# let's try for feature 3....\n",
    "sns.boxplot(x='class',y='feature3',data=assignment)"
   ]
  },
  {
   "cell_type": "code",
   "execution_count": 106,
   "id": "64b147a7",
   "metadata": {},
   "outputs": [
    {
     "data": {
      "text/plain": [
       "<Axes: xlabel='class', ylabel='feature3'>"
      ]
     },
     "execution_count": 106,
     "metadata": {},
     "output_type": "execute_result"
    },
    {
     "data": {
      "image/png": "[encoded data removed]",
      "text/plain": [
       "<Figure size 640x480 with 1 Axes>"
      ]
     },
     "metadata": {},
     "output_type": "display_data"
    }
   ],
   "source": [
    "sns.boxenplot(x='class',y='feature3',data=assignment)"
   ]
  },
  {
   "cell_type": "code",
   "execution_count": 107,
   "id": "bb6b7e74",
   "metadata": {},
   "outputs": [
    {
     "data": {
      "text/plain": [
       "<Axes: xlabel='class', ylabel='feature4'>"
      ]
     },
     "execution_count": 107,
     "metadata": {},
     "output_type": "execute_result"
    },
    {
     "data": {
      "image/png": "[encoded data removed]",
      "text/plain": [
       "<Figure size 640x480 with 1 Axes>"
      ]
     },
     "metadata": {},
     "output_type": "display_data"
    }
   ],
   "source": [
    "# similarly for feature 4....\n",
    "sns.boxenplot(x='class',y='feature4',data=assignment)"
   ]
  },
  {
   "cell_type": "code",
   "execution_count": 108,
   "id": "c910d296",
   "metadata": {},
   "outputs": [
    {
     "data": {
      "text/plain": [
       "<Axes: xlabel='class', ylabel='feature4'>"
      ]
     },
     "execution_count": 108,
     "metadata": {},
     "output_type": "execute_result"
    },
    {
     "data": {
      "image/png": "[encoded data removed]",
      "text/plain": [
       "<Figure size 640x480 with 1 Axes>"
      ]
     },
     "metadata": {},
     "output_type": "display_data"
    }
   ],
   "source": [
    "sns.boxplot(x='class',y='feature4',data=assignment)"
   ]
  },
  {
   "cell_type": "code",
   "execution_count": 109,
   "id": "d679f955",
   "metadata": {},
   "outputs": [
    {
     "data": {
      "text/plain": [
       "<Axes: xlabel='class', ylabel='feature8'>"
      ]
     },
     "execution_count": 109,
     "metadata": {},
     "output_type": "execute_result"
    },
    {
     "data": {
      "image/png": "[encoded data removed]",
      "text/plain": [
       "<Figure size 640x480 with 1 Axes>"
      ]
     },
     "metadata": {},
     "output_type": "display_data"
    }
   ],
   "source": [
    "# now check with feature 8\n",
    "sns.boxenplot(x='class',y='feature8',data=assignment)"
   ]
  },
  {
   "cell_type": "markdown",
   "id": "65f867be",
   "metadata": {},
   "source": [
    "# ok now I am going to implement the remaining algorithms"
   ]
  },
  {
   "cell_type": "markdown",
   "id": "4697ffc1",
   "metadata": {},
   "source": [
    "# remaining algorithms are DecisionTree, RandomForest and SVM"
   ]
  },
  {
   "cell_type": "code",
   "execution_count": 110,
   "id": "82517400",
   "metadata": {},
   "outputs": [],
   "source": [
    "# now I am going to implement SVM(Support Vector Machine Classifier)\n",
    "from sklearn.svm import SVC"
   ]
  },
  {
   "cell_type": "code",
   "execution_count": 111,
   "id": "fc7b2b93",
   "metadata": {},
   "outputs": [],
   "source": [
    "svm = SVC()"
   ]
  },
  {
   "cell_type": "code",
   "execution_count": 112,
   "id": "6a27e0c2",
   "metadata": {},
   "outputs": [
    {
     "data": {
      "text/html": [
       "<style>#sk-container-id-5 {color: black;}#sk-container-id-5 pre{padding: 0;}#sk-container-id-5 div.sk-toggleable {background-color: white;}#sk-container-id-5 label.sk-toggleable__label {cursor: pointer;display: block;width: 100%;margin-bottom: 0;padding: 0.3em;box-sizing: border-box;text-align: center;}#sk-container-id-5 label.sk-toggleable__label-arrow:before {content: \"▸\";float: left;margin-right: 0.25em;color: #696969;}#sk-container-id-5 label.sk-toggleable__label-arrow:hover:before {color: black;}#sk-container-id-5 div.sk-estimator:hover label.sk-toggleable__label-arrow:before {color: black;}#sk-container-id-5 div.sk-toggleable__content {max-height: 0;max-width: 0;overflow: hidden;text-align: left;background-color: #f0f8ff;}#sk-container-id-5 div.sk-toggleable__content pre {margin: 0.2em;color: black;border-radius: 0.25em;background-color: #f0f8ff;}#sk-container-id-5 input.sk-toggleable__control:checked~div.sk-toggleable__content {max-height: 200px;max-width: 100%;overflow: auto;}#sk-container-id-5 input.sk-toggleable__control:checked~label.sk-toggleable__label-arrow:before {content: \"▾\";}#sk-container-id-5 div.sk-estimator input.sk-toggleable__control:checked~label.sk-toggleable__label {background-color: #d4ebff;}#sk-container-id-5 div.sk-label input.sk-toggleable__control:checked~label.sk-toggleable__label {background-color: #d4ebff;}#sk-container-id-5 input.sk-hidden--visually {border: 0;clip: rect(1px 1px 1px 1px);clip: rect(1px, 1px, 1px, 1px);height: 1px;margin: -1px;overflow: hidden;padding: 0;position: absolute;width: 1px;}#sk-container-id-5 div.sk-estimator {font-family: monospace;background-color: #f0f8ff;border: 1px dotted black;border-radius: 0.25em;box-sizing: border-box;margin-bottom: 0.5em;}#sk-container-id-5 div.sk-estimator:hover {background-color: #d4ebff;}#sk-container-id-5 div.sk-parallel-item::after {content: \"\";width: 100%;border-bottom: 1px solid gray;flex-grow: 1;}#sk-container-id-5 div.sk-label:hover label.sk-toggleable__label {background-color: #d4ebff;}#sk-container-id-5 div.sk-serial::before {content: \"\";position: absolute;border-left: 1px solid gray;box-sizing: border-box;top: 0;bottom: 0;left: 50%;z-index: 0;}#sk-container-id-5 div.sk-serial {display: flex;flex-direction: column;align-items: center;background-color: white;padding-right: 0.2em;padding-left: 0.2em;position: relative;}#sk-container-id-5 div.sk-item {position: relative;z-index: 1;}#sk-container-id-5 div.sk-parallel {display: flex;align-items: stretch;justify-content: center;background-color: white;position: relative;}#sk-container-id-5 div.sk-item::before, #sk-container-id-5 div.sk-parallel-item::before {content: \"\";position: absolute;border-left: 1px solid gray;box-sizing: border-box;top: 0;bottom: 0;left: 50%;z-index: -1;}#sk-container-id-5 div.sk-parallel-item {display: flex;flex-direction: column;z-index: 1;position: relative;background-color: white;}#sk-container-id-5 div.sk-parallel-item:first-child::after {align-self: flex-end;width: 50%;}#sk-container-id-5 div.sk-parallel-item:last-child::after {align-self: flex-start;width: 50%;}#sk-container-id-5 div.sk-parallel-item:only-child::after {width: 0;}#sk-container-id-5 div.sk-dashed-wrapped {border: 1px dashed gray;margin: 0 0.4em 0.5em 0.4em;box-sizing: border-box;padding-bottom: 0.4em;background-color: white;}#sk-container-id-5 div.sk-label label {font-family: monospace;font-weight: bold;display: inline-block;line-height: 1.2em;}#sk-container-id-5 div.sk-label-container {text-align: center;}#sk-container-id-5 div.sk-container {/* jupyter's `normalize.less` sets `[hidden] { display: none; }` but bootstrap.min.css set `[hidden] { display: none !important; }` so we also need the `!important` here to be able to override the default hidden behavior on the sphinx rendered scikit-learn.org. See: https://github.com/scikit-learn/scikit-learn/issues/21755 */display: inline-block !important;position: relative;}#sk-container-id-5 div.sk-text-repr-fallback {display: none;}</style><div id=\"sk-container-id-5\" class=\"sk-top-container\"><div class=\"sk-text-repr-fallback\"><pre>SVC()</pre><b>In a Jupyter environment, please rerun this cell to show the HTML representation or trust the notebook. <br />On GitHub, the HTML representation is unable to render, please try loading this page with nbviewer.org.</b></div><div class=\"sk-container\" hidden><div class=\"sk-item\"><div class=\"sk-estimator sk-toggleable\"><input class=\"sk-toggleable__control sk-hidden--visually\" id=\"sk-estimator-id-5\" type=\"checkbox\" checked><label for=\"sk-estimator-id-5\" class=\"sk-toggleable__label sk-toggleable__label-arrow\">SVC</label><div class=\"sk-toggleable__content\"><pre>SVC()</pre></div></div></div></div></div>"
      ],
      "text/plain": [
       "SVC()"
      ]
     },
     "execution_count": 112,
     "metadata": {},
     "output_type": "execute_result"
    }
   ],
   "source": [
    "svm.fit(X_train,Y_train)"
   ]
  },
  {
   "cell_type": "code",
   "execution_count": 113,
   "id": "7230db4f",
   "metadata": {},
   "outputs": [],
   "source": [
    "Y_pred_for_SVM = svm.predict(X_test)"
   ]
  },
  {
   "cell_type": "code",
   "execution_count": 114,
   "id": "f5d0e3e0",
   "metadata": {},
   "outputs": [
    {
     "name": "stdout",
     "output_type": "stream",
     "text": [
      "[0 1 1 1 1 0 1 0 1 1 0 0 0 0 1 1 0 1 0 0 0 1 0 1 1 0 0 0 0 1 1 0 0 0 0 0 0\n",
      " 0 1 1 0 0 1 0 0 1 0 1 0 1 0 0 1 0 0 1 1 1 0 0 0 1 0 0 1 0 1 0 1 1 1 0 1 1\n",
      " 0 1 0 0 1 0 0 1 0 1 0 1 1 1 1 1 0 0 0 0 0 0 0 0 0 0 0 0 0 0 1 0 1 1 0 0 0\n",
      " 1 0 0 0 0 0 1 1 0 1 1 0 1 1 0 1 1 0 1 1 0 0 0 0 0 1 0 0 0]\n"
     ]
    }
   ],
   "source": [
    "print(Y_pred_for_SVM)"
   ]
  },
  {
   "cell_type": "code",
   "execution_count": 115,
   "id": "4146c5b8",
   "metadata": {},
   "outputs": [
    {
     "name": "stdout",
     "output_type": "stream",
     "text": [
      "Accuracy Score:  0.95\n",
      "Recall Score:  0.95\n",
      "Precision Score:  0.95\n",
      "F1-score:  0.95\n",
      "Classification Report:                precision    recall  f1-score   support\n",
      "\n",
      "           0       0.98      0.94      0.96        86\n",
      "           1       0.91      0.96      0.94        54\n",
      "\n",
      "    accuracy                           0.95       140\n",
      "   macro avg       0.94      0.95      0.95       140\n",
      "weighted avg       0.95      0.95      0.95       140\n",
      "\n"
     ]
    }
   ],
   "source": [
    "accuracy_recall_precision(Y_test,Y_pred_for_SVM)"
   ]
  },
  {
   "cell_type": "code",
   "execution_count": 116,
   "id": "804e7bf7",
   "metadata": {},
   "outputs": [
    {
     "data": {
      "image/png": "[encoded data removed]",
      "text/plain": [
       "<Figure size 640x480 with 2 Axes>"
      ]
     },
     "metadata": {},
     "output_type": "display_data"
    }
   ],
   "source": [
    "confusion_matrix_for_classification(Y_test,Y_pred_for_SVM,'Confusion Matrix for Support Vector Machine')"
   ]
  },
  {
   "cell_type": "markdown",
   "id": "2f4c6eef",
   "metadata": {},
   "source": [
    "# For SVM, I am getting 95% accuracy,precision, recall and F1 Score"
   ]
  },
  {
   "cell_type": "markdown",
   "id": "5ce256c2",
   "metadata": {},
   "source": [
    "# now we are going to tabulate all the performance metrics in form of table"
   ]
  },
  {
   "cell_type": "markdown",
   "id": "677ca082",
   "metadata": {},
   "source": [
    "for that purpose, we are going to import tabulate function from tabulate library"
   ]
  },
  {
   "cell_type": "code",
   "execution_count": 117,
   "id": "fe72a4d4",
   "metadata": {},
   "outputs": [],
   "source": [
    "from tabulate import tabulate"
   ]
  },
  {
   "cell_type": "code",
   "execution_count": 118,
   "id": "dbf2567a",
   "metadata": {},
   "outputs": [],
   "source": [
    "classifiers = [['LogisticRegression',accuracy_score(Y_test,y_predicted)],\n",
    "              ['NaiveBayes(GaussianNB)',accuracy_score(Y_test,Y_Predicted_GaussianNB)],\n",
    "              ['SVM',accuracy_score(Y_test,Y_pred_for_SVM)]]"
   ]
  },
  {
   "cell_type": "code",
   "execution_count": 119,
   "id": "5f9476ce",
   "metadata": {},
   "outputs": [
    {
     "name": "stdout",
     "output_type": "stream",
     "text": [
      "Classifiers               Accuracy Score\n",
      "----------------------  ----------------\n",
      "LogisticRegression              0.964286\n",
      "NaiveBayes(GaussianNB)          0.942857\n",
      "SVM                             0.95\n"
     ]
    }
   ],
   "source": [
    "print(tabulate(classifiers,headers=['Classifiers','Accuracy Score']))"
   ]
  },
  {
   "cell_type": "code",
   "execution_count": 120,
   "id": "5a385afe",
   "metadata": {},
   "outputs": [
    {
     "data": {
      "text/plain": [
       "Text(0.5, 1.0, 'Feature Importance for Logistic Regression')"
      ]
     },
     "execution_count": 120,
     "metadata": {},
     "output_type": "execute_result"
    },
    {
     "data": {
      "image/png": "[encoded data removed]",
      "text/plain": [
       "<Figure size 640x480 with 1 Axes>"
      ]
     },
     "metadata": {},
     "output_type": "display_data"
    }
   ],
   "source": [
    "# now we can plot feature importance for other algorithms too\n",
    "plt.barh(range(len(lr1.coef_[0])),lr1.coef_[0],tick_label=['feature1','feature2','feature3','feature4','feature5','feature6','feature7','feature8','feature9'])  \n",
    "plt.title('Feature Importance for Logistic Regression')"
   ]
  },
  {
   "cell_type": "code",
   "execution_count": 121,
   "id": "f71aa63f",
   "metadata": {},
   "outputs": [],
   "source": [
    "# Feature 1 contributes the most for Logistic Regression learning ..."
   ]
  },
  {
   "cell_type": "code",
   "execution_count": 122,
   "id": "fb5fc7e9",
   "metadata": {},
   "outputs": [
    {
     "data": {
      "image/png": "[encoded data removed]",
      "text/plain": [
       "<Figure size 640x480 with 2 Axes>"
      ]
     },
     "metadata": {},
     "output_type": "display_data"
    }
   ],
   "source": [
    "confusion_matrix_for_classification(Y_test,Y_Predicted_GaussianNB,'Confusion Matrix for GaussianNB')"
   ]
  },
  {
   "cell_type": "code",
   "execution_count": 123,
   "id": "58e06029",
   "metadata": {},
   "outputs": [
    {
     "data": {
      "text/plain": [
       "Text(0.5, 1.0, 'Histogram for Feature 1')"
      ]
     },
     "execution_count": 123,
     "metadata": {},
     "output_type": "execute_result"
    },
    {
     "data": {
      "image/png": "[encoded data removed]",
      "text/plain": [
       "<Figure size 640x480 with 1 Axes>"
      ]
     },
     "metadata": {},
     "output_type": "display_data"
    }
   ],
   "source": [
    "# now I am going to plot Histogram for Feature 1 has it has more feature importance for logistic regression...\n",
    "plt.hist(assignment['feature1'],bins=20,align='mid')\n",
    "plt.xlabel('feature 1 values')\n",
    "plt.ylabel('Frequency for Feature 1 Values')\n",
    "plt.title('Histogram for Feature 1')"
   ]
  },
  {
   "cell_type": "code",
   "execution_count": 124,
   "id": "18998002",
   "metadata": {},
   "outputs": [],
   "source": [
    "accuracies_svm=[]"
   ]
  },
  {
   "cell_type": "code",
   "execution_count": 125,
   "id": "4f78b898",
   "metadata": {},
   "outputs": [],
   "source": [
    "# now implement K-Fold Cross Validation for SVM\n",
    "for train,test in kf.split(X):\n",
    "    # print(train)\n",
    "    X_tra,X_tes = X[train],X[test]\n",
    "    Y_tra,Y_tes = Y[train],Y[test]\n",
    "    # now I am going to implement SVM without any parameter mentioning for the model ...\n",
    "    svmm = SVC()\n",
    "    # lr1 = LogisticRegression(C=0.1,fit_intercept=1)\n",
    "    svmm.fit(X_tra,Y_tra)\n",
    "    # now I am going to generate the values predicted by Logistic Regression algorithm...\n",
    "    Y_pred_for_SVM = svmm.predict(X_tes)\n",
    "    # now Calculate the accuracy\n",
    "    accuracy = accuracy_score(Y_tes,Y_pred_for_SVM)\n",
    "    accuracies_svm.append(accuracy)"
   ]
  },
  {
   "cell_type": "code",
   "execution_count": 126,
   "id": "0701c433",
   "metadata": {},
   "outputs": [
    {
     "name": "stdout",
     "output_type": "stream",
     "text": [
      "0.9700000000000001\n",
      "0.9700000000000001\n",
      "0.9700000000000001\n",
      "0.9700000000000001\n",
      "0.9700000000000001\n"
     ]
    }
   ],
   "source": [
    "for k in accuracies_svm:\n",
    "    print(np.mean(accuracies_svm))"
   ]
  },
  {
   "cell_type": "code",
   "execution_count": 127,
   "id": "be842b8c",
   "metadata": {},
   "outputs": [],
   "source": [
    "from sklearn.svm import SVC"
   ]
  },
  {
   "cell_type": "code",
   "execution_count": 128,
   "id": "c13853e9",
   "metadata": {},
   "outputs": [
    {
     "name": "stdout",
     "output_type": "stream",
     "text": [
      "Fitting 5 folds for each of 60 candidates, totalling 300 fits\n",
      "[CV 1/5] END ........C=0.1, gamma=1, kernel=rbf;, score=0.670 total time=   0.0s\n",
      "[CV 2/5] END ........C=0.1, gamma=1, kernel=rbf;, score=0.670 total time=   0.0s\n",
      "[CV 3/5] END ........C=0.1, gamma=1, kernel=rbf;, score=0.670 total time=   0.0s\n",
      "[CV 4/5] END ........C=0.1, gamma=1, kernel=rbf;, score=0.661 total time=   0.0s\n",
      "[CV 5/5] END ........C=0.1, gamma=1, kernel=rbf;, score=0.661 total time=   0.0s\n",
      "[CV 1/5] END .....C=0.1, gamma=1, kernel=linear;, score=0.946 total time=   0.0s\n",
      "[CV 2/5] END .....C=0.1, gamma=1, kernel=linear;, score=0.964 total time=   0.0s\n",
      "[CV 3/5] END .....C=0.1, gamma=1, kernel=linear;, score=0.982 total time=   0.0s\n",
      "[CV 4/5] END .....C=0.1, gamma=1, kernel=linear;, score=0.973 total time=   0.0s\n",
      "[CV 5/5] END .....C=0.1, gamma=1, kernel=linear;, score=0.982 total time=   0.0s\n",
      "[CV 1/5] END ......C=0.1, gamma=0.1, kernel=rbf;, score=0.929 total time=   0.0s\n",
      "[CV 2/5] END ......C=0.1, gamma=0.1, kernel=rbf;, score=0.920 total time=   0.0s\n",
      "[CV 3/5] END ......C=0.1, gamma=0.1, kernel=rbf;, score=0.955 total time=   0.0s\n",
      "[CV 4/5] END ......C=0.1, gamma=0.1, kernel=rbf;, score=0.920 total time=   0.0s\n",
      "[CV 5/5] END ......C=0.1, gamma=0.1, kernel=rbf;, score=0.955 total time=   0.0s\n",
      "[CV 1/5] END ...C=0.1, gamma=0.1, kernel=linear;, score=0.946 total time=   0.0s\n",
      "[CV 2/5] END ...C=0.1, gamma=0.1, kernel=linear;, score=0.964 total time=   0.0s\n",
      "[CV 3/5] END ...C=0.1, gamma=0.1, kernel=linear;, score=0.982 total time=   0.0s\n",
      "[CV 4/5] END ...C=0.1, gamma=0.1, kernel=linear;, score=0.973 total time=   0.0s\n",
      "[CV 5/5] END ...C=0.1, gamma=0.1, kernel=linear;, score=0.982 total time=   0.0s\n",
      "[CV 1/5] END .....C=0.1, gamma=0.01, kernel=rbf;, score=0.946 total time=   0.0s\n",
      "[CV 2/5] END .....C=0.1, gamma=0.01, kernel=rbf;, score=0.964 total time=   0.0s\n",
      "[CV 3/5] END .....C=0.1, gamma=0.01, kernel=rbf;, score=0.982 total time=   0.0s\n",
      "[CV 4/5] END .....C=0.1, gamma=0.01, kernel=rbf;, score=0.982 total time=   0.0s\n",
      "[CV 5/5] END .....C=0.1, gamma=0.01, kernel=rbf;, score=0.982 total time=   0.0s\n",
      "[CV 1/5] END ..C=0.1, gamma=0.01, kernel=linear;, score=0.946 total time=   0.0s\n",
      "[CV 2/5] END ..C=0.1, gamma=0.01, kernel=linear;, score=0.964 total time=   0.0s\n",
      "[CV 3/5] END ..C=0.1, gamma=0.01, kernel=linear;, score=0.982 total time=   0.0s\n",
      "[CV 4/5] END ..C=0.1, gamma=0.01, kernel=linear;, score=0.973 total time=   0.0s\n",
      "[CV 5/5] END ..C=0.1, gamma=0.01, kernel=linear;, score=0.982 total time=   0.0s\n",
      "[CV 1/5] END ....C=0.1, gamma=0.001, kernel=rbf;, score=0.946 total time=   0.0s\n",
      "[CV 2/5] END ....C=0.1, gamma=0.001, kernel=rbf;, score=0.964 total time=   0.0s\n",
      "[CV 3/5] END ....C=0.1, gamma=0.001, kernel=rbf;, score=0.946 total time=   0.0s\n",
      "[CV 4/5] END ....C=0.1, gamma=0.001, kernel=rbf;, score=0.973 total time=   0.0s\n",
      "[CV 5/5] END ....C=0.1, gamma=0.001, kernel=rbf;, score=0.955 total time=   0.0s\n",
      "[CV 1/5] END .C=0.1, gamma=0.001, kernel=linear;, score=0.946 total time=   0.0s\n",
      "[CV 2/5] END .C=0.1, gamma=0.001, kernel=linear;, score=0.964 total time=   0.0s\n",
      "[CV 3/5] END .C=0.1, gamma=0.001, kernel=linear;, score=0.982 total time=   0.0s\n",
      "[CV 4/5] END .C=0.1, gamma=0.001, kernel=linear;, score=0.973 total time=   0.0s\n",
      "[CV 5/5] END .C=0.1, gamma=0.001, kernel=linear;, score=0.982 total time=   0.0s\n",
      "[CV 1/5] END ...C=0.1, gamma=0.0001, kernel=rbf;, score=0.670 total time=   0.0s\n",
      "[CV 2/5] END ...C=0.1, gamma=0.0001, kernel=rbf;, score=0.670 total time=   0.0s\n",
      "[CV 3/5] END ...C=0.1, gamma=0.0001, kernel=rbf;, score=0.670 total time=   0.0s\n",
      "[CV 4/5] END ...C=0.1, gamma=0.0001, kernel=rbf;, score=0.661 total time=   0.0s\n",
      "[CV 5/5] END ...C=0.1, gamma=0.0001, kernel=rbf;, score=0.661 total time=   0.0s\n",
      "[CV 1/5] END C=0.1, gamma=0.0001, kernel=linear;, score=0.946 total time=   0.0s\n",
      "[CV 2/5] END C=0.1, gamma=0.0001, kernel=linear;, score=0.964 total time=   0.0s\n",
      "[CV 3/5] END C=0.1, gamma=0.0001, kernel=linear;, score=0.982 total time=   0.0s\n",
      "[CV 4/5] END C=0.1, gamma=0.0001, kernel=linear;, score=0.973 total time=   0.0s\n",
      "[CV 5/5] END C=0.1, gamma=0.0001, kernel=linear;, score=0.982 total time=   0.0s\n",
      "[CV 1/5] END ..........C=1, gamma=1, kernel=rbf;, score=0.875 total time=   0.0s\n",
      "[CV 2/5] END ..........C=1, gamma=1, kernel=rbf;, score=0.866 total time=   0.0s\n",
      "[CV 3/5] END ..........C=1, gamma=1, kernel=rbf;, score=0.893 total time=   0.0s\n",
      "[CV 4/5] END ..........C=1, gamma=1, kernel=rbf;, score=0.902 total time=   0.0s\n",
      "[CV 5/5] END ..........C=1, gamma=1, kernel=rbf;, score=0.893 total time=   0.0s\n",
      "[CV 1/5] END .......C=1, gamma=1, kernel=linear;, score=0.946 total time=   0.0s\n",
      "[CV 2/5] END .......C=1, gamma=1, kernel=linear;, score=0.964 total time=   0.0s\n",
      "[CV 3/5] END .......C=1, gamma=1, kernel=linear;, score=0.982 total time=   0.0s\n",
      "[CV 4/5] END .......C=1, gamma=1, kernel=linear;, score=0.964 total time=   0.0s\n",
      "[CV 5/5] END .......C=1, gamma=1, kernel=linear;, score=0.982 total time=   0.0s\n",
      "[CV 1/5] END ........C=1, gamma=0.1, kernel=rbf;, score=0.938 total time=   0.0s\n",
      "[CV 2/5] END ........C=1, gamma=0.1, kernel=rbf;, score=0.946 total time=   0.0s\n",
      "[CV 3/5] END ........C=1, gamma=0.1, kernel=rbf;, score=0.982 total time=   0.0s\n",
      "[CV 4/5] END ........C=1, gamma=0.1, kernel=rbf;, score=0.973 total time=   0.0s\n",
      "[CV 5/5] END ........C=1, gamma=0.1, kernel=rbf;, score=0.982 total time=   0.0s\n",
      "[CV 1/5] END .....C=1, gamma=0.1, kernel=linear;, score=0.946 total time=   0.0s\n",
      "[CV 2/5] END .....C=1, gamma=0.1, kernel=linear;, score=0.964 total time=   0.0s\n",
      "[CV 3/5] END .....C=1, gamma=0.1, kernel=linear;, score=0.982 total time=   0.0s\n",
      "[CV 4/5] END .....C=1, gamma=0.1, kernel=linear;, score=0.964 total time=   0.0s\n",
      "[CV 5/5] END .....C=1, gamma=0.1, kernel=linear;, score=0.982 total time=   0.0s\n",
      "[CV 1/5] END .......C=1, gamma=0.01, kernel=rbf;, score=0.946 total time=   0.0s\n",
      "[CV 2/5] END .......C=1, gamma=0.01, kernel=rbf;, score=0.964 total time=   0.0s\n",
      "[CV 3/5] END .......C=1, gamma=0.01, kernel=rbf;, score=0.982 total time=   0.0s\n",
      "[CV 4/5] END .......C=1, gamma=0.01, kernel=rbf;, score=0.982 total time=   0.0s\n",
      "[CV 5/5] END .......C=1, gamma=0.01, kernel=rbf;, score=0.991 total time=   0.0s\n",
      "[CV 1/5] END ....C=1, gamma=0.01, kernel=linear;, score=0.946 total time=   0.0s\n",
      "[CV 2/5] END ....C=1, gamma=0.01, kernel=linear;, score=0.964 total time=   0.0s\n",
      "[CV 3/5] END ....C=1, gamma=0.01, kernel=linear;, score=0.982 total time=   0.0s\n",
      "[CV 4/5] END ....C=1, gamma=0.01, kernel=linear;, score=0.964 total time=   0.0s\n",
      "[CV 5/5] END ....C=1, gamma=0.01, kernel=linear;, score=0.982 total time=   0.0s\n",
      "[CV 1/5] END ......C=1, gamma=0.001, kernel=rbf;, score=0.946 total time=   0.0s\n",
      "[CV 2/5] END ......C=1, gamma=0.001, kernel=rbf;, score=0.964 total time=   0.0s\n",
      "[CV 3/5] END ......C=1, gamma=0.001, kernel=rbf;, score=0.964 total time=   0.0s\n",
      "[CV 4/5] END ......C=1, gamma=0.001, kernel=rbf;, score=0.973 total time=   0.0s\n",
      "[CV 5/5] END ......C=1, gamma=0.001, kernel=rbf;, score=0.982 total time=   0.0s\n",
      "[CV 1/5] END ...C=1, gamma=0.001, kernel=linear;, score=0.946 total time=   0.0s\n",
      "[CV 2/5] END ...C=1, gamma=0.001, kernel=linear;, score=0.964 total time=   0.0s\n",
      "[CV 3/5] END ...C=1, gamma=0.001, kernel=linear;, score=0.982 total time=   0.0s\n",
      "[CV 4/5] END ...C=1, gamma=0.001, kernel=linear;, score=0.964 total time=   0.0s\n",
      "[CV 5/5] END ...C=1, gamma=0.001, kernel=linear;, score=0.982 total time=   0.0s\n",
      "[CV 1/5] END .....C=1, gamma=0.0001, kernel=rbf;, score=0.946 total time=   0.0s\n",
      "[CV 2/5] END .....C=1, gamma=0.0001, kernel=rbf;, score=0.964 total time=   0.0s\n",
      "[CV 3/5] END .....C=1, gamma=0.0001, kernel=rbf;, score=0.946 total time=   0.0s\n",
      "[CV 4/5] END .....C=1, gamma=0.0001, kernel=rbf;, score=0.982 total time=   0.0s\n",
      "[CV 5/5] END .....C=1, gamma=0.0001, kernel=rbf;, score=0.955 total time=   0.0s\n",
      "[CV 1/5] END ..C=1, gamma=0.0001, kernel=linear;, score=0.946 total time=   0.0s\n",
      "[CV 2/5] END ..C=1, gamma=0.0001, kernel=linear;, score=0.964 total time=   0.0s\n",
      "[CV 3/5] END ..C=1, gamma=0.0001, kernel=linear;, score=0.982 total time=   0.0s\n",
      "[CV 4/5] END ..C=1, gamma=0.0001, kernel=linear;, score=0.964 total time=   0.0s\n",
      "[CV 5/5] END ..C=1, gamma=0.0001, kernel=linear;, score=0.982 total time=   0.0s\n",
      "[CV 1/5] END .........C=10, gamma=1, kernel=rbf;, score=0.884 total time=   0.0s\n",
      "[CV 2/5] END .........C=10, gamma=1, kernel=rbf;, score=0.884 total time=   0.0s\n",
      "[CV 3/5] END .........C=10, gamma=1, kernel=rbf;, score=0.911 total time=   0.0s\n",
      "[CV 4/5] END .........C=10, gamma=1, kernel=rbf;, score=0.911 total time=   0.0s\n",
      "[CV 5/5] END .........C=10, gamma=1, kernel=rbf;, score=0.893 total time=   0.0s\n",
      "[CV 1/5] END ......C=10, gamma=1, kernel=linear;, score=0.946 total time=   0.0s\n",
      "[CV 2/5] END ......C=10, gamma=1, kernel=linear;, score=0.964 total time=   0.0s\n",
      "[CV 3/5] END ......C=10, gamma=1, kernel=linear;, score=0.973 total time=   0.0s\n",
      "[CV 4/5] END ......C=10, gamma=1, kernel=linear;, score=0.964 total time=   0.0s\n",
      "[CV 5/5] END ......C=10, gamma=1, kernel=linear;, score=0.982 total time=   0.0s\n",
      "[CV 1/5] END .......C=10, gamma=0.1, kernel=rbf;, score=0.938 total time=   0.0s\n",
      "[CV 2/5] END .......C=10, gamma=0.1, kernel=rbf;, score=0.955 total time=   0.0s\n",
      "[CV 3/5] END .......C=10, gamma=0.1, kernel=rbf;, score=1.000 total time=   0.0s\n",
      "[CV 4/5] END .......C=10, gamma=0.1, kernel=rbf;, score=0.973 total time=   0.0s\n",
      "[CV 5/5] END .......C=10, gamma=0.1, kernel=rbf;, score=0.991 total time=   0.0s\n",
      "[CV 1/5] END ....C=10, gamma=0.1, kernel=linear;, score=0.946 total time=   0.0s\n",
      "[CV 2/5] END ....C=10, gamma=0.1, kernel=linear;, score=0.964 total time=   0.0s\n",
      "[CV 3/5] END ....C=10, gamma=0.1, kernel=linear;, score=0.973 total time=   0.0s\n",
      "[CV 4/5] END ....C=10, gamma=0.1, kernel=linear;, score=0.964 total time=   0.0s\n",
      "[CV 5/5] END ....C=10, gamma=0.1, kernel=linear;, score=0.982 total time=   0.0s\n",
      "[CV 1/5] END ......C=10, gamma=0.01, kernel=rbf;, score=0.938 total time=   0.0s\n",
      "[CV 2/5] END ......C=10, gamma=0.01, kernel=rbf;, score=0.964 total time=   0.0s\n",
      "[CV 3/5] END ......C=10, gamma=0.01, kernel=rbf;, score=0.973 total time=   0.0s\n",
      "[CV 4/5] END ......C=10, gamma=0.01, kernel=rbf;, score=0.973 total time=   0.0s\n",
      "[CV 5/5] END ......C=10, gamma=0.01, kernel=rbf;, score=0.991 total time=   0.0s\n",
      "[CV 1/5] END ...C=10, gamma=0.01, kernel=linear;, score=0.946 total time=   0.0s\n",
      "[CV 2/5] END ...C=10, gamma=0.01, kernel=linear;, score=0.964 total time=   0.0s\n",
      "[CV 3/5] END ...C=10, gamma=0.01, kernel=linear;, score=0.973 total time=   0.0s\n",
      "[CV 4/5] END ...C=10, gamma=0.01, kernel=linear;, score=0.964 total time=   0.0s\n",
      "[CV 5/5] END ...C=10, gamma=0.01, kernel=linear;, score=0.982 total time=   0.0s\n",
      "[CV 1/5] END .....C=10, gamma=0.001, kernel=rbf;, score=0.946 total time=   0.0s\n",
      "[CV 2/5] END .....C=10, gamma=0.001, kernel=rbf;, score=0.964 total time=   0.0s\n",
      "[CV 3/5] END .....C=10, gamma=0.001, kernel=rbf;, score=0.982 total time=   0.0s\n",
      "[CV 4/5] END .....C=10, gamma=0.001, kernel=rbf;, score=0.973 total time=   0.0s\n",
      "[CV 5/5] END .....C=10, gamma=0.001, kernel=rbf;, score=0.982 total time=   0.0s\n",
      "[CV 1/5] END ..C=10, gamma=0.001, kernel=linear;, score=0.946 total time=   0.0s\n",
      "[CV 2/5] END ..C=10, gamma=0.001, kernel=linear;, score=0.964 total time=   0.0s\n",
      "[CV 3/5] END ..C=10, gamma=0.001, kernel=linear;, score=0.973 total time=   0.0s\n",
      "[CV 4/5] END ..C=10, gamma=0.001, kernel=linear;, score=0.964 total time=   0.0s\n",
      "[CV 5/5] END ..C=10, gamma=0.001, kernel=linear;, score=0.982 total time=   0.0s\n",
      "[CV 1/5] END ....C=10, gamma=0.0001, kernel=rbf;, score=0.946 total time=   0.0s\n",
      "[CV 2/5] END ....C=10, gamma=0.0001, kernel=rbf;, score=0.964 total time=   0.0s\n",
      "[CV 3/5] END ....C=10, gamma=0.0001, kernel=rbf;, score=0.964 total time=   0.0s\n",
      "[CV 4/5] END ....C=10, gamma=0.0001, kernel=rbf;, score=0.973 total time=   0.0s\n",
      "[CV 5/5] END ....C=10, gamma=0.0001, kernel=rbf;, score=0.982 total time=   0.0s\n",
      "[CV 1/5] END .C=10, gamma=0.0001, kernel=linear;, score=0.946 total time=   0.0s\n",
      "[CV 2/5] END .C=10, gamma=0.0001, kernel=linear;, score=0.964 total time=   0.0s\n",
      "[CV 3/5] END .C=10, gamma=0.0001, kernel=linear;, score=0.973 total time=   0.0s\n",
      "[CV 4/5] END .C=10, gamma=0.0001, kernel=linear;, score=0.964 total time=   0.0s\n",
      "[CV 5/5] END .C=10, gamma=0.0001, kernel=linear;, score=0.982 total time=   0.0s\n",
      "[CV 1/5] END ........C=100, gamma=1, kernel=rbf;, score=0.884 total time=   0.0s\n",
      "[CV 2/5] END ........C=100, gamma=1, kernel=rbf;, score=0.884 total time=   0.0s\n",
      "[CV 3/5] END ........C=100, gamma=1, kernel=rbf;, score=0.911 total time=   0.0s\n",
      "[CV 4/5] END ........C=100, gamma=1, kernel=rbf;, score=0.911 total time=   0.0s\n",
      "[CV 5/5] END ........C=100, gamma=1, kernel=rbf;, score=0.893 total time=   0.0s\n",
      "[CV 1/5] END .....C=100, gamma=1, kernel=linear;, score=0.946 total time=   0.0s\n",
      "[CV 2/5] END .....C=100, gamma=1, kernel=linear;, score=0.964 total time=   0.1s\n",
      "[CV 3/5] END .....C=100, gamma=1, kernel=linear;, score=0.973 total time=   0.1s\n",
      "[CV 4/5] END .....C=100, gamma=1, kernel=linear;, score=0.964 total time=   0.0s\n",
      "[CV 5/5] END .....C=100, gamma=1, kernel=linear;, score=0.982 total time=   0.1s\n",
      "[CV 1/5] END ......C=100, gamma=0.1, kernel=rbf;, score=0.938 total time=   0.0s\n",
      "[CV 2/5] END ......C=100, gamma=0.1, kernel=rbf;, score=0.955 total time=   0.0s\n",
      "[CV 3/5] END ......C=100, gamma=0.1, kernel=rbf;, score=1.000 total time=   0.0s\n",
      "[CV 4/5] END ......C=100, gamma=0.1, kernel=rbf;, score=0.973 total time=   0.0s\n",
      "[CV 5/5] END ......C=100, gamma=0.1, kernel=rbf;, score=0.991 total time=   0.0s\n",
      "[CV 1/5] END ...C=100, gamma=0.1, kernel=linear;, score=0.946 total time=   0.0s\n",
      "[CV 2/5] END ...C=100, gamma=0.1, kernel=linear;, score=0.964 total time=   0.1s\n",
      "[CV 3/5] END ...C=100, gamma=0.1, kernel=linear;, score=0.973 total time=   0.1s\n",
      "[CV 4/5] END ...C=100, gamma=0.1, kernel=linear;, score=0.964 total time=   0.0s\n",
      "[CV 5/5] END ...C=100, gamma=0.1, kernel=linear;, score=0.982 total time=   0.1s\n",
      "[CV 1/5] END .....C=100, gamma=0.01, kernel=rbf;, score=0.946 total time=   0.0s\n",
      "[CV 2/5] END .....C=100, gamma=0.01, kernel=rbf;, score=0.955 total time=   0.0s\n",
      "[CV 3/5] END .....C=100, gamma=0.01, kernel=rbf;, score=0.946 total time=   0.0s\n",
      "[CV 4/5] END .....C=100, gamma=0.01, kernel=rbf;, score=0.973 total time=   0.0s\n",
      "[CV 5/5] END .....C=100, gamma=0.01, kernel=rbf;, score=0.955 total time=   0.0s\n",
      "[CV 1/5] END ..C=100, gamma=0.01, kernel=linear;, score=0.946 total time=   0.0s\n",
      "[CV 2/5] END ..C=100, gamma=0.01, kernel=linear;, score=0.964 total time=   0.0s\n",
      "[CV 3/5] END ..C=100, gamma=0.01, kernel=linear;, score=0.973 total time=   0.1s\n",
      "[CV 4/5] END ..C=100, gamma=0.01, kernel=linear;, score=0.964 total time=   0.0s\n",
      "[CV 5/5] END ..C=100, gamma=0.01, kernel=linear;, score=0.982 total time=   0.1s\n",
      "[CV 1/5] END ....C=100, gamma=0.001, kernel=rbf;, score=0.946 total time=   0.0s\n",
      "[CV 2/5] END ....C=100, gamma=0.001, kernel=rbf;, score=0.964 total time=   0.0s\n",
      "[CV 3/5] END ....C=100, gamma=0.001, kernel=rbf;, score=0.982 total time=   0.0s\n",
      "[CV 4/5] END ....C=100, gamma=0.001, kernel=rbf;, score=0.982 total time=   0.0s\n",
      "[CV 5/5] END ....C=100, gamma=0.001, kernel=rbf;, score=0.991 total time=   0.0s\n",
      "[CV 1/5] END .C=100, gamma=0.001, kernel=linear;, score=0.946 total time=   0.0s\n",
      "[CV 2/5] END .C=100, gamma=0.001, kernel=linear;, score=0.964 total time=   0.1s\n",
      "[CV 3/5] END .C=100, gamma=0.001, kernel=linear;, score=0.973 total time=   0.1s\n",
      "[CV 4/5] END .C=100, gamma=0.001, kernel=linear;, score=0.964 total time=   0.0s\n",
      "[CV 5/5] END .C=100, gamma=0.001, kernel=linear;, score=0.982 total time=   0.1s\n",
      "[CV 1/5] END ...C=100, gamma=0.0001, kernel=rbf;, score=0.946 total time=   0.0s\n",
      "[CV 2/5] END ...C=100, gamma=0.0001, kernel=rbf;, score=0.964 total time=   0.0s\n",
      "[CV 3/5] END ...C=100, gamma=0.0001, kernel=rbf;, score=0.982 total time=   0.0s\n",
      "[CV 4/5] END ...C=100, gamma=0.0001, kernel=rbf;, score=0.973 total time=   0.0s\n",
      "[CV 5/5] END ...C=100, gamma=0.0001, kernel=rbf;, score=0.982 total time=   0.0s\n",
      "[CV 1/5] END C=100, gamma=0.0001, kernel=linear;, score=0.946 total time=   0.0s\n",
      "[CV 2/5] END C=100, gamma=0.0001, kernel=linear;, score=0.964 total time=   0.1s\n",
      "[CV 3/5] END C=100, gamma=0.0001, kernel=linear;, score=0.973 total time=   0.1s\n",
      "[CV 4/5] END C=100, gamma=0.0001, kernel=linear;, score=0.964 total time=   0.0s\n",
      "[CV 5/5] END C=100, gamma=0.0001, kernel=linear;, score=0.982 total time=   0.1s\n",
      "[CV 1/5] END .......C=1000, gamma=1, kernel=rbf;, score=0.884 total time=   0.0s\n",
      "[CV 2/5] END .......C=1000, gamma=1, kernel=rbf;, score=0.884 total time=   0.0s\n",
      "[CV 3/5] END .......C=1000, gamma=1, kernel=rbf;, score=0.911 total time=   0.0s\n",
      "[CV 4/5] END .......C=1000, gamma=1, kernel=rbf;, score=0.911 total time=   0.0s\n",
      "[CV 5/5] END .......C=1000, gamma=1, kernel=rbf;, score=0.893 total time=   0.0s\n",
      "[CV 1/5] END ....C=1000, gamma=1, kernel=linear;, score=0.946 total time=   1.8s\n",
      "[CV 2/5] END ....C=1000, gamma=1, kernel=linear;, score=0.955 total time=   1.5s\n",
      "[CV 3/5] END ....C=1000, gamma=1, kernel=linear;, score=0.973 total time=   1.4s\n",
      "[CV 4/5] END ....C=1000, gamma=1, kernel=linear;, score=0.964 total time=   0.9s\n",
      "[CV 5/5] END ....C=1000, gamma=1, kernel=linear;, score=0.982 total time=   1.1s\n",
      "[CV 1/5] END .....C=1000, gamma=0.1, kernel=rbf;, score=0.938 total time=   0.0s\n",
      "[CV 2/5] END .....C=1000, gamma=0.1, kernel=rbf;, score=0.955 total time=   0.0s\n",
      "[CV 3/5] END .....C=1000, gamma=0.1, kernel=rbf;, score=1.000 total time=   0.0s\n",
      "[CV 4/5] END .....C=1000, gamma=0.1, kernel=rbf;, score=0.973 total time=   0.0s\n",
      "[CV 5/5] END .....C=1000, gamma=0.1, kernel=rbf;, score=0.991 total time=   0.0s\n",
      "[CV 1/5] END ..C=1000, gamma=0.1, kernel=linear;, score=0.946 total time=   1.8s\n",
      "[CV 2/5] END ..C=1000, gamma=0.1, kernel=linear;, score=0.955 total time=   1.4s\n",
      "[CV 3/5] END ..C=1000, gamma=0.1, kernel=linear;, score=0.973 total time=   1.4s\n",
      "[CV 4/5] END ..C=1000, gamma=0.1, kernel=linear;, score=0.964 total time=   0.9s\n",
      "[CV 5/5] END ..C=1000, gamma=0.1, kernel=linear;, score=0.982 total time=   1.2s\n",
      "[CV 1/5] END ....C=1000, gamma=0.01, kernel=rbf;, score=0.946 total time=   0.0s\n",
      "[CV 2/5] END ....C=1000, gamma=0.01, kernel=rbf;, score=0.955 total time=   0.0s\n",
      "[CV 3/5] END ....C=1000, gamma=0.01, kernel=rbf;, score=0.938 total time=   0.0s\n",
      "[CV 4/5] END ....C=1000, gamma=0.01, kernel=rbf;, score=0.973 total time=   0.0s\n",
      "[CV 5/5] END ....C=1000, gamma=0.01, kernel=rbf;, score=0.964 total time=   0.0s\n",
      "[CV 1/5] END .C=1000, gamma=0.01, kernel=linear;, score=0.946 total time=   1.8s\n",
      "[CV 2/5] END .C=1000, gamma=0.01, kernel=linear;, score=0.955 total time=   1.4s\n",
      "[CV 3/5] END .C=1000, gamma=0.01, kernel=linear;, score=0.973 total time=   1.4s\n",
      "[CV 4/5] END .C=1000, gamma=0.01, kernel=linear;, score=0.964 total time=   0.9s\n",
      "[CV 5/5] END .C=1000, gamma=0.01, kernel=linear;, score=0.982 total time=   1.2s\n",
      "[CV 1/5] END ...C=1000, gamma=0.001, kernel=rbf;, score=0.938 total time=   0.0s\n",
      "[CV 2/5] END ...C=1000, gamma=0.001, kernel=rbf;, score=0.955 total time=   0.0s\n",
      "[CV 3/5] END ...C=1000, gamma=0.001, kernel=rbf;, score=0.964 total time=   0.0s\n",
      "[CV 4/5] END ...C=1000, gamma=0.001, kernel=rbf;, score=0.955 total time=   0.0s\n",
      "[CV 5/5] END ...C=1000, gamma=0.001, kernel=rbf;, score=0.982 total time=   0.0s\n",
      "[CV 1/5] END C=1000, gamma=0.001, kernel=linear;, score=0.946 total time=   1.9s\n",
      "[CV 2/5] END C=1000, gamma=0.001, kernel=linear;, score=0.955 total time=   1.5s\n",
      "[CV 3/5] END C=1000, gamma=0.001, kernel=linear;, score=0.973 total time=   1.4s\n",
      "[CV 4/5] END C=1000, gamma=0.001, kernel=linear;, score=0.964 total time=   0.8s\n",
      "[CV 5/5] END C=1000, gamma=0.001, kernel=linear;, score=0.982 total time=   1.2s\n",
      "[CV 1/5] END ..C=1000, gamma=0.0001, kernel=rbf;, score=0.946 total time=   0.0s\n",
      "[CV 2/5] END ..C=1000, gamma=0.0001, kernel=rbf;, score=0.964 total time=   0.0s\n",
      "[CV 3/5] END ..C=1000, gamma=0.0001, kernel=rbf;, score=0.982 total time=   0.0s\n",
      "[CV 4/5] END ..C=1000, gamma=0.0001, kernel=rbf;, score=0.973 total time=   0.0s\n",
      "[CV 5/5] END ..C=1000, gamma=0.0001, kernel=rbf;, score=0.991 total time=   0.0s\n",
      "[CV 1/5] END C=1000, gamma=0.0001, kernel=linear;, score=0.946 total time=   1.9s\n",
      "[CV 2/5] END C=1000, gamma=0.0001, kernel=linear;, score=0.955 total time=   1.4s\n",
      "[CV 3/5] END C=1000, gamma=0.0001, kernel=linear;, score=0.973 total time=   1.5s\n",
      "[CV 4/5] END C=1000, gamma=0.0001, kernel=linear;, score=0.964 total time=   0.9s\n",
      "[CV 5/5] END C=1000, gamma=0.0001, kernel=linear;, score=0.982 total time=   1.2s\n",
      "[CV 1/5] END ......C=10000, gamma=1, kernel=rbf;, score=0.884 total time=   0.0s\n",
      "[CV 2/5] END ......C=10000, gamma=1, kernel=rbf;, score=0.884 total time=   0.0s\n",
      "[CV 3/5] END ......C=10000, gamma=1, kernel=rbf;, score=0.911 total time=   0.0s\n",
      "[CV 4/5] END ......C=10000, gamma=1, kernel=rbf;, score=0.911 total time=   0.0s\n",
      "[CV 5/5] END ......C=10000, gamma=1, kernel=rbf;, score=0.893 total time=   0.0s\n",
      "[CV 1/5] END ...C=10000, gamma=1, kernel=linear;, score=0.946 total time=  17.9s\n",
      "[CV 2/5] END ...C=10000, gamma=1, kernel=linear;, score=0.955 total time=  13.3s\n",
      "[CV 3/5] END ...C=10000, gamma=1, kernel=linear;, score=0.973 total time=  14.6s\n",
      "[CV 4/5] END ...C=10000, gamma=1, kernel=linear;, score=0.964 total time=  15.3s\n",
      "[CV 5/5] END ...C=10000, gamma=1, kernel=linear;, score=0.982 total time=  11.6s\n",
      "[CV 1/5] END ....C=10000, gamma=0.1, kernel=rbf;, score=0.938 total time=   0.0s\n",
      "[CV 2/5] END ....C=10000, gamma=0.1, kernel=rbf;, score=0.955 total time=   0.0s\n",
      "[CV 3/5] END ....C=10000, gamma=0.1, kernel=rbf;, score=1.000 total time=   0.0s\n",
      "[CV 4/5] END ....C=10000, gamma=0.1, kernel=rbf;, score=0.973 total time=   0.0s\n",
      "[CV 5/5] END ....C=10000, gamma=0.1, kernel=rbf;, score=0.991 total time=   0.0s\n",
      "[CV 1/5] END .C=10000, gamma=0.1, kernel=linear;, score=0.946 total time=  18.0s\n",
      "[CV 2/5] END .C=10000, gamma=0.1, kernel=linear;, score=0.955 total time=  13.4s\n",
      "[CV 3/5] END .C=10000, gamma=0.1, kernel=linear;, score=0.973 total time=  14.4s\n",
      "[CV 4/5] END .C=10000, gamma=0.1, kernel=linear;, score=0.964 total time=  14.7s\n",
      "[CV 5/5] END .C=10000, gamma=0.1, kernel=linear;, score=0.982 total time=  11.3s\n",
      "[CV 1/5] END ...C=10000, gamma=0.01, kernel=rbf;, score=0.946 total time=   0.0s\n",
      "[CV 2/5] END ...C=10000, gamma=0.01, kernel=rbf;, score=0.955 total time=   0.0s\n",
      "[CV 3/5] END ...C=10000, gamma=0.01, kernel=rbf;, score=0.938 total time=   0.0s\n",
      "[CV 4/5] END ...C=10000, gamma=0.01, kernel=rbf;, score=0.973 total time=   0.0s\n",
      "[CV 5/5] END ...C=10000, gamma=0.01, kernel=rbf;, score=0.964 total time=   0.0s\n",
      "[CV 1/5] END C=10000, gamma=0.01, kernel=linear;, score=0.946 total time=  17.4s\n",
      "[CV 2/5] END C=10000, gamma=0.01, kernel=linear;, score=0.955 total time=  13.0s\n",
      "[CV 3/5] END C=10000, gamma=0.01, kernel=linear;, score=0.973 total time=  14.2s\n",
      "[CV 4/5] END C=10000, gamma=0.01, kernel=linear;, score=0.964 total time=  15.0s\n",
      "[CV 5/5] END C=10000, gamma=0.01, kernel=linear;, score=0.982 total time=  11.4s\n",
      "[CV 1/5] END ..C=10000, gamma=0.001, kernel=rbf;, score=0.938 total time=   0.0s\n",
      "[CV 2/5] END ..C=10000, gamma=0.001, kernel=rbf;, score=0.946 total time=   0.0s\n",
      "[CV 3/5] END ..C=10000, gamma=0.001, kernel=rbf;, score=0.964 total time=   0.0s\n",
      "[CV 4/5] END ..C=10000, gamma=0.001, kernel=rbf;, score=0.946 total time=   0.0s\n",
      "[CV 5/5] END ..C=10000, gamma=0.001, kernel=rbf;, score=0.946 total time=   0.0s\n",
      "[CV 1/5] END C=10000, gamma=0.001, kernel=linear;, score=0.946 total time=  17.7s\n",
      "[CV 2/5] END C=10000, gamma=0.001, kernel=linear;, score=0.955 total time=  12.3s\n",
      "[CV 3/5] END C=10000, gamma=0.001, kernel=linear;, score=0.973 total time=  14.0s\n",
      "[CV 4/5] END C=10000, gamma=0.001, kernel=linear;, score=0.964 total time=  15.0s\n",
      "[CV 5/5] END C=10000, gamma=0.001, kernel=linear;, score=0.982 total time=  11.4s\n",
      "[CV 1/5] END .C=10000, gamma=0.0001, kernel=rbf;, score=0.946 total time=   0.0s\n",
      "[CV 2/5] END .C=10000, gamma=0.0001, kernel=rbf;, score=0.964 total time=   0.0s\n",
      "[CV 3/5] END .C=10000, gamma=0.0001, kernel=rbf;, score=0.982 total time=   0.0s\n",
      "[CV 4/5] END .C=10000, gamma=0.0001, kernel=rbf;, score=0.973 total time=   0.0s\n",
      "[CV 5/5] END .C=10000, gamma=0.0001, kernel=rbf;, score=0.991 total time=   0.0s\n",
      "[CV 1/5] END C=10000, gamma=0.0001, kernel=linear;, score=0.946 total time=  17.6s\n",
      "[CV 2/5] END C=10000, gamma=0.0001, kernel=linear;, score=0.955 total time=  13.0s\n",
      "[CV 3/5] END C=10000, gamma=0.0001, kernel=linear;, score=0.973 total time=  14.5s\n",
      "[CV 4/5] END C=10000, gamma=0.0001, kernel=linear;, score=0.964 total time=  15.1s\n",
      "[CV 5/5] END C=10000, gamma=0.0001, kernel=linear;, score=0.982 total time=  11.3s\n",
      "{'C': 1, 'gamma': 0.01, 'kernel': 'rbf'}\n"
     ]
    }
   ],
   "source": [
    "param_grid = {\n",
    "    'C':[0.1,1,10,100,1000,10000],\n",
    "     'gamma':[1,0.1,0.01,0.001,0.0001],\n",
    "      'kernel':['rbf','linear']\n",
    "}\n",
    "\n",
    "Grid_Search = GridSearchCV(SVC(),param_grid,refit=True,verbose=3)\n",
    "Grid_Search.fit(X_train,Y_train)\n",
    "print(Grid_Search.best_params_)\n",
    "# now after running GridSearchCV, I get C=1, gamma = 0.01, kernel = 'rbf'"
   ]
  },
  {
   "cell_type": "code",
   "execution_count": 129,
   "id": "d5c16662",
   "metadata": {},
   "outputs": [],
   "source": [
    "accuracy_for_svm_param=[]"
   ]
  },
  {
   "cell_type": "code",
   "execution_count": 130,
   "id": "eac08e53",
   "metadata": {},
   "outputs": [],
   "source": [
    "# now I am going to try with the parameters generated from GridSearchCV with the help of K-Fold Cross Validation...\n",
    "# why I am using GridSearchCV is because Comparing with RandomizedSearchCV, GridSearchCV gives best parameters as RandomizedSearchCV gives only random parameters...\n",
    "for train,test in kf.split(X):\n",
    "    # print(train)\n",
    "    X_tra,X_tes = X[train],X[test]\n",
    "    Y_tra,Y_tes = Y[train],Y[test]\n",
    "    # now I am going to implement SVM without any parameter mentioning for the model ...\n",
    "    svmm1 = SVC(C=1, gamma= 0.01, kernel= 'rbf')\n",
    "    # lr1 = LogisticRegression(C=0.1,fit_intercept=1)\n",
    "    svmm1.fit(X_tra,Y_tra)\n",
    "    # now I am going to generate the values predicted by Logistic Regression algorithm...\n",
    "    Y_pred_for_SVM11 = svmm1.predict(X_tes)\n",
    "    # now Calculate the accuracy\n",
    "    accuraci = accuracy_score(Y_tes,Y_pred_for_SVM11)\n",
    "    accuracy_for_svm_param.append(accuraci)"
   ]
  },
  {
   "cell_type": "code",
   "execution_count": 131,
   "id": "c1e84e51",
   "metadata": {},
   "outputs": [
    {
     "name": "stdout",
     "output_type": "stream",
     "text": [
      "0.95\n",
      "0.9857142857142858\n",
      "1.0\n",
      "0.9714285714285714\n",
      "0.9428571428571428\n"
     ]
    }
   ],
   "source": [
    "for j in accuracy_for_svm_param:\n",
    "    print(j)"
   ]
  },
  {
   "cell_type": "code",
   "execution_count": 132,
   "id": "6344a272",
   "metadata": {},
   "outputs": [
    {
     "name": "stdout",
     "output_type": "stream",
     "text": [
      "Accuracy for svm with Parameters:  0.9700000000000001\n"
     ]
    }
   ],
   "source": [
    "print(f\"Accuracy for svm with Parameters: \",(np.mean(accuracy_for_svm_param)))"
   ]
  },
  {
   "cell_type": "code",
   "execution_count": 133,
   "id": "11a440a9",
   "metadata": {},
   "outputs": [],
   "source": [
    "accuracies_stratified_svm=[]"
   ]
  },
  {
   "cell_type": "code",
   "execution_count": 134,
   "id": "10f770b8",
   "metadata": {},
   "outputs": [],
   "source": [
    "# for SVM without cross validation, we are getting accuracy of 95% \n",
    "# and for SVM with Best parameters and K-fold cross validation, we are getting 97% Accuracy....\n",
    "# now let's try for Stratified K-fold Cross validation...\n",
    "for training, testing in STR.split(X,Y):\n",
    "    X_training,X_testing,Y_training,Y_testing = X[training],X[testing],Y[training],Y[testing]\n",
    "    # now I am going to implement SVM with specified parameters for the model with the help of those best parameters which we obtained using GridSearchCV ...\n",
    "    svm_stratified = SVC(C=1, gamma= 0.01, kernel= 'rbf')\n",
    "    # lr1 = LogisticRegression()\n",
    "    svm_stratified.fit(X_training,Y_training)\n",
    "    # now I am going to generate the values predicted by Logistic Regression algorithm...\n",
    "    Y_pred_for_stratified_svm = svm_stratified.predict(X_testing)\n",
    "    # now Calculate the accuracy\n",
    "    accuracy_stratified_svm = accuracy_score(Y_testing,Y_pred_for_stratified_svm)\n",
    "    accuracies_stratified_svm.append(accuracy_stratified_svm)"
   ]
  },
  {
   "cell_type": "code",
   "execution_count": 135,
   "id": "f9b75d83",
   "metadata": {},
   "outputs": [
    {
     "name": "stdout",
     "output_type": "stream",
     "text": [
      "0.9642857142857143\n",
      "0.95\n",
      "0.9857142857142858\n",
      "0.9714285714285714\n",
      "0.9785714285714285\n"
     ]
    }
   ],
   "source": [
    "for l in accuracies_stratified_svm:\n",
    "    print(l)"
   ]
  },
  {
   "cell_type": "code",
   "execution_count": 136,
   "id": "456bbbaa",
   "metadata": {},
   "outputs": [
    {
     "name": "stdout",
     "output_type": "stream",
     "text": [
      "Accuracy after stratified K-Fold for SVM is:  0.97\n"
     ]
    }
   ],
   "source": [
    "print(f\"Accuracy after stratified K-Fold for SVM is: \",np.mean(accuracies_stratified_svm))"
   ]
  },
  {
   "cell_type": "code",
   "execution_count": 137,
   "id": "28052cbc",
   "metadata": {},
   "outputs": [
    {
     "data": {
      "image/png": "[encoded data removed]",
      "text/plain": [
       "<Figure size 640x480 with 2 Axes>"
      ]
     },
     "metadata": {},
     "output_type": "display_data"
    }
   ],
   "source": [
    "confusion_matrix_for_classification(Y_testing, Y_pred_for_stratified_svm,'Confusion Matrix for SVM with Stratified K-Fold Cross Validation')"
   ]
  },
  {
   "cell_type": "code",
   "execution_count": 138,
   "id": "623c416d",
   "metadata": {},
   "outputs": [
    {
     "name": "stdout",
     "output_type": "stream",
     "text": [
      "Accuracy Score:  0.9785714285714285\n",
      "Recall Score:  0.9785714285714285\n",
      "Precision Score:  0.9785714285714285\n",
      "F1-score:  0.9785714285714285\n",
      "Classification Report:                precision    recall  f1-score   support\n",
      "\n",
      "           0       0.99      0.98      0.98        91\n",
      "           1       0.96      0.98      0.97        49\n",
      "\n",
      "    accuracy                           0.98       140\n",
      "   macro avg       0.97      0.98      0.98       140\n",
      "weighted avg       0.98      0.98      0.98       140\n",
      "\n"
     ]
    }
   ],
   "source": [
    "accuracy_recall_precision(Y_testing, Y_pred_for_stratified_svm)"
   ]
  },
  {
   "cell_type": "code",
   "execution_count": 139,
   "id": "31491dde",
   "metadata": {},
   "outputs": [],
   "source": [
    "# in report , I have added only Stratified K-Fold Cross Validation because as we all know K-fold Cross Validation only gives lesser accuracy as compared to Stratified K-Fold Cross Validation..."
   ]
  },
  {
   "cell_type": "code",
   "execution_count": 140,
   "id": "a71f0089",
   "metadata": {},
   "outputs": [
    {
     "name": "stdout",
     "output_type": "stream",
     "text": [
      "Accuracy Score:  0.8928571428571429\n",
      "Recall Score:  0.8928571428571429\n",
      "Precision Score:  0.8928571428571429\n",
      "F1-score:  0.8928571428571429\n",
      "Classification Report:                precision    recall  f1-score   support\n",
      "\n",
      "           0       0.89      0.96      0.92        91\n",
      "           1       0.90      0.78      0.84        49\n",
      "\n",
      "    accuracy                           0.89       140\n",
      "   macro avg       0.90      0.87      0.88       140\n",
      "weighted avg       0.89      0.89      0.89       140\n",
      "\n"
     ]
    }
   ],
   "source": [
    "accuracy_recall_precision(Y_testMB,Y_pred_Stratified_Mulm)"
   ]
  },
  {
   "cell_type": "code",
   "execution_count": null,
   "id": "328a60da",
   "metadata": {},
   "outputs": [],
   "source": []
  }
 ],
 "metadata": {
  "kernelspec": {
   "display_name": "Python 3 (ipykernel)",
   "language": "python",
   "name": "python3"
  },
  "language_info": {
   "codemirror_mode": {
    "name": "ipython",
    "version": 3
   },
   "file_extension": ".py",
   "mimetype": "text/x-python",
   "name": "python",
   "nbconvert_exporter": "python",
   "pygments_lexer": "ipython3",
   "version": "3.11.5"
  }
 },
 "nbformat": 4,
 "nbformat_minor": 5
}
